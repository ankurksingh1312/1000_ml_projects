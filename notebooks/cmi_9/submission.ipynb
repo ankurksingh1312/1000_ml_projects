{
 "cells": [
  {
   "cell_type": "code",
   "execution_count": 1,
   "metadata": {},
   "outputs": [],
   "source": [
    "import pandas as pd\n",
    "import numpy as np"
   ]
  },
  {
   "cell_type": "code",
   "execution_count": 2,
   "metadata": {},
   "outputs": [
    {
     "data": {
      "text/plain": [
       "{'Above ear - pull hair': 0,\n",
       " 'Forehead - pull hairline': 1,\n",
       " 'Forehead - scratch': 2,\n",
       " 'Eyebrow - pull hair': 3,\n",
       " 'Eyelash - pull hair': 4,\n",
       " 'Neck - pinch skin': 5,\n",
       " 'Neck - scratch': 6,\n",
       " 'Cheek - pinch skin': 7}"
      ]
     },
     "execution_count": 2,
     "metadata": {},
     "output_type": "execute_result"
    }
   ],
   "source": [
    "target_classes = [\n",
    "    'Above ear - pull hair',\n",
    "    'Forehead - pull hairline',\n",
    "    'Forehead - scratch',\n",
    "    'Eyebrow - pull hair',\n",
    "    'Eyelash - pull hair',\n",
    "    'Neck - pinch skin',\n",
    "    'Neck - scratch',\n",
    "    'Cheek - pinch skin'\n",
    "]\n",
    "class_map = {cls: i for i, cls in enumerate(target_classes)}\n",
    "class_map"
   ]
  },
  {
   "cell_type": "code",
   "execution_count": 10,
   "metadata": {},
   "outputs": [
    {
     "name": "stderr",
     "output_type": "stream",
     "text": [
      "2025-09-01 20:50:02.941050: I external/local_xla/xla/tsl/cuda/cudart_stub.cc:31] Could not find cuda drivers on your machine, GPU will not be used.\n",
      "2025-09-01 20:50:02.941298: I tensorflow/core/util/port.cc:153] oneDNN custom operations are on. You may see slightly different numerical results due to floating-point round-off errors from different computation orders. To turn them off, set the environment variable `TF_ENABLE_ONEDNN_OPTS=0`.\n",
      "2025-09-01 20:50:02.972002: I tensorflow/core/platform/cpu_feature_guard.cc:210] This TensorFlow binary is optimized to use available CPU instructions in performance-critical operations.\n",
      "To enable the following instructions: AVX2 AVX_VNNI FMA, in other operations, rebuild TensorFlow with the appropriate compiler flags.\n",
      "2025-09-01 20:50:03.781585: I tensorflow/core/util/port.cc:153] oneDNN custom operations are on. You may see slightly different numerical results due to floating-point round-off errors from different computation orders. To turn them off, set the environment variable `TF_ENABLE_ONEDNN_OPTS=0`.\n",
      "2025-09-01 20:50:03.782093: I external/local_xla/xla/tsl/cuda/cudart_stub.cc:31] Could not find cuda drivers on your machine, GPU will not be used.\n",
      "2025-09-01 20:50:06.255971: E external/local_xla/xla/stream_executor/cuda/cuda_platform.cc:51] failed call to cuInit: INTERNAL: CUDA error: Failed call to cuInit: CUDA_ERROR_UNKNOWN: unknown error\n",
      "2025-09-01 20:50:06.255994: I external/local_xla/xla/stream_executor/cuda/cuda_diagnostics.cc:171] verbose logging is disabled. Rerun with verbose logging (usually --v=1 or --vmodule=cuda_diagnostics=1) to get more diagnostic output from this module\n",
      "2025-09-01 20:50:06.255998: I external/local_xla/xla/stream_executor/cuda/cuda_diagnostics.cc:176] retrieving CUDA diagnostic information for host: ankur-Legion-5-15IRX9\n",
      "2025-09-01 20:50:06.256000: I external/local_xla/xla/stream_executor/cuda/cuda_diagnostics.cc:183] hostname: ankur-Legion-5-15IRX9\n",
      "2025-09-01 20:50:06.256134: I external/local_xla/xla/stream_executor/cuda/cuda_diagnostics.cc:190] libcuda reported version is: 575.64.3\n",
      "2025-09-01 20:50:06.256142: I external/local_xla/xla/stream_executor/cuda/cuda_diagnostics.cc:194] kernel reported version is: 575.64.3\n",
      "2025-09-01 20:50:06.256143: I external/local_xla/xla/stream_executor/cuda/cuda_diagnostics.cc:284] kernel version seems to match DSO: 575.64.3\n",
      "/home/ankur/Desktop/ML_DL_Projects/ml_env/lib/python3.12/site-packages/keras/src/layers/layer.py:970: UserWarning: Layer 'conv1d' (of type Conv1D) was passed an input with a mask attached to it. However, this layer does not support masking and will therefore destroy the mask information. Downstream layers will not see the mask.\n",
      "  warnings.warn(\n",
      "WARNING:absl:Compiled the loaded model, but the compiled metrics have yet to be built. `model.compile_metrics` will be empty until you train or evaluate the model.\n"
     ]
    }
   ],
   "source": [
    "from tensorflow.keras.models import load_model\n",
    "imuex_model_best = load_model(\"imuex_model_9_1.h5\")\n"
   ]
  },
  {
   "cell_type": "code",
   "execution_count": 7,
   "metadata": {},
   "outputs": [],
   "source": [
    "df_test = pd.read_csv('/home/ankur/Desktop/ML_DL_Projects/data/cmi-detect-behavior-with-sensor-data/test.csv')"
   ]
  },
  {
   "cell_type": "code",
   "execution_count": 4,
   "metadata": {},
   "outputs": [],
   "source": [
    "imu_features =  [\n",
    " 'acc_x',\n",
    " 'acc_y',\n",
    " 'acc_z',\n",
    " 'rot_w',\n",
    " 'rot_x',\n",
    " 'rot_y',\n",
    " 'rot_z',\n",
    " 'acc_magnitude',\n",
    " 'jerk_x',\n",
    " 'jerk_y',\n",
    " 'jerk_z',\n",
    " 'jerk_magnitude']"
   ]
  },
  {
   "cell_type": "code",
   "execution_count": 5,
   "metadata": {},
   "outputs": [],
   "source": [
    "import numpy as np\n",
    "import pandas as pd\n",
    "\n",
    "def prepare_submission_sequences(df,columns,max_steps=400):\n",
    "\n",
    "    nan_columns_X = df.columns[df.isnull().any()].tolist()\n",
    "    print(\"Columns in X with NaNs Before:\\n\", nan_columns_X)\n",
    "    df = df.infer_objects(copy=False)\n",
    "    df[df.select_dtypes(include=[\"number\"]).columns] = df.select_dtypes(include=[\"number\"]).interpolate(method=\"linear\", axis=0)\n",
    "    nan_columns_X = df.columns[df.isnull().any()].tolist()\n",
    "    print(\"Columns in X with NaNs After:\\n\", nan_columns_X)\n",
    "    \n",
    "    df = df.sort_values(by=[\"sequence_id\", \"sequence_counter\"], \n",
    "                    ascending=[True, True]).reset_index(drop=True)\n",
    "\n",
    "  \n",
    "    df[\"acc_magnitude\"] = np.sqrt(df[\"acc_x\"]**2 + df[\"acc_y\"]**2 + df[\"acc_z\"]**2)\n",
    "\n",
    "    df[\"jerk_x\"] = df[\"acc_x\"].diff()   # difference between consecutive values\n",
    "    df[\"jerk_y\"] = df[\"acc_y\"].diff()\n",
    "    df[\"jerk_z\"] = df[\"acc_z\"].diff()\n",
    "\n",
    "    # magnitude of jerk\n",
    "    df[\"jerk_magnitude\"] = np.sqrt(df[\"jerk_x\"]**2 + df[\"jerk_y\"]**2 + df[\"jerk_z\"]**2)\n",
    "\n",
    "    # fill NaN from diff() with 0\n",
    "    df.fillna(0, inplace=True)\n",
    "\n",
    "    # Drop unnecessary columns early\n",
    "    df = df.drop(columns=[\"sequence_counter\"]) \n",
    "    \n",
    "    n_features = len(columns)\n",
    "\n",
    "    \n",
    "    # Find number of unique sequences\n",
    "    sequence_ids = df[\"sequence_id\"].unique()\n",
    "    n_sequences = len(sequence_ids)\n",
    "\n",
    "    # Preallocate final arrays\n",
    "    X = np.zeros((n_sequences, max_steps, n_features), dtype=np.float32)\n",
    "    Y = np.zeros((n_sequences,), dtype=np.float32)  \n",
    "    for i, seq_id in enumerate(sequence_ids):\n",
    "        if i % 100 ==0:\n",
    "            print(f\"Processing {i}/{n_sequences}\")\n",
    "\n",
    "        #imu\n",
    "        seq = df[df[\"sequence_id\"] == seq_id][columns].values.astype(np.float32)\n",
    "        seq_len = len(seq)\n",
    "        if seq_len > max_steps:\n",
    "            seq = seq[-max_steps:]\n",
    "        X[i, :seq_len, :] = seq\n",
    "    \n",
    "    return X"
   ]
  },
  {
   "cell_type": "code",
   "execution_count": 9,
   "metadata": {},
   "outputs": [
    {
     "name": "stdout",
     "output_type": "stream",
     "text": [
      "Columns in X with NaNs Before:\n",
      " []\n",
      "Columns in X with NaNs After:\n",
      " []\n",
      "Processing 0/2\n"
     ]
    },
    {
     "data": {
      "text/plain": [
       "(2, 400, 12)"
      ]
     },
     "execution_count": 9,
     "metadata": {},
     "output_type": "execute_result"
    }
   ],
   "source": [
    "x_test = prepare_submission_sequences(df_test,imu_features)\n",
    "x_test.shape"
   ]
  },
  {
   "cell_type": "code",
   "execution_count": 11,
   "metadata": {},
   "outputs": [
    {
     "name": "stderr",
     "output_type": "stream",
     "text": [
      "/home/ankur/Desktop/ML_DL_Projects/ml_env/lib/python3.12/site-packages/keras/src/layers/layer.py:970: UserWarning: Layer 'conv1d' (of type Conv1D) was passed an input with a mask attached to it. However, this layer does not support masking and will therefore destroy the mask information. Downstream layers will not see the mask.\n",
      "  warnings.warn(\n"
     ]
    },
    {
     "name": "stdout",
     "output_type": "stream",
     "text": [
      "\u001b[1m1/1\u001b[0m \u001b[32m━━━━━━━━━━━━━━━━━━━━\u001b[0m\u001b[37m\u001b[0m \u001b[1m0s\u001b[0m 408ms/step\n"
     ]
    },
    {
     "data": {
      "text/plain": [
       "array([[8.81773699e-03, 7.80835524e-02, 1.23726904e-01, 1.89436421e-01,\n",
       "        2.78424680e-01, 2.33271699e-02, 1.76304411e-02, 1.19127281e-01,\n",
       "        1.61425859e-01],\n",
       "       [1.44980818e-01, 3.71901714e-03, 3.59731086e-04, 6.56306297e-02,\n",
       "        1.77304521e-01, 3.48164767e-01, 1.13751493e-01, 1.46078810e-01,\n",
       "        1.01682872e-05]], dtype=float32)"
      ]
     },
     "execution_count": 11,
     "metadata": {},
     "output_type": "execute_result"
    }
   ],
   "source": [
    "prob = imuex_model_best.predict(x_test)\n",
    "prob"
   ]
  },
  {
   "cell_type": "code",
   "execution_count": 14,
   "metadata": {},
   "outputs": [],
   "source": [
    "classpred = np.argmax(prob,axis=1)"
   ]
  },
  {
   "cell_type": "code",
   "execution_count": 16,
   "metadata": {},
   "outputs": [
    {
     "name": "stdout",
     "output_type": "stream",
     "text": [
      "Eyelash - pull hair\n"
     ]
    }
   ],
   "source": [
    "if (classpred[0]==8):\n",
    "    print('Text on phone')\n",
    "print(target_classes[classpred[0]])"
   ]
  }
 ],
 "metadata": {
  "kernelspec": {
   "display_name": "ml_env",
   "language": "python",
   "name": "python3"
  },
  "language_info": {
   "codemirror_mode": {
    "name": "ipython",
    "version": 3
   },
   "file_extension": ".py",
   "mimetype": "text/x-python",
   "name": "python",
   "nbconvert_exporter": "python",
   "pygments_lexer": "ipython3",
   "version": "3.12.3"
  }
 },
 "nbformat": 4,
 "nbformat_minor": 2
}
