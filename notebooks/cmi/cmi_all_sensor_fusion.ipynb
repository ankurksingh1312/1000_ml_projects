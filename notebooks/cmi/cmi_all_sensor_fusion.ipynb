{
 "cells": [
  {
   "cell_type": "code",
   "execution_count": 1,
   "metadata": {},
   "outputs": [],
   "source": [
    "import numpy as np"
   ]
  },
  {
   "cell_type": "code",
   "execution_count": 2,
   "metadata": {},
   "outputs": [
    {
     "name": "stdout",
     "output_type": "stream",
     "text": [
      "(8151, 400, 7) (8151, 400, 5) (8151, 400, 320) (8151,)\n"
     ]
    }
   ],
   "source": [
    "data = np.load(\"X_imu_train X_thermal_train X_tof_train Y unscaled.npz\")\n",
    "X_imu_train = data[\"X_imu_train\"]\n",
    "X_thermal_train = data[\"X_thermal_train\"]\n",
    "X_tof_train = data[\"X_tof_train\"]\n",
    "Y = data[\"Y\"]\n",
    "\n",
    "\n",
    "print(X_imu_train.shape, X_thermal_train.shape, X_tof_train.shape, Y.shape)"
   ]
  },
  {
   "cell_type": "code",
   "execution_count": 3,
   "metadata": {},
   "outputs": [],
   "source": [
    "from sklearn.model_selection import train_test_split\n",
    "import numpy as np\n",
    "\n",
    "def split_multimodal_data(X_imu, X_thermal, X_tof, y, test_size=0.15, random_state=42):\n",
    "    \"\"\"\n",
    "    Properly split multi-modal data maintaining sample correspondence\n",
    "    \"\"\"\n",
    "    \n",
    "    # Get total number of samples\n",
    "    n_samples = X_imu.shape[0]\n",
    "    \n",
    "    # Create indices for splitting\n",
    "    indices = np.arange(n_samples)\n",
    "    \n",
    "    # Split indices (not the data directly)\n",
    "    train_idx, val_idx = train_test_split(\n",
    "        indices, \n",
    "        test_size=test_size, \n",
    "        random_state=random_state,\n",
    "        stratify=y  # Maintain class distribution\n",
    "    )\n",
    "    \n",
    "    # Use indices to split all arrays consistently\n",
    "    X_train_imu = X_imu[train_idx]\n",
    "    X_val_imu = X_imu[val_idx]\n",
    "    \n",
    "    X_train_thermal = X_thermal[train_idx]\n",
    "    X_val_thermal = X_thermal[val_idx]\n",
    "    \n",
    "    X_train_tof = X_tof[train_idx]\n",
    "    X_val_tof = X_tof[val_idx]\n",
    "    \n",
    "    y_train = y[train_idx]\n",
    "    y_val = y[val_idx]\n",
    "    \n",
    "    # Verify shapes match\n",
    "    assert X_train_imu.shape[0] == X_train_thermal.shape[0] == X_train_tof.shape[0] == y_train.shape[0]\n",
    "    assert X_val_imu.shape[0] == X_val_thermal.shape[0] == X_val_tof.shape[0] == y_val.shape[0]\n",
    "    \n",
    "    print(f\"Training samples: {X_train_imu.shape[0]}\")\n",
    "    print(f\"Validation samples: {X_val_imu.shape[0]}\")\n",
    "    \n",
    "    return (X_train_imu, X_train_thermal, X_train_tof, y_train), (X_val_imu, X_val_thermal, X_val_tof, y_val)"
   ]
  },
  {
   "cell_type": "code",
   "execution_count": 4,
   "metadata": {},
   "outputs": [
    {
     "name": "stdout",
     "output_type": "stream",
     "text": [
      "Training samples: 6928\n",
      "Validation samples: 1223\n"
     ]
    }
   ],
   "source": [
    "# Usage:\n",
    "train_data, val_data = split_multimodal_data(X_imu_train, X_thermal_train, X_tof_train, Y)\n",
    "X_train_imu, X_train_thermal, X_train_tof, y_train = train_data\n",
    "X_val_imu, X_val_thermal, X_val_tof, y_val = val_data\n",
    "\n",
    "# Prepare for model training\n",
    "X_train_list = [X_train_imu, X_train_thermal, X_train_tof]\n",
    "X_val_list = [X_val_imu, X_val_thermal, X_val_tof]"
   ]
  },
  {
   "cell_type": "code",
   "execution_count": 5,
   "metadata": {},
   "outputs": [
    {
     "name": "stdout",
     "output_type": "stream",
     "text": [
      "(6928, 400, 7) (6928, 400, 5) (6928, 400, 320)\n",
      "(1223, 400, 7) (1223, 400, 5) (1223, 400, 320)\n"
     ]
    }
   ],
   "source": [
    "print(X_train_imu.shape, X_train_thermal.shape, X_train_tof.shape)\n",
    "print(X_val_imu.shape, X_val_thermal.shape, X_val_tof.shape)"
   ]
  },
  {
   "cell_type": "code",
   "execution_count": 6,
   "metadata": {},
   "outputs": [
    {
     "data": {
      "text/plain": [
       "0"
      ]
     },
     "execution_count": 6,
     "metadata": {},
     "output_type": "execute_result"
    }
   ],
   "source": [
    "del X_imu_train \n",
    "del X_thermal_train \n",
    "del X_tof_train \n",
    "import gc \n",
    "gc.collect()"
   ]
  },
  {
   "cell_type": "code",
   "execution_count": 7,
   "metadata": {},
   "outputs": [
    {
     "data": {
      "text/plain": [
       "0"
      ]
     },
     "execution_count": 7,
     "metadata": {},
     "output_type": "execute_result"
    }
   ],
   "source": [
    "del X_train_imu \n",
    "del X_train_thermal \n",
    "del X_train_tof \n",
    "\n",
    "del X_val_imu \n",
    "del X_val_thermal \n",
    "del X_val_tof \n",
    "import gc \n",
    "gc.collect()"
   ]
  },
  {
   "cell_type": "code",
   "execution_count": 10,
   "metadata": {},
   "outputs": [],
   "source": [
    "import tensorflow as tf\n",
    "from tensorflow.keras.models import Model\n",
    "from tensorflow.keras.layers import (\n",
    "    Input, Conv1D, LSTM, Dense, Dropout, BatchNormalization,\n",
    "    GlobalAveragePooling1D, LayerNormalization, Masking, \n",
    "    Concatenate, MultiHeadAttention, Reshape, Flatten, Add\n",
    ")\n",
    "from tensorflow.keras.optimizers import Adam\n",
    "from tensorflow.keras.losses import SparseCategoricalCrossentropy\n",
    "import numpy as np\n",
    "\n",
    "def create_imu_stream(input_shape, stream_name=\"imu\"):\n",
    "    \"\"\"\n",
    "    IMU Stream: Conv1D + LSTM\n",
    "    Input shape: (batch_size, 400, 7)\n",
    "    \"\"\"\n",
    "    input_layer = Input(shape=input_shape, name=f'{stream_name}_input')\n",
    "    x = Masking(mask_value=0.0, name=f'{stream_name}_masking')(input_layer)\n",
    "    \n",
    "    # Conv1D blocks for local temporal patterns\n",
    "    x = Conv1D(64, 3, activation='relu', padding='same', name=f'{stream_name}_conv1')(x)\n",
    "    x = BatchNormalization(name=f'{stream_name}_bn1')(x)\n",
    "    x = Dropout(0.3, name=f'{stream_name}_dropout1')(x)\n",
    "    \n",
    "    x = Conv1D(128, 3, activation='relu', padding='same', name=f'{stream_name}_conv2')(x)\n",
    "    x = BatchNormalization(name=f'{stream_name}_bn2')(x)\n",
    "    x = Dropout(0.3, name=f'{stream_name}_dropout2')(x)\n",
    "    \n",
    "    x = Conv1D(64, 3, activation='relu', padding='same', name=f'{stream_name}_conv3')(x)\n",
    "    x = BatchNormalization(name=f'{stream_name}_bn3')(x)\n",
    "    x = Dropout(0.3, name=f'{stream_name}_dropout3')(x)\n",
    "    \n",
    "    # LSTM layers for temporal modeling\n",
    "    x = LSTM(128, return_sequences=True, dropout=0.3, recurrent_dropout=0.3, name=f'{stream_name}_lstm1')(x)\n",
    "    x = LSTM(64, return_sequences=False, dropout=0.3, recurrent_dropout=0.3, name=f'{stream_name}_lstm2')(x)\n",
    "    \n",
    "    return input_layer, x\n",
    "\n",
    "def create_thermal_stream(input_shape, stream_name=\"thermal\"):\n",
    "    \"\"\"\n",
    "    Thermal Stream: Conv1D + LSTM\n",
    "    Input shape: (batch_size, 400, 5)\n",
    "    \"\"\"\n",
    "    input_layer = Input(shape=input_shape, name=f'{stream_name}_input')\n",
    "    x = Masking(mask_value=0.0, name=f'{stream_name}_masking')(input_layer)\n",
    "    \n",
    "    # Conv1D blocks for thermal patterns\n",
    "    x = Conv1D(32, 3, activation='relu', padding='same', name=f'{stream_name}_conv1')(x)\n",
    "    x = BatchNormalization(name=f'{stream_name}_bn1')(x)\n",
    "    x = Dropout(0.3, name=f'{stream_name}_dropout1')(x)\n",
    "    \n",
    "    x = Conv1D(64, 3, activation='relu', padding='same', name=f'{stream_name}_conv2')(x)\n",
    "    x = BatchNormalization(name=f'{stream_name}_bn2')(x)\n",
    "    x = Dropout(0.3, name=f'{stream_name}_dropout2')(x)\n",
    "    \n",
    "    x = Conv1D(32, 3, activation='relu', padding='same', name=f'{stream_name}_conv3')(x)\n",
    "    x = BatchNormalization(name=f'{stream_name}_bn3')(x)\n",
    "    x = Dropout(0.3, name=f'{stream_name}_dropout3')(x)\n",
    "    \n",
    "    # LSTM layers\n",
    "    x = LSTM(64, return_sequences=True, dropout=0.3, recurrent_dropout=0.3, name=f'{stream_name}_lstm1')(x)\n",
    "    x = LSTM(32, return_sequences=False, dropout=0.3, recurrent_dropout=0.3, name=f'{stream_name}_lstm2')(x)\n",
    "    \n",
    "    return input_layer, x\n",
    "\n",
    "def create_tof_stream(input_shape, stream_name=\"tof\"):\n",
    "    \"\"\"\n",
    "    ToF Stream: Conv1D + LSTM (modified to use Conv1D instead of Conv2D)\n",
    "    Input shape: (batch_size, 400, 320)\n",
    "    \"\"\"\n",
    "    input_layer = Input(shape=input_shape, name=f'{stream_name}_input')\n",
    "    \n",
    "    # Handle missing ToF data (replace -1 with 0 and mask)\n",
    "    x = tf.keras.layers.Lambda(lambda x: tf.where(x == -1, 0.0, x), name=f'{stream_name}_handle_missing')(input_layer)\n",
    "    x = Masking(mask_value=0.0, name=f'{stream_name}_masking')(x)\n",
    "    \n",
    "    # Conv1D blocks for ToF patterns - treating 320 features as channels\n",
    "    x = Conv1D(64, 3, activation='relu', padding='same', name=f'{stream_name}_conv1')(x)\n",
    "    x = BatchNormalization(name=f'{stream_name}_bn1')(x)\n",
    "    x = Dropout(0.3, name=f'{stream_name}_dropout1')(x)\n",
    "    \n",
    "    x = Conv1D(128, 3, activation='relu', padding='same', name=f'{stream_name}_conv2')(x)\n",
    "    x = BatchNormalization(name=f'{stream_name}_bn2')(x)\n",
    "    x = Dropout(0.3, name=f'{stream_name}_dropout2')(x)\n",
    "    \n",
    "    x = Conv1D(64, 3, activation='relu', padding='same', name=f'{stream_name}_conv3')(x)\n",
    "    x = BatchNormalization(name=f'{stream_name}_bn3')(x)\n",
    "    x = Dropout(0.3, name=f'{stream_name}_dropout3')(x)\n",
    "    \n",
    "    # LSTM for temporal modeling\n",
    "    x = LSTM(64, return_sequences=True, dropout=0.3, recurrent_dropout=0.3, name=f'{stream_name}_lstm1')(x)\n",
    "    x = LSTM(32, return_sequences=False, dropout=0.3, recurrent_dropout=0.3, name=f'{stream_name}_lstm2')(x)\n",
    "    \n",
    "    return input_layer, x\n",
    "\n",
    "\n",
    "\n",
    "def create_attention_fusion(feature_streams, fusion_dim=128):\n",
    "    \"\"\"\n",
    "    Create attention-based fusion for multiple feature streams\n",
    "    \"\"\"\n",
    "    # Project all streams to the same dimension\n",
    "    projected_streams = []\n",
    "    for i, features in enumerate(feature_streams):\n",
    "        projected = Dense(fusion_dim, activation='relu', name=f'projection_{i}')(features)\n",
    "        projected = LayerNormalization(name=f'projection_ln_{i}')(projected)\n",
    "        projected_streams.append(projected)\n",
    "    \n",
    "    # Stack features for attention - reshape to (batch, seq_len=num_streams, features)\n",
    "    stacked_features = tf.keras.layers.Lambda(\n",
    "        lambda x: tf.stack(x, axis=1), \n",
    "        name='stack_features'\n",
    "    )(projected_streams)\n",
    "    \n",
    "    # Multi-head self-attention\n",
    "    attention_output = MultiHeadAttention(\n",
    "        num_heads=4,\n",
    "        key_dim=fusion_dim // 4,\n",
    "        dropout=0.1,\n",
    "        name='multihead_attention'\n",
    "    )(stacked_features, stacked_features)\n",
    "    \n",
    "    # Add residual connection\n",
    "    attention_output = Add(name='attention_residual')([stacked_features, attention_output])\n",
    "    attention_output = LayerNormalization(name='attention_ln')(attention_output)\n",
    "    \n",
    "    # Global average pooling to get final fused representation\n",
    "    fused_features = GlobalAveragePooling1D(name='attention_pool')(attention_output)\n",
    "    \n",
    "    return fused_features\n"
   ]
  },
  {
   "cell_type": "code",
   "execution_count": 11,
   "metadata": {},
   "outputs": [],
   "source": [
    "def create_multimodal_bfrb_model(\n",
    "    imu_shape=(400, 7),\n",
    "    thermal_shape=(400, 5), \n",
    "    tof_shape=(400, 320),\n",
    "    n_classes=18,\n",
    "    fusion_dim=128\n",
    "):\n",
    "    \"\"\"\n",
    "    Multi-modal model with IMU, Thermal, and ToF streams using Conv1D and attention fusion\n",
    "    \"\"\"\n",
    "    # Create individual streams\n",
    "    imu_input, imu_features = create_imu_stream(imu_shape, \"imu\")\n",
    "    thermal_input, thermal_features = create_thermal_stream(thermal_shape, \"thermal\") \n",
    "    tof_input, tof_features = create_tof_stream(tof_shape, \"tof\")\n",
    "    \n",
    "    # Attention-based fusion\n",
    "    feature_streams = [imu_features, thermal_features, tof_features]\n",
    "    fused_features = create_attention_fusion(feature_streams, fusion_dim)\n",
    "    \n",
    "    # Classification layers\n",
    "    x = Dense(128, activation='relu', name='fusion_dense1')(fused_features)\n",
    "    x = Dropout(0.4, name='fusion_dropout1')(x)\n",
    "    x = Dense(64, activation='relu', name='fusion_dense2')(x)\n",
    "    x = Dropout(0.4, name='fusion_dropout2')(x)\n",
    "    \n",
    "    output = Dense(n_classes, activation='softmax', name='gesture_output')(x)\n",
    "    \n",
    "    model = Model(\n",
    "        inputs=[imu_input, thermal_input, tof_input],\n",
    "        outputs=output,\n",
    "        name='Attention_MultiModal_BFRB'\n",
    "    )\n",
    "    \n",
    "    return model"
   ]
  },
  {
   "cell_type": "code",
   "execution_count": 12,
   "metadata": {},
   "outputs": [
    {
     "name": "stderr",
     "output_type": "stream",
     "text": [
      "2025-09-01 15:27:27.785699: E external/local_xla/xla/stream_executor/cuda/cuda_platform.cc:51] failed call to cuInit: INTERNAL: CUDA error: Failed call to cuInit: CUDA_ERROR_UNKNOWN: unknown error\n",
      "2025-09-01 15:27:27.820202: I external/local_xla/xla/stream_executor/cuda/cuda_diagnostics.cc:171] verbose logging is disabled. Rerun with verbose logging (usually --v=1 or --vmodule=cuda_diagnostics=1) to get more diagnostic output from this module\n",
      "2025-09-01 15:27:27.820218: I external/local_xla/xla/stream_executor/cuda/cuda_diagnostics.cc:176] retrieving CUDA diagnostic information for host: ankur-Legion-5-15IRX9\n",
      "2025-09-01 15:27:27.820221: I external/local_xla/xla/stream_executor/cuda/cuda_diagnostics.cc:183] hostname: ankur-Legion-5-15IRX9\n",
      "2025-09-01 15:27:27.820336: I external/local_xla/xla/stream_executor/cuda/cuda_diagnostics.cc:190] libcuda reported version is: 575.64.3\n",
      "2025-09-01 15:27:27.820352: I external/local_xla/xla/stream_executor/cuda/cuda_diagnostics.cc:194] kernel reported version is: 575.64.3\n",
      "2025-09-01 15:27:27.820358: I external/local_xla/xla/stream_executor/cuda/cuda_diagnostics.cc:284] kernel version seems to match DSO: 575.64.3\n",
      "/home/ankur/Desktop/ML_DL_Projects/ml_env/lib/python3.12/site-packages/keras/src/layers/layer.py:970: UserWarning: Layer 'imu_conv1' (of type Conv1D) was passed an input with a mask attached to it. However, this layer does not support masking and will therefore destroy the mask information. Downstream layers will not see the mask.\n",
      "  warnings.warn(\n",
      "/home/ankur/Desktop/ML_DL_Projects/ml_env/lib/python3.12/site-packages/keras/src/layers/layer.py:970: UserWarning: Layer 'thermal_conv1' (of type Conv1D) was passed an input with a mask attached to it. However, this layer does not support masking and will therefore destroy the mask information. Downstream layers will not see the mask.\n",
      "  warnings.warn(\n",
      "/home/ankur/Desktop/ML_DL_Projects/ml_env/lib/python3.12/site-packages/keras/src/layers/layer.py:970: UserWarning: Layer 'tof_conv1' (of type Conv1D) was passed an input with a mask attached to it. However, this layer does not support masking and will therefore destroy the mask information. Downstream layers will not see the mask.\n",
      "  warnings.warn(\n"
     ]
    }
   ],
   "source": [
    "all_sensor_fusion_model = create_multimodal_bfrb_model()\n",
    "all_sensor_fusion_model.compile(\n",
    "        optimizer=Adam(learning_rate=0.001),\n",
    "        loss=SparseCategoricalCrossentropy(from_logits=False),\n",
    "        metrics=['accuracy', 'sparse_top_k_categorical_accuracy']\n",
    "    )\n",
    "# all_sensor_simple_fusion_model.summary()"
   ]
  },
  {
   "cell_type": "code",
   "execution_count": 14,
   "metadata": {},
   "outputs": [
    {
     "name": "stdout",
     "output_type": "stream",
     "text": [
      "Epoch 1/100\n",
      "\u001b[1m217/217\u001b[0m \u001b[32m━━━━━━━━━━━━━━━━━━━━\u001b[0m\u001b[37m\u001b[0m \u001b[1m0s\u001b[0m 334ms/step - accuracy: 0.0851 - loss: 2.8314 - sparse_top_k_categorical_accuracy: 0.3794\n",
      "Epoch 1: val_loss improved from None to 2.79409, saving model to best_simple_fusion_multimodal_model.h5\n"
     ]
    },
    {
     "name": "stderr",
     "output_type": "stream",
     "text": [
      "WARNING:absl:You are saving your model as an HDF5 file via `model.save()` or `keras.saving.save_model(model)`. This file format is considered legacy. We recommend using instead the native Keras format, e.g. `model.save('my_model.keras')` or `keras.saving.save_model(model, 'my_model.keras')`. \n"
     ]
    },
    {
     "name": "stdout",
     "output_type": "stream",
     "text": [
      "\u001b[1m217/217\u001b[0m \u001b[32m━━━━━━━━━━━━━━━━━━━━\u001b[0m\u001b[37m\u001b[0m \u001b[1m77s\u001b[0m 356ms/step - accuracy: 0.0798 - loss: 2.8201 - sparse_top_k_categorical_accuracy: 0.3786 - val_accuracy: 0.0801 - val_loss: 2.7941 - val_sparse_top_k_categorical_accuracy: 0.3925 - learning_rate: 0.0010\n",
      "Epoch 2/100\n",
      "\u001b[1m217/217\u001b[0m \u001b[32m━━━━━━━━━━━━━━━━━━━━\u001b[0m\u001b[37m\u001b[0m \u001b[1m0s\u001b[0m 357ms/step - accuracy: 0.0737 - loss: 2.7966 - sparse_top_k_categorical_accuracy: 0.3797\n",
      "Epoch 2: val_loss improved from 2.79409 to 2.76609, saving model to best_simple_fusion_multimodal_model.h5\n"
     ]
    },
    {
     "name": "stderr",
     "output_type": "stream",
     "text": [
      "WARNING:absl:You are saving your model as an HDF5 file via `model.save()` or `keras.saving.save_model(model)`. This file format is considered legacy. We recommend using instead the native Keras format, e.g. `model.save('my_model.keras')` or `keras.saving.save_model(model, 'my_model.keras')`. \n"
     ]
    },
    {
     "name": "stdout",
     "output_type": "stream",
     "text": [
      "\u001b[1m217/217\u001b[0m \u001b[32m━━━━━━━━━━━━━━━━━━━━\u001b[0m\u001b[37m\u001b[0m \u001b[1m81s\u001b[0m 372ms/step - accuracy: 0.0722 - loss: 2.7940 - sparse_top_k_categorical_accuracy: 0.3736 - val_accuracy: 0.0801 - val_loss: 2.7661 - val_sparse_top_k_categorical_accuracy: 0.3941 - learning_rate: 0.0010\n",
      "Epoch 3/100\n",
      "\u001b[1m217/217\u001b[0m \u001b[32m━━━━━━━━━━━━━━━━━━━━\u001b[0m\u001b[37m\u001b[0m \u001b[1m0s\u001b[0m 362ms/step - accuracy: 0.0784 - loss: 2.7822 - sparse_top_k_categorical_accuracy: 0.3799\n",
      "Epoch 3: val_loss improved from 2.76609 to 2.76385, saving model to best_simple_fusion_multimodal_model.h5\n"
     ]
    },
    {
     "name": "stderr",
     "output_type": "stream",
     "text": [
      "WARNING:absl:You are saving your model as an HDF5 file via `model.save()` or `keras.saving.save_model(model)`. This file format is considered legacy. We recommend using instead the native Keras format, e.g. `model.save('my_model.keras')` or `keras.saving.save_model(model, 'my_model.keras')`. \n"
     ]
    },
    {
     "name": "stdout",
     "output_type": "stream",
     "text": [
      "\u001b[1m217/217\u001b[0m \u001b[32m━━━━━━━━━━━━━━━━━━━━\u001b[0m\u001b[37m\u001b[0m \u001b[1m81s\u001b[0m 375ms/step - accuracy: 0.0801 - loss: 2.7817 - sparse_top_k_categorical_accuracy: 0.3776 - val_accuracy: 0.0801 - val_loss: 2.7639 - val_sparse_top_k_categorical_accuracy: 0.3925 - learning_rate: 0.0010\n",
      "Epoch 4/100\n",
      "\u001b[1m217/217\u001b[0m \u001b[32m━━━━━━━━━━━━━━━━━━━━\u001b[0m\u001b[37m\u001b[0m \u001b[1m0s\u001b[0m 340ms/step - accuracy: 0.0805 - loss: 2.7781 - sparse_top_k_categorical_accuracy: 0.3817\n",
      "Epoch 4: val_loss improved from 2.76385 to 2.75861, saving model to best_simple_fusion_multimodal_model.h5\n"
     ]
    },
    {
     "name": "stderr",
     "output_type": "stream",
     "text": [
      "WARNING:absl:You are saving your model as an HDF5 file via `model.save()` or `keras.saving.save_model(model)`. This file format is considered legacy. We recommend using instead the native Keras format, e.g. `model.save('my_model.keras')` or `keras.saving.save_model(model, 'my_model.keras')`. \n"
     ]
    },
    {
     "name": "stdout",
     "output_type": "stream",
     "text": [
      "\u001b[1m217/217\u001b[0m \u001b[32m━━━━━━━━━━━━━━━━━━━━\u001b[0m\u001b[37m\u001b[0m \u001b[1m77s\u001b[0m 353ms/step - accuracy: 0.0837 - loss: 2.7727 - sparse_top_k_categorical_accuracy: 0.3899 - val_accuracy: 0.0801 - val_loss: 2.7586 - val_sparse_top_k_categorical_accuracy: 0.3925 - learning_rate: 0.0010\n",
      "Epoch 5/100\n",
      "\u001b[1m217/217\u001b[0m \u001b[32m━━━━━━━━━━━━━━━━━━━━\u001b[0m\u001b[37m\u001b[0m \u001b[1m0s\u001b[0m 354ms/step - accuracy: 0.0819 - loss: 2.7806 - sparse_top_k_categorical_accuracy: 0.3830\n",
      "Epoch 5: val_loss improved from 2.75861 to 2.75713, saving model to best_simple_fusion_multimodal_model.h5\n"
     ]
    },
    {
     "name": "stderr",
     "output_type": "stream",
     "text": [
      "WARNING:absl:You are saving your model as an HDF5 file via `model.save()` or `keras.saving.save_model(model)`. This file format is considered legacy. We recommend using instead the native Keras format, e.g. `model.save('my_model.keras')` or `keras.saving.save_model(model, 'my_model.keras')`. \n"
     ]
    },
    {
     "name": "stdout",
     "output_type": "stream",
     "text": [
      "\u001b[1m217/217\u001b[0m \u001b[32m━━━━━━━━━━━━━━━━━━━━\u001b[0m\u001b[37m\u001b[0m \u001b[1m80s\u001b[0m 370ms/step - accuracy: 0.0844 - loss: 2.7736 - sparse_top_k_categorical_accuracy: 0.3835 - val_accuracy: 0.0801 - val_loss: 2.7571 - val_sparse_top_k_categorical_accuracy: 0.3941 - learning_rate: 0.0010\n",
      "Epoch 6/100\n",
      "\u001b[1m217/217\u001b[0m \u001b[32m━━━━━━━━━━━━━━━━━━━━\u001b[0m\u001b[37m\u001b[0m \u001b[1m0s\u001b[0m 364ms/step - accuracy: 0.0810 - loss: 2.7595 - sparse_top_k_categorical_accuracy: 0.3994\n",
      "Epoch 6: val_loss did not improve from 2.75713\n",
      "\u001b[1m217/217\u001b[0m \u001b[32m━━━━━━━━━━━━━━━━━━━━\u001b[0m\u001b[37m\u001b[0m \u001b[1m82s\u001b[0m 380ms/step - accuracy: 0.0746 - loss: 2.7654 - sparse_top_k_categorical_accuracy: 0.3887 - val_accuracy: 0.0801 - val_loss: 2.7591 - val_sparse_top_k_categorical_accuracy: 0.3941 - learning_rate: 0.0010\n",
      "Epoch 7/100\n",
      "\u001b[1m217/217\u001b[0m \u001b[32m━━━━━━━━━━━━━━━━━━━━\u001b[0m\u001b[37m\u001b[0m \u001b[1m0s\u001b[0m 350ms/step - accuracy: 0.0849 - loss: 2.7654 - sparse_top_k_categorical_accuracy: 0.3995\n",
      "Epoch 7: val_loss improved from 2.75713 to 2.75683, saving model to best_simple_fusion_multimodal_model.h5\n"
     ]
    },
    {
     "name": "stderr",
     "output_type": "stream",
     "text": [
      "WARNING:absl:You are saving your model as an HDF5 file via `model.save()` or `keras.saving.save_model(model)`. This file format is considered legacy. We recommend using instead the native Keras format, e.g. `model.save('my_model.keras')` or `keras.saving.save_model(model, 'my_model.keras')`. \n"
     ]
    },
    {
     "name": "stdout",
     "output_type": "stream",
     "text": [
      "\u001b[1m217/217\u001b[0m \u001b[32m━━━━━━━━━━━━━━━━━━━━\u001b[0m\u001b[37m\u001b[0m \u001b[1m79s\u001b[0m 364ms/step - accuracy: 0.0817 - loss: 2.7649 - sparse_top_k_categorical_accuracy: 0.3933 - val_accuracy: 0.0801 - val_loss: 2.7568 - val_sparse_top_k_categorical_accuracy: 0.3941 - learning_rate: 0.0010\n",
      "Epoch 8/100\n",
      "\u001b[1m217/217\u001b[0m \u001b[32m━━━━━━━━━━━━━━━━━━━━\u001b[0m\u001b[37m\u001b[0m \u001b[1m0s\u001b[0m 336ms/step - accuracy: 0.0805 - loss: 2.7590 - sparse_top_k_categorical_accuracy: 0.3913\n",
      "Epoch 8: val_loss did not improve from 2.75683\n",
      "\u001b[1m217/217\u001b[0m \u001b[32m━━━━━━━━━━━━━━━━━━━━\u001b[0m\u001b[37m\u001b[0m \u001b[1m76s\u001b[0m 350ms/step - accuracy: 0.0800 - loss: 2.7622 - sparse_top_k_categorical_accuracy: 0.3912 - val_accuracy: 0.0801 - val_loss: 2.7569 - val_sparse_top_k_categorical_accuracy: 0.3941 - learning_rate: 0.0010\n",
      "Epoch 9/100\n",
      "\u001b[1m217/217\u001b[0m \u001b[32m━━━━━━━━━━━━━━━━━━━━\u001b[0m\u001b[37m\u001b[0m \u001b[1m0s\u001b[0m 335ms/step - accuracy: 0.0896 - loss: 2.7560 - sparse_top_k_categorical_accuracy: 0.3993\n",
      "Epoch 9: val_loss improved from 2.75683 to 2.75567, saving model to best_simple_fusion_multimodal_model.h5\n"
     ]
    },
    {
     "name": "stderr",
     "output_type": "stream",
     "text": [
      "WARNING:absl:You are saving your model as an HDF5 file via `model.save()` or `keras.saving.save_model(model)`. This file format is considered legacy. We recommend using instead the native Keras format, e.g. `model.save('my_model.keras')` or `keras.saving.save_model(model, 'my_model.keras')`. \n"
     ]
    },
    {
     "name": "stdout",
     "output_type": "stream",
     "text": [
      "\u001b[1m217/217\u001b[0m \u001b[32m━━━━━━━━━━━━━━━━━━━━\u001b[0m\u001b[37m\u001b[0m \u001b[1m76s\u001b[0m 349ms/step - accuracy: 0.0839 - loss: 2.7625 - sparse_top_k_categorical_accuracy: 0.3930 - val_accuracy: 0.0801 - val_loss: 2.7557 - val_sparse_top_k_categorical_accuracy: 0.3941 - learning_rate: 0.0010\n",
      "Epoch 10/100\n",
      "\u001b[1m217/217\u001b[0m \u001b[32m━━━━━━━━━━━━━━━━━━━━\u001b[0m\u001b[37m\u001b[0m \u001b[1m0s\u001b[0m 336ms/step - accuracy: 0.0748 - loss: 2.7721 - sparse_top_k_categorical_accuracy: 0.3858\n",
      "Epoch 10: val_loss improved from 2.75567 to 2.75524, saving model to best_simple_fusion_multimodal_model.h5\n"
     ]
    },
    {
     "name": "stderr",
     "output_type": "stream",
     "text": [
      "WARNING:absl:You are saving your model as an HDF5 file via `model.save()` or `keras.saving.save_model(model)`. This file format is considered legacy. We recommend using instead the native Keras format, e.g. `model.save('my_model.keras')` or `keras.saving.save_model(model, 'my_model.keras')`. \n"
     ]
    },
    {
     "name": "stdout",
     "output_type": "stream",
     "text": [
      "\u001b[1m217/217\u001b[0m \u001b[32m━━━━━━━━━━━━━━━━━━━━\u001b[0m\u001b[37m\u001b[0m \u001b[1m76s\u001b[0m 350ms/step - accuracy: 0.0801 - loss: 2.7619 - sparse_top_k_categorical_accuracy: 0.3881 - val_accuracy: 0.0801 - val_loss: 2.7552 - val_sparse_top_k_categorical_accuracy: 0.3941 - learning_rate: 0.0010\n",
      "Epoch 11/100\n",
      "\u001b[1m217/217\u001b[0m \u001b[32m━━━━━━━━━━━━━━━━━━━━\u001b[0m\u001b[37m\u001b[0m \u001b[1m0s\u001b[0m 319ms/step - accuracy: 0.0829 - loss: 2.7553 - sparse_top_k_categorical_accuracy: 0.3939\n",
      "Epoch 11: val_loss did not improve from 2.75524\n",
      "\u001b[1m217/217\u001b[0m \u001b[32m━━━━━━━━━━━━━━━━━━━━\u001b[0m\u001b[37m\u001b[0m \u001b[1m72s\u001b[0m 331ms/step - accuracy: 0.0784 - loss: 2.7622 - sparse_top_k_categorical_accuracy: 0.3834 - val_accuracy: 0.0801 - val_loss: 2.7556 - val_sparse_top_k_categorical_accuracy: 0.3941 - learning_rate: 0.0010\n",
      "Epoch 12/100\n",
      "\u001b[1m217/217\u001b[0m \u001b[32m━━━━━━━━━━━━━━━━━━━━\u001b[0m\u001b[37m\u001b[0m \u001b[1m0s\u001b[0m 314ms/step - accuracy: 0.0745 - loss: 2.7729 - sparse_top_k_categorical_accuracy: 0.3838\n",
      "Epoch 12: val_loss did not improve from 2.75524\n",
      "\u001b[1m217/217\u001b[0m \u001b[32m━━━━━━━━━━━━━━━━━━━━\u001b[0m\u001b[37m\u001b[0m \u001b[1m71s\u001b[0m 326ms/step - accuracy: 0.0779 - loss: 2.7623 - sparse_top_k_categorical_accuracy: 0.3959 - val_accuracy: 0.0801 - val_loss: 2.7553 - val_sparse_top_k_categorical_accuracy: 0.3941 - learning_rate: 0.0010\n",
      "Epoch 13/100\n",
      "\u001b[1m217/217\u001b[0m \u001b[32m━━━━━━━━━━━━━━━━━━━━\u001b[0m\u001b[37m\u001b[0m \u001b[1m0s\u001b[0m 312ms/step - accuracy: 0.0790 - loss: 2.7605 - sparse_top_k_categorical_accuracy: 0.4026\n",
      "Epoch 13: ReduceLROnPlateau reducing learning rate to 0.0005000000237487257.\n",
      "\n",
      "Epoch 13: val_loss did not improve from 2.75524\n",
      "\u001b[1m217/217\u001b[0m \u001b[32m━━━━━━━━━━━━━━━━━━━━\u001b[0m\u001b[37m\u001b[0m \u001b[1m70s\u001b[0m 324ms/step - accuracy: 0.0779 - loss: 2.7609 - sparse_top_k_categorical_accuracy: 0.3977 - val_accuracy: 0.0801 - val_loss: 2.7553 - val_sparse_top_k_categorical_accuracy: 0.3941 - learning_rate: 0.0010\n",
      "Epoch 14/100\n",
      "\u001b[1m217/217\u001b[0m \u001b[32m━━━━━━━━━━━━━━━━━━━━\u001b[0m\u001b[37m\u001b[0m \u001b[1m0s\u001b[0m 310ms/step - accuracy: 0.0717 - loss: 2.7641 - sparse_top_k_categorical_accuracy: 0.3834\n",
      "Epoch 14: val_loss did not improve from 2.75524\n",
      "\u001b[1m217/217\u001b[0m \u001b[32m━━━━━━━━━━━━━━━━━━━━\u001b[0m\u001b[37m\u001b[0m \u001b[1m70s\u001b[0m 322ms/step - accuracy: 0.0722 - loss: 2.7607 - sparse_top_k_categorical_accuracy: 0.3831 - val_accuracy: 0.0801 - val_loss: 2.7553 - val_sparse_top_k_categorical_accuracy: 0.3941 - learning_rate: 5.0000e-04\n",
      "Epoch 15/100\n",
      "\u001b[1m217/217\u001b[0m \u001b[32m━━━━━━━━━━━━━━━━━━━━\u001b[0m\u001b[37m\u001b[0m \u001b[1m0s\u001b[0m 311ms/step - accuracy: 0.0760 - loss: 2.7670 - sparse_top_k_categorical_accuracy: 0.3966\n",
      "Epoch 15: val_loss did not improve from 2.75524\n",
      "\u001b[1m217/217\u001b[0m \u001b[32m━━━━━━━━━━━━━━━━━━━━\u001b[0m\u001b[37m\u001b[0m \u001b[1m70s\u001b[0m 324ms/step - accuracy: 0.0821 - loss: 2.7609 - sparse_top_k_categorical_accuracy: 0.3893 - val_accuracy: 0.0801 - val_loss: 2.7553 - val_sparse_top_k_categorical_accuracy: 0.3941 - learning_rate: 5.0000e-04\n",
      "Epoch 16/100\n",
      "\u001b[1m217/217\u001b[0m \u001b[32m━━━━━━━━━━━━━━━━━━━━\u001b[0m\u001b[37m\u001b[0m \u001b[1m0s\u001b[0m 332ms/step - accuracy: 0.0802 - loss: 2.7535 - sparse_top_k_categorical_accuracy: 0.3966\n",
      "Epoch 16: ReduceLROnPlateau reducing learning rate to 0.0002500000118743628.\n",
      "\n",
      "Epoch 16: val_loss improved from 2.75524 to 2.75522, saving model to best_simple_fusion_multimodal_model.h5\n"
     ]
    },
    {
     "name": "stderr",
     "output_type": "stream",
     "text": [
      "WARNING:absl:You are saving your model as an HDF5 file via `model.save()` or `keras.saving.save_model(model)`. This file format is considered legacy. We recommend using instead the native Keras format, e.g. `model.save('my_model.keras')` or `keras.saving.save_model(model, 'my_model.keras')`. \n"
     ]
    },
    {
     "name": "stdout",
     "output_type": "stream",
     "text": [
      "\u001b[1m217/217\u001b[0m \u001b[32m━━━━━━━━━━━━━━━━━━━━\u001b[0m\u001b[37m\u001b[0m \u001b[1m75s\u001b[0m 346ms/step - accuracy: 0.0792 - loss: 2.7595 - sparse_top_k_categorical_accuracy: 0.3850 - val_accuracy: 0.0801 - val_loss: 2.7552 - val_sparse_top_k_categorical_accuracy: 0.3941 - learning_rate: 5.0000e-04\n",
      "Epoch 17/100\n",
      "\u001b[1m 71/217\u001b[0m \u001b[32m━━━━━━\u001b[0m\u001b[37m━━━━━━━━━━━━━━\u001b[0m \u001b[1m53s\u001b[0m 365ms/step - accuracy: 0.0730 - loss: 2.7708 - sparse_top_k_categorical_accuracy: 0.3876"
     ]
    },
    {
     "ename": "KeyboardInterrupt",
     "evalue": "",
     "output_type": "error",
     "traceback": [
      "\u001b[31m---------------------------------------------------------------------------\u001b[39m",
      "\u001b[31mKeyboardInterrupt\u001b[39m                         Traceback (most recent call last)",
      "\u001b[36mCell\u001b[39m\u001b[36m \u001b[39m\u001b[32mIn[14]\u001b[39m\u001b[32m, line 10\u001b[39m\n\u001b[32m      3\u001b[39m callbacks = [\n\u001b[32m      4\u001b[39m         EarlyStopping(patience=\u001b[32m8\u001b[39m, restore_best_weights=\u001b[38;5;28;01mTrue\u001b[39;00m, verbose=\u001b[32m1\u001b[39m,monitor=\u001b[33m'\u001b[39m\u001b[33mval_loss\u001b[39m\u001b[33m'\u001b[39m),\n\u001b[32m      5\u001b[39m         ReduceLROnPlateau(patience=\u001b[32m3\u001b[39m, factor=\u001b[32m0.5\u001b[39m, verbose=\u001b[32m1\u001b[39m, min_lr=\u001b[32m1e-7\u001b[39m),\n\u001b[32m      6\u001b[39m         ModelCheckpoint(\u001b[33m'\u001b[39m\u001b[33mbest_simple_fusion_multimodal_model.h5\u001b[39m\u001b[33m'\u001b[39m, save_best_only=\u001b[38;5;28;01mTrue\u001b[39;00m, verbose=\u001b[32m1\u001b[39m)\n\u001b[32m      7\u001b[39m ]\n\u001b[32m      9\u001b[39m     \u001b[38;5;66;03m# Train model\u001b[39;00m\n\u001b[32m---> \u001b[39m\u001b[32m10\u001b[39m history = \u001b[43mall_sensor_fusion_model\u001b[49m\u001b[43m.\u001b[49m\u001b[43mfit\u001b[49m\u001b[43m(\u001b[49m\n\u001b[32m     11\u001b[39m \u001b[43m        \u001b[49m\u001b[43mX_train_list\u001b[49m\u001b[43m,\u001b[49m\u001b[43m  \u001b[49m\u001b[38;5;66;43;03m# List of [IMU, thermal, ToF] arrays\u001b[39;49;00m\n\u001b[32m     12\u001b[39m \u001b[43m        \u001b[49m\u001b[43my_train\u001b[49m\u001b[43m,\u001b[49m\n\u001b[32m     13\u001b[39m \u001b[43m        \u001b[49m\u001b[43mepochs\u001b[49m\u001b[43m=\u001b[49m\u001b[32;43m100\u001b[39;49m\u001b[43m,\u001b[49m\n\u001b[32m     14\u001b[39m \u001b[43m        \u001b[49m\u001b[43mbatch_size\u001b[49m\u001b[43m=\u001b[49m\u001b[32;43m32\u001b[39;49m\u001b[43m,\u001b[49m\n\u001b[32m     15\u001b[39m \u001b[43m        \u001b[49m\u001b[43mvalidation_data\u001b[49m\u001b[43m=\u001b[49m\u001b[43m(\u001b[49m\u001b[43mX_val_list\u001b[49m\u001b[43m,\u001b[49m\u001b[43m \u001b[49m\u001b[43my_val\u001b[49m\u001b[43m)\u001b[49m\u001b[43m,\u001b[49m\n\u001b[32m     16\u001b[39m \u001b[43m        \u001b[49m\u001b[43mcallbacks\u001b[49m\u001b[43m=\u001b[49m\u001b[43mcallbacks\u001b[49m\u001b[43m,\u001b[49m\n\u001b[32m     17\u001b[39m \u001b[43m        \u001b[49m\u001b[43mverbose\u001b[49m\u001b[43m=\u001b[49m\u001b[32;43m1\u001b[39;49m\n\u001b[32m     18\u001b[39m \u001b[43m    \u001b[49m\u001b[43m)\u001b[49m\n\u001b[32m     19\u001b[39m history\n",
      "\u001b[36mFile \u001b[39m\u001b[32m~/Desktop/ML_DL_Projects/ml_env/lib/python3.12/site-packages/keras/src/utils/traceback_utils.py:117\u001b[39m, in \u001b[36mfilter_traceback.<locals>.error_handler\u001b[39m\u001b[34m(*args, **kwargs)\u001b[39m\n\u001b[32m    115\u001b[39m filtered_tb = \u001b[38;5;28;01mNone\u001b[39;00m\n\u001b[32m    116\u001b[39m \u001b[38;5;28;01mtry\u001b[39;00m:\n\u001b[32m--> \u001b[39m\u001b[32m117\u001b[39m     \u001b[38;5;28;01mreturn\u001b[39;00m \u001b[43mfn\u001b[49m\u001b[43m(\u001b[49m\u001b[43m*\u001b[49m\u001b[43margs\u001b[49m\u001b[43m,\u001b[49m\u001b[43m \u001b[49m\u001b[43m*\u001b[49m\u001b[43m*\u001b[49m\u001b[43mkwargs\u001b[49m\u001b[43m)\u001b[49m\n\u001b[32m    118\u001b[39m \u001b[38;5;28;01mexcept\u001b[39;00m \u001b[38;5;167;01mException\u001b[39;00m \u001b[38;5;28;01mas\u001b[39;00m e:\n\u001b[32m    119\u001b[39m     filtered_tb = _process_traceback_frames(e.__traceback__)\n",
      "\u001b[36mFile \u001b[39m\u001b[32m~/Desktop/ML_DL_Projects/ml_env/lib/python3.12/site-packages/keras/src/backend/tensorflow/trainer.py:377\u001b[39m, in \u001b[36mTensorFlowTrainer.fit\u001b[39m\u001b[34m(self, x, y, batch_size, epochs, verbose, callbacks, validation_split, validation_data, shuffle, class_weight, sample_weight, initial_epoch, steps_per_epoch, validation_steps, validation_batch_size, validation_freq)\u001b[39m\n\u001b[32m    375\u001b[39m \u001b[38;5;28;01mfor\u001b[39;00m begin_step, end_step, iterator \u001b[38;5;129;01min\u001b[39;00m epoch_iterator:\n\u001b[32m    376\u001b[39m     callbacks.on_train_batch_begin(begin_step)\n\u001b[32m--> \u001b[39m\u001b[32m377\u001b[39m     logs = \u001b[38;5;28;43mself\u001b[39;49m\u001b[43m.\u001b[49m\u001b[43mtrain_function\u001b[49m\u001b[43m(\u001b[49m\u001b[43miterator\u001b[49m\u001b[43m)\u001b[49m\n\u001b[32m    378\u001b[39m     callbacks.on_train_batch_end(end_step, logs)\n\u001b[32m    379\u001b[39m     \u001b[38;5;28;01mif\u001b[39;00m \u001b[38;5;28mself\u001b[39m.stop_training:\n",
      "\u001b[36mFile \u001b[39m\u001b[32m~/Desktop/ML_DL_Projects/ml_env/lib/python3.12/site-packages/keras/src/backend/tensorflow/trainer.py:220\u001b[39m, in \u001b[36mTensorFlowTrainer._make_function.<locals>.function\u001b[39m\u001b[34m(iterator)\u001b[39m\n\u001b[32m    216\u001b[39m \u001b[38;5;28;01mdef\u001b[39;00m\u001b[38;5;250m \u001b[39m\u001b[34mfunction\u001b[39m(iterator):\n\u001b[32m    217\u001b[39m     \u001b[38;5;28;01mif\u001b[39;00m \u001b[38;5;28misinstance\u001b[39m(\n\u001b[32m    218\u001b[39m         iterator, (tf.data.Iterator, tf.distribute.DistributedIterator)\n\u001b[32m    219\u001b[39m     ):\n\u001b[32m--> \u001b[39m\u001b[32m220\u001b[39m         opt_outputs = \u001b[43mmulti_step_on_iterator\u001b[49m\u001b[43m(\u001b[49m\u001b[43miterator\u001b[49m\u001b[43m)\u001b[49m\n\u001b[32m    221\u001b[39m         \u001b[38;5;28;01mif\u001b[39;00m \u001b[38;5;129;01mnot\u001b[39;00m opt_outputs.has_value():\n\u001b[32m    222\u001b[39m             \u001b[38;5;28;01mraise\u001b[39;00m \u001b[38;5;167;01mStopIteration\u001b[39;00m\n",
      "\u001b[36mFile \u001b[39m\u001b[32m~/Desktop/ML_DL_Projects/ml_env/lib/python3.12/site-packages/tensorflow/python/util/traceback_utils.py:150\u001b[39m, in \u001b[36mfilter_traceback.<locals>.error_handler\u001b[39m\u001b[34m(*args, **kwargs)\u001b[39m\n\u001b[32m    148\u001b[39m filtered_tb = \u001b[38;5;28;01mNone\u001b[39;00m\n\u001b[32m    149\u001b[39m \u001b[38;5;28;01mtry\u001b[39;00m:\n\u001b[32m--> \u001b[39m\u001b[32m150\u001b[39m   \u001b[38;5;28;01mreturn\u001b[39;00m \u001b[43mfn\u001b[49m\u001b[43m(\u001b[49m\u001b[43m*\u001b[49m\u001b[43margs\u001b[49m\u001b[43m,\u001b[49m\u001b[43m \u001b[49m\u001b[43m*\u001b[49m\u001b[43m*\u001b[49m\u001b[43mkwargs\u001b[49m\u001b[43m)\u001b[49m\n\u001b[32m    151\u001b[39m \u001b[38;5;28;01mexcept\u001b[39;00m \u001b[38;5;167;01mException\u001b[39;00m \u001b[38;5;28;01mas\u001b[39;00m e:\n\u001b[32m    152\u001b[39m   filtered_tb = _process_traceback_frames(e.__traceback__)\n",
      "\u001b[36mFile \u001b[39m\u001b[32m~/Desktop/ML_DL_Projects/ml_env/lib/python3.12/site-packages/tensorflow/python/eager/polymorphic_function/polymorphic_function.py:833\u001b[39m, in \u001b[36mFunction.__call__\u001b[39m\u001b[34m(self, *args, **kwds)\u001b[39m\n\u001b[32m    830\u001b[39m compiler = \u001b[33m\"\u001b[39m\u001b[33mxla\u001b[39m\u001b[33m\"\u001b[39m \u001b[38;5;28;01mif\u001b[39;00m \u001b[38;5;28mself\u001b[39m._jit_compile \u001b[38;5;28;01melse\u001b[39;00m \u001b[33m\"\u001b[39m\u001b[33mnonXla\u001b[39m\u001b[33m\"\u001b[39m\n\u001b[32m    832\u001b[39m \u001b[38;5;28;01mwith\u001b[39;00m OptionalXlaContext(\u001b[38;5;28mself\u001b[39m._jit_compile):\n\u001b[32m--> \u001b[39m\u001b[32m833\u001b[39m   result = \u001b[38;5;28;43mself\u001b[39;49m\u001b[43m.\u001b[49m\u001b[43m_call\u001b[49m\u001b[43m(\u001b[49m\u001b[43m*\u001b[49m\u001b[43margs\u001b[49m\u001b[43m,\u001b[49m\u001b[43m \u001b[49m\u001b[43m*\u001b[49m\u001b[43m*\u001b[49m\u001b[43mkwds\u001b[49m\u001b[43m)\u001b[49m\n\u001b[32m    835\u001b[39m new_tracing_count = \u001b[38;5;28mself\u001b[39m.experimental_get_tracing_count()\n\u001b[32m    836\u001b[39m without_tracing = (tracing_count == new_tracing_count)\n",
      "\u001b[36mFile \u001b[39m\u001b[32m~/Desktop/ML_DL_Projects/ml_env/lib/python3.12/site-packages/tensorflow/python/eager/polymorphic_function/polymorphic_function.py:878\u001b[39m, in \u001b[36mFunction._call\u001b[39m\u001b[34m(self, *args, **kwds)\u001b[39m\n\u001b[32m    875\u001b[39m \u001b[38;5;28mself\u001b[39m._lock.release()\n\u001b[32m    876\u001b[39m \u001b[38;5;66;03m# In this case we have not created variables on the first call. So we can\u001b[39;00m\n\u001b[32m    877\u001b[39m \u001b[38;5;66;03m# run the first trace but we should fail if variables are created.\u001b[39;00m\n\u001b[32m--> \u001b[39m\u001b[32m878\u001b[39m results = \u001b[43mtracing_compilation\u001b[49m\u001b[43m.\u001b[49m\u001b[43mcall_function\u001b[49m\u001b[43m(\u001b[49m\n\u001b[32m    879\u001b[39m \u001b[43m    \u001b[49m\u001b[43margs\u001b[49m\u001b[43m,\u001b[49m\u001b[43m \u001b[49m\u001b[43mkwds\u001b[49m\u001b[43m,\u001b[49m\u001b[43m \u001b[49m\u001b[38;5;28;43mself\u001b[39;49m\u001b[43m.\u001b[49m\u001b[43m_variable_creation_config\u001b[49m\n\u001b[32m    880\u001b[39m \u001b[43m\u001b[49m\u001b[43m)\u001b[49m\n\u001b[32m    881\u001b[39m \u001b[38;5;28;01mif\u001b[39;00m \u001b[38;5;28mself\u001b[39m._created_variables:\n\u001b[32m    882\u001b[39m   \u001b[38;5;28;01mraise\u001b[39;00m \u001b[38;5;167;01mValueError\u001b[39;00m(\u001b[33m\"\u001b[39m\u001b[33mCreating variables on a non-first call to a function\u001b[39m\u001b[33m\"\u001b[39m\n\u001b[32m    883\u001b[39m                    \u001b[33m\"\u001b[39m\u001b[33m decorated with tf.function.\u001b[39m\u001b[33m\"\u001b[39m)\n",
      "\u001b[36mFile \u001b[39m\u001b[32m~/Desktop/ML_DL_Projects/ml_env/lib/python3.12/site-packages/tensorflow/python/eager/polymorphic_function/tracing_compilation.py:139\u001b[39m, in \u001b[36mcall_function\u001b[39m\u001b[34m(args, kwargs, tracing_options)\u001b[39m\n\u001b[32m    137\u001b[39m bound_args = function.function_type.bind(*args, **kwargs)\n\u001b[32m    138\u001b[39m flat_inputs = function.function_type.unpack_inputs(bound_args)\n\u001b[32m--> \u001b[39m\u001b[32m139\u001b[39m \u001b[38;5;28;01mreturn\u001b[39;00m \u001b[43mfunction\u001b[49m\u001b[43m.\u001b[49m\u001b[43m_call_flat\u001b[49m\u001b[43m(\u001b[49m\u001b[43m  \u001b[49m\u001b[38;5;66;43;03m# pylint: disable=protected-access\u001b[39;49;00m\n\u001b[32m    140\u001b[39m \u001b[43m    \u001b[49m\u001b[43mflat_inputs\u001b[49m\u001b[43m,\u001b[49m\u001b[43m \u001b[49m\u001b[43mcaptured_inputs\u001b[49m\u001b[43m=\u001b[49m\u001b[43mfunction\u001b[49m\u001b[43m.\u001b[49m\u001b[43mcaptured_inputs\u001b[49m\n\u001b[32m    141\u001b[39m \u001b[43m\u001b[49m\u001b[43m)\u001b[49m\n",
      "\u001b[36mFile \u001b[39m\u001b[32m~/Desktop/ML_DL_Projects/ml_env/lib/python3.12/site-packages/tensorflow/python/eager/polymorphic_function/concrete_function.py:1322\u001b[39m, in \u001b[36mConcreteFunction._call_flat\u001b[39m\u001b[34m(self, tensor_inputs, captured_inputs)\u001b[39m\n\u001b[32m   1318\u001b[39m possible_gradient_type = gradients_util.PossibleTapeGradientTypes(args)\n\u001b[32m   1319\u001b[39m \u001b[38;5;28;01mif\u001b[39;00m (possible_gradient_type == gradients_util.POSSIBLE_GRADIENT_TYPES_NONE\n\u001b[32m   1320\u001b[39m     \u001b[38;5;129;01mand\u001b[39;00m executing_eagerly):\n\u001b[32m   1321\u001b[39m   \u001b[38;5;66;03m# No tape is watching; skip to running the function.\u001b[39;00m\n\u001b[32m-> \u001b[39m\u001b[32m1322\u001b[39m   \u001b[38;5;28;01mreturn\u001b[39;00m \u001b[38;5;28;43mself\u001b[39;49m\u001b[43m.\u001b[49m\u001b[43m_inference_function\u001b[49m\u001b[43m.\u001b[49m\u001b[43mcall_preflattened\u001b[49m\u001b[43m(\u001b[49m\u001b[43margs\u001b[49m\u001b[43m)\u001b[49m\n\u001b[32m   1323\u001b[39m forward_backward = \u001b[38;5;28mself\u001b[39m._select_forward_and_backward_functions(\n\u001b[32m   1324\u001b[39m     args,\n\u001b[32m   1325\u001b[39m     possible_gradient_type,\n\u001b[32m   1326\u001b[39m     executing_eagerly)\n\u001b[32m   1327\u001b[39m forward_function, args_with_tangents = forward_backward.forward()\n",
      "\u001b[36mFile \u001b[39m\u001b[32m~/Desktop/ML_DL_Projects/ml_env/lib/python3.12/site-packages/tensorflow/python/eager/polymorphic_function/atomic_function.py:216\u001b[39m, in \u001b[36mAtomicFunction.call_preflattened\u001b[39m\u001b[34m(self, args)\u001b[39m\n\u001b[32m    214\u001b[39m \u001b[38;5;28;01mdef\u001b[39;00m\u001b[38;5;250m \u001b[39m\u001b[34mcall_preflattened\u001b[39m(\u001b[38;5;28mself\u001b[39m, args: Sequence[core.Tensor]) -> Any:\n\u001b[32m    215\u001b[39m \u001b[38;5;250m  \u001b[39m\u001b[33;03m\"\"\"Calls with flattened tensor inputs and returns the structured output.\"\"\"\u001b[39;00m\n\u001b[32m--> \u001b[39m\u001b[32m216\u001b[39m   flat_outputs = \u001b[38;5;28;43mself\u001b[39;49m\u001b[43m.\u001b[49m\u001b[43mcall_flat\u001b[49m\u001b[43m(\u001b[49m\u001b[43m*\u001b[49m\u001b[43margs\u001b[49m\u001b[43m)\u001b[49m\n\u001b[32m    217\u001b[39m   \u001b[38;5;28;01mreturn\u001b[39;00m \u001b[38;5;28mself\u001b[39m.function_type.pack_output(flat_outputs)\n",
      "\u001b[36mFile \u001b[39m\u001b[32m~/Desktop/ML_DL_Projects/ml_env/lib/python3.12/site-packages/tensorflow/python/eager/polymorphic_function/atomic_function.py:251\u001b[39m, in \u001b[36mAtomicFunction.call_flat\u001b[39m\u001b[34m(self, *args)\u001b[39m\n\u001b[32m    249\u001b[39m \u001b[38;5;28;01mwith\u001b[39;00m record.stop_recording():\n\u001b[32m    250\u001b[39m   \u001b[38;5;28;01mif\u001b[39;00m \u001b[38;5;28mself\u001b[39m._bound_context.executing_eagerly():\n\u001b[32m--> \u001b[39m\u001b[32m251\u001b[39m     outputs = \u001b[38;5;28;43mself\u001b[39;49m\u001b[43m.\u001b[49m\u001b[43m_bound_context\u001b[49m\u001b[43m.\u001b[49m\u001b[43mcall_function\u001b[49m\u001b[43m(\u001b[49m\n\u001b[32m    252\u001b[39m \u001b[43m        \u001b[49m\u001b[38;5;28;43mself\u001b[39;49m\u001b[43m.\u001b[49m\u001b[43mname\u001b[49m\u001b[43m,\u001b[49m\n\u001b[32m    253\u001b[39m \u001b[43m        \u001b[49m\u001b[38;5;28;43mlist\u001b[39;49m\u001b[43m(\u001b[49m\u001b[43margs\u001b[49m\u001b[43m)\u001b[49m\u001b[43m,\u001b[49m\n\u001b[32m    254\u001b[39m \u001b[43m        \u001b[49m\u001b[38;5;28;43mlen\u001b[39;49m\u001b[43m(\u001b[49m\u001b[38;5;28;43mself\u001b[39;49m\u001b[43m.\u001b[49m\u001b[43mfunction_type\u001b[49m\u001b[43m.\u001b[49m\u001b[43mflat_outputs\u001b[49m\u001b[43m)\u001b[49m\u001b[43m,\u001b[49m\n\u001b[32m    255\u001b[39m \u001b[43m    \u001b[49m\u001b[43m)\u001b[49m\n\u001b[32m    256\u001b[39m   \u001b[38;5;28;01melse\u001b[39;00m:\n\u001b[32m    257\u001b[39m     outputs = make_call_op_in_graph(\n\u001b[32m    258\u001b[39m         \u001b[38;5;28mself\u001b[39m,\n\u001b[32m    259\u001b[39m         \u001b[38;5;28mlist\u001b[39m(args),\n\u001b[32m    260\u001b[39m         \u001b[38;5;28mself\u001b[39m._bound_context.function_call_options.as_attrs(),\n\u001b[32m    261\u001b[39m     )\n",
      "\u001b[36mFile \u001b[39m\u001b[32m~/Desktop/ML_DL_Projects/ml_env/lib/python3.12/site-packages/tensorflow/python/eager/context.py:1688\u001b[39m, in \u001b[36mContext.call_function\u001b[39m\u001b[34m(self, name, tensor_inputs, num_outputs)\u001b[39m\n\u001b[32m   1686\u001b[39m cancellation_context = cancellation.context()\n\u001b[32m   1687\u001b[39m \u001b[38;5;28;01mif\u001b[39;00m cancellation_context \u001b[38;5;129;01mis\u001b[39;00m \u001b[38;5;28;01mNone\u001b[39;00m:\n\u001b[32m-> \u001b[39m\u001b[32m1688\u001b[39m   outputs = \u001b[43mexecute\u001b[49m\u001b[43m.\u001b[49m\u001b[43mexecute\u001b[49m\u001b[43m(\u001b[49m\n\u001b[32m   1689\u001b[39m \u001b[43m      \u001b[49m\u001b[43mname\u001b[49m\u001b[43m.\u001b[49m\u001b[43mdecode\u001b[49m\u001b[43m(\u001b[49m\u001b[33;43m\"\u001b[39;49m\u001b[33;43mutf-8\u001b[39;49m\u001b[33;43m\"\u001b[39;49m\u001b[43m)\u001b[49m\u001b[43m,\u001b[49m\n\u001b[32m   1690\u001b[39m \u001b[43m      \u001b[49m\u001b[43mnum_outputs\u001b[49m\u001b[43m=\u001b[49m\u001b[43mnum_outputs\u001b[49m\u001b[43m,\u001b[49m\n\u001b[32m   1691\u001b[39m \u001b[43m      \u001b[49m\u001b[43minputs\u001b[49m\u001b[43m=\u001b[49m\u001b[43mtensor_inputs\u001b[49m\u001b[43m,\u001b[49m\n\u001b[32m   1692\u001b[39m \u001b[43m      \u001b[49m\u001b[43mattrs\u001b[49m\u001b[43m=\u001b[49m\u001b[43mattrs\u001b[49m\u001b[43m,\u001b[49m\n\u001b[32m   1693\u001b[39m \u001b[43m      \u001b[49m\u001b[43mctx\u001b[49m\u001b[43m=\u001b[49m\u001b[38;5;28;43mself\u001b[39;49m\u001b[43m,\u001b[49m\n\u001b[32m   1694\u001b[39m \u001b[43m  \u001b[49m\u001b[43m)\u001b[49m\n\u001b[32m   1695\u001b[39m \u001b[38;5;28;01melse\u001b[39;00m:\n\u001b[32m   1696\u001b[39m   outputs = execute.execute_with_cancellation(\n\u001b[32m   1697\u001b[39m       name.decode(\u001b[33m\"\u001b[39m\u001b[33mutf-8\u001b[39m\u001b[33m\"\u001b[39m),\n\u001b[32m   1698\u001b[39m       num_outputs=num_outputs,\n\u001b[32m   (...)\u001b[39m\u001b[32m   1702\u001b[39m       cancellation_manager=cancellation_context,\n\u001b[32m   1703\u001b[39m   )\n",
      "\u001b[36mFile \u001b[39m\u001b[32m~/Desktop/ML_DL_Projects/ml_env/lib/python3.12/site-packages/tensorflow/python/eager/execute.py:53\u001b[39m, in \u001b[36mquick_execute\u001b[39m\u001b[34m(op_name, num_outputs, inputs, attrs, ctx, name)\u001b[39m\n\u001b[32m     51\u001b[39m \u001b[38;5;28;01mtry\u001b[39;00m:\n\u001b[32m     52\u001b[39m   ctx.ensure_initialized()\n\u001b[32m---> \u001b[39m\u001b[32m53\u001b[39m   tensors = \u001b[43mpywrap_tfe\u001b[49m\u001b[43m.\u001b[49m\u001b[43mTFE_Py_Execute\u001b[49m\u001b[43m(\u001b[49m\u001b[43mctx\u001b[49m\u001b[43m.\u001b[49m\u001b[43m_handle\u001b[49m\u001b[43m,\u001b[49m\u001b[43m \u001b[49m\u001b[43mdevice_name\u001b[49m\u001b[43m,\u001b[49m\u001b[43m \u001b[49m\u001b[43mop_name\u001b[49m\u001b[43m,\u001b[49m\n\u001b[32m     54\u001b[39m \u001b[43m                                      \u001b[49m\u001b[43minputs\u001b[49m\u001b[43m,\u001b[49m\u001b[43m \u001b[49m\u001b[43mattrs\u001b[49m\u001b[43m,\u001b[49m\u001b[43m \u001b[49m\u001b[43mnum_outputs\u001b[49m\u001b[43m)\u001b[49m\n\u001b[32m     55\u001b[39m \u001b[38;5;28;01mexcept\u001b[39;00m core._NotOkStatusException \u001b[38;5;28;01mas\u001b[39;00m e:\n\u001b[32m     56\u001b[39m   \u001b[38;5;28;01mif\u001b[39;00m name \u001b[38;5;129;01mis\u001b[39;00m \u001b[38;5;129;01mnot\u001b[39;00m \u001b[38;5;28;01mNone\u001b[39;00m:\n",
      "\u001b[31mKeyboardInterrupt\u001b[39m: "
     ]
    }
   ],
   "source": [
    "    \n",
    "from tensorflow.keras.callbacks import EarlyStopping, ReduceLROnPlateau, ModelCheckpoint\n",
    "    \n",
    "callbacks = [\n",
    "        EarlyStopping(patience=8, restore_best_weights=True, verbose=1,monitor='val_loss'),\n",
    "        ReduceLROnPlateau(patience=3, factor=0.5, verbose=1, min_lr=1e-7),\n",
    "        ModelCheckpoint('best_simple_fusion_multimodal_model.h5', save_best_only=True, verbose=1)\n",
    "]\n",
    "    \n",
    "    # Train model\n",
    "history = all_sensor_fusion_model.fit(\n",
    "        X_train_list,  # List of [IMU, thermal, ToF] arrays\n",
    "        y_train,\n",
    "        epochs=100,\n",
    "        batch_size=32,\n",
    "        validation_data=(X_val_list, y_val),\n",
    "        callbacks=callbacks,\n",
    "        verbose=1\n",
    "    )\n",
    "history"
   ]
  }
 ],
 "metadata": {
  "kernelspec": {
   "display_name": "ml_env",
   "language": "python",
   "name": "python3"
  },
  "language_info": {
   "codemirror_mode": {
    "name": "ipython",
    "version": 3
   },
   "file_extension": ".py",
   "mimetype": "text/x-python",
   "name": "python",
   "nbconvert_exporter": "python",
   "pygments_lexer": "ipython3",
   "version": "3.12.3"
  }
 },
 "nbformat": 4,
 "nbformat_minor": 2
}
