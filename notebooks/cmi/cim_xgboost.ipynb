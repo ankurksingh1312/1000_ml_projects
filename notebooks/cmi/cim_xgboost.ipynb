{
 "cells": [
  {
   "cell_type": "code",
   "execution_count": 1,
   "metadata": {},
   "outputs": [
    {
     "name": "stderr",
     "output_type": "stream",
     "text": [
      "2025-09-01 11:35:47.275585: I external/local_xla/xla/tsl/cuda/cudart_stub.cc:31] Could not find cuda drivers on your machine, GPU will not be used.\n",
      "2025-09-01 11:35:47.275883: I tensorflow/core/util/port.cc:153] oneDNN custom operations are on. You may see slightly different numerical results due to floating-point round-off errors from different computation orders. To turn them off, set the environment variable `TF_ENABLE_ONEDNN_OPTS=0`.\n",
      "2025-09-01 11:35:47.306695: I tensorflow/core/platform/cpu_feature_guard.cc:210] This TensorFlow binary is optimized to use available CPU instructions in performance-critical operations.\n",
      "To enable the following instructions: AVX2 AVX_VNNI FMA, in other operations, rebuild TensorFlow with the appropriate compiler flags.\n",
      "2025-09-01 11:35:48.285932: I tensorflow/core/util/port.cc:153] oneDNN custom operations are on. You may see slightly different numerical results due to floating-point round-off errors from different computation orders. To turn them off, set the environment variable `TF_ENABLE_ONEDNN_OPTS=0`.\n",
      "2025-09-01 11:35:48.286265: I external/local_xla/xla/tsl/cuda/cudart_stub.cc:31] Could not find cuda drivers on your machine, GPU will not be used.\n"
     ]
    }
   ],
   "source": [
    "import numpy as np\n",
    "import tensorflow as tf\n",
    "from tensorflow.keras.models import load_model\n",
    "from xgboost import XGBClassifier\n",
    "from sklearn.metrics import accuracy_score\n",
    "from sklearn.model_selection import train_test_split"
   ]
  },
  {
   "cell_type": "code",
   "execution_count": 2,
   "metadata": {},
   "outputs": [
    {
     "name": "stdout",
     "output_type": "stream",
     "text": [
      "(8151, 400, 7) (8151, 400, 5) (8151, 400, 320) (8151,)\n"
     ]
    }
   ],
   "source": [
    "data = np.load(\"X_imu_train X_thermal_train X_tof_train Y unscaled.npz\")\n",
    "X_imu_train = data[\"X_imu_train\"]\n",
    "X_thermal_train = data[\"X_thermal_train\"]\n",
    "X_tof_train = data[\"X_tof_train\"]\n",
    "Y = data[\"Y\"]\n",
    "\n",
    "\n",
    "print(X_imu_train.shape, X_thermal_train.shape, X_tof_train.shape, Y.shape)"
   ]
  },
  {
   "cell_type": "code",
   "execution_count": 3,
   "metadata": {},
   "outputs": [
    {
     "name": "stderr",
     "output_type": "stream",
     "text": [
      "WARNING: All log messages before absl::InitializeLog() is called are written to STDERR\n",
      "E0000 00:00:1756706773.832476  182798 cuda_executor.cc:1309] INTERNAL: CUDA Runtime error: Failed call to cudaGetRuntimeVersion: Error loading CUDA libraries. GPU will not be used.: Error loading CUDA libraries. GPU will not be used.\n",
      "W0000 00:00:1756706773.838696  182798 gpu_device.cc:2342] Cannot dlopen some GPU libraries. Please make sure the missing libraries mentioned above are installed properly if you would like to use GPU. Follow the guide at https://www.tensorflow.org/install/gpu for how to download and setup the required libraries for your platform.\n",
      "Skipping registering GPU devices...\n",
      "/home/ankur/Desktop/ML_DL_Projects/ml_env/lib/python3.12/site-packages/keras/src/layers/layer.py:970: UserWarning: Layer 'conv1d' (of type Conv1D) was passed an input with a mask attached to it. However, this layer does not support masking and will therefore destroy the mask information. Downstream layers will not see the mask.\n",
      "  warnings.warn(\n",
      "WARNING:absl:Compiled the loaded model, but the compiled metrics have yet to be built. `model.compile_metrics` will be empty until you train or evaluate the model.\n",
      "WARNING:absl:Compiled the loaded model, but the compiled metrics have yet to be built. `model.compile_metrics` will be empty until you train or evaluate the model.\n",
      "WARNING:absl:Compiled the loaded model, but the compiled metrics have yet to be built. `model.compile_metrics` will be empty until you train or evaluate the model.\n"
     ]
    }
   ],
   "source": [
    "imu_model = load_model(\"cmi_imu_18_3.h5\")\n",
    "thermal_model = load_model(\"cmi_thermal_18.h5\")\n",
    "tof_model = load_model(\"cmi_tof_18.h5\")"
   ]
  },
  {
   "cell_type": "code",
   "execution_count": 4,
   "metadata": {},
   "outputs": [
    {
     "name": "stdout",
     "output_type": "stream",
     "text": [
      "\u001b[1m255/255\u001b[0m \u001b[32m━━━━━━━━━━━━━━━━━━━━\u001b[0m\u001b[37m\u001b[0m \u001b[1m31s\u001b[0m 119ms/step\n",
      "\u001b[1m255/255\u001b[0m \u001b[32m━━━━━━━━━━━━━━━━━━━━\u001b[0m\u001b[37m\u001b[0m \u001b[1m32s\u001b[0m 124ms/step\n",
      "\u001b[1m255/255\u001b[0m \u001b[32m━━━━━━━━━━━━━━━━━━━━\u001b[0m\u001b[37m\u001b[0m \u001b[1m33s\u001b[0m 128ms/step\n"
     ]
    }
   ],
   "source": [
    "pred_imu = imu_model.predict(X_imu_train)\n",
    "pred_thermal = thermal_model.predict(X_thermal_train)\n",
    "pred_tof = tof_model.predict(X_tof_train)"
   ]
  },
  {
   "cell_type": "code",
   "execution_count": 5,
   "metadata": {},
   "outputs": [
    {
     "name": "stdout",
     "output_type": "stream",
     "text": [
      "Meta feature shape: (8151, 54)\n"
     ]
    }
   ],
   "source": [
    "X_meta = np.concatenate([pred_imu, pred_thermal, pred_tof], axis=1)\n",
    "\n",
    "print(\"Meta feature shape:\", X_meta.shape)  "
   ]
  },
  {
   "cell_type": "code",
   "execution_count": 6,
   "metadata": {},
   "outputs": [
    {
     "data": {
      "text/plain": [
       "(8151,)"
      ]
     },
     "execution_count": 6,
     "metadata": {},
     "output_type": "execute_result"
    }
   ],
   "source": [
    "Y.shape"
   ]
  },
  {
   "cell_type": "code",
   "execution_count": 7,
   "metadata": {},
   "outputs": [],
   "source": [
    "X_train_meta, X_val_meta, y_train, y_val = train_test_split(\n",
    "    X_meta, Y, test_size=0.2, random_state=42\n",
    ")"
   ]
  },
  {
   "cell_type": "code",
   "execution_count": 8,
   "metadata": {},
   "outputs": [
    {
     "name": "stdout",
     "output_type": "stream",
     "text": [
      "Data shapes:\n",
      "X_train_meta: (6520, 54)\n",
      "y_train: (6520,)\n",
      "X_val_meta: (1631, 54)\n",
      "y_val: (1631,)\n",
      "\n",
      "Label distribution:\n",
      "y_train unique values: [ 0.  1.  2.  3.  4.  5.  6.  7.  8.  9. 10. 11. 12. 13. 14. 15. 16. 17.]\n",
      "y_val unique values: [ 0.  1.  2.  3.  4.  5.  6.  7.  8.  9. 10. 11. 12. 13. 14. 15. 16. 17.]\n",
      "y_train min/max: 0.0/17.0\n",
      "y_val min/max: 0.0/17.0\n",
      "\n",
      "Data types:\n",
      "X_train_meta dtype: float32\n",
      "y_train dtype: float32\n",
      "\n",
      "Checking for NaN/Inf values:\n",
      "X_train_meta has NaN: False\n",
      "X_train_meta has Inf: False\n",
      "y_train has NaN: False\n"
     ]
    }
   ],
   "source": [
    "print(\"Data shapes:\")\n",
    "print(f\"X_train_meta: {X_train_meta.shape}\")\n",
    "print(f\"y_train: {y_train.shape}\")\n",
    "print(f\"X_val_meta: {X_val_meta.shape}\")\n",
    "print(f\"y_val: {y_val.shape}\")\n",
    "\n",
    "print(\"\\nLabel distribution:\")\n",
    "print(f\"y_train unique values: {np.unique(y_train)}\")\n",
    "print(f\"y_val unique values: {np.unique(y_val)}\")\n",
    "print(f\"y_train min/max: {y_train.min()}/{y_train.max()}\")\n",
    "print(f\"y_val min/max: {y_val.min()}/{y_val.max()}\")\n",
    "\n",
    "print(\"\\nData types:\")\n",
    "print(f\"X_train_meta dtype: {X_train_meta.dtype}\")\n",
    "print(f\"y_train dtype: {y_train.dtype}\")\n",
    "\n",
    "print(\"\\nChecking for NaN/Inf values:\")\n",
    "print(f\"X_train_meta has NaN: {np.isnan(X_train_meta).any()}\")\n",
    "print(f\"X_train_meta has Inf: {np.isinf(X_train_meta).any()}\")\n",
    "print(f\"y_train has NaN: {np.isnan(y_train).any()}\")\n",
    "\n",
    "# Clean the data if needed\n",
    "if np.isnan(X_train_meta).any() or np.isinf(X_train_meta).any():\n",
    "    print(\"Cleaning training data...\")\n",
    "    # X_train_meta = np.nan_to_num(X_train_meta, nan=0.0, posinf=1e6, neginf=-1e6)\n",
    "    \n",
    "if np.isnan(X_val_meta).any() or np.isinf(X_val_meta).any():\n",
    "    print(\"Cleaning validation data...\")\n",
    "    # X_val_meta = np.nan_to_num(X_val_meta, nan=0.0, posinf=1e6, neginf=-1e6)"
   ]
  },
  {
   "cell_type": "code",
   "execution_count": 9,
   "metadata": {},
   "outputs": [
    {
     "name": "stdout",
     "output_type": "stream",
     "text": [
      "✅ Found: 'Above ear - pull hair'\n",
      "✅ Found: 'Forehead - pull hairline'\n",
      "✅ Found: 'Forehead - scratch'\n",
      "✅ Found: 'Eyebrow - pull hair'\n",
      "✅ Found: 'Eyelash - pull hair'\n",
      "✅ Found: 'Neck - pinch skin'\n",
      "✅ Found: 'Neck - scratch'\n",
      "✅ Found: 'Cheek - pinch skin'\n",
      "[10 10 10 10 10] (6520,)\n"
     ]
    }
   ],
   "source": [
    "from sklearn.preprocessing import LabelEncoder\n",
    "classes = np.load(\"imu_18_classes.npy\", allow_pickle=True)\n",
    "encoder = LabelEncoder()\n",
    "encoder.classes_ = classes\n",
    "classes\n",
    "# List of important classes\n",
    "important_classes = [\n",
    "    'Above ear - pull hair', 'Forehead - pull hairline', 'Forehead - scratch',\n",
    "    'Eyebrow - pull hair', 'Eyelash - pull hair',\n",
    "    'Neck - pinch skin', 'Neck - scratch', 'Cheek - pinch skin'\n",
    "]\n",
    "for t_class in important_classes:\n",
    "    if t_class not in classes:\n",
    "        print(f\"⚠️ Target class NOT found in class_names: '{t_class}'\")\n",
    "    else:\n",
    "        print(f\"✅ Found: '{t_class}'\")\n",
    "\n",
    "# Map class names to indices\n",
    "class_mapping = {name: idx for idx, name in enumerate(classes)}\n",
    "\n",
    "important_class_indices = [class_mapping[c] for c in important_classes]\n",
    "\n",
    "# Create weights: 5x weight for important classes (you can tune)\n",
    "sample_weights = np.array([10 if y in important_class_indices else 1 for y in y_train])\n",
    "print(sample_weights[0:5],sample_weights.shape)"
   ]
  },
  {
   "cell_type": "code",
   "execution_count": 10,
   "metadata": {},
   "outputs": [
    {
     "name": "stdout",
     "output_type": "stream",
     "text": [
      "[0]\tvalidation_0-mlogloss:2.65235\n",
      "[1]\tvalidation_0-mlogloss:2.48122\n",
      "[2]\tvalidation_0-mlogloss:2.34193\n",
      "[3]\tvalidation_0-mlogloss:2.22633\n",
      "[4]\tvalidation_0-mlogloss:2.12159\n",
      "[5]\tvalidation_0-mlogloss:2.03420\n",
      "[6]\tvalidation_0-mlogloss:1.95661\n",
      "[7]\tvalidation_0-mlogloss:1.88620\n",
      "[8]\tvalidation_0-mlogloss:1.82272\n",
      "[9]\tvalidation_0-mlogloss:1.76369\n",
      "[10]\tvalidation_0-mlogloss:1.70993\n",
      "[11]\tvalidation_0-mlogloss:1.66032\n",
      "[12]\tvalidation_0-mlogloss:1.61422\n",
      "[13]\tvalidation_0-mlogloss:1.57046\n",
      "[14]\tvalidation_0-mlogloss:1.53165\n",
      "[15]\tvalidation_0-mlogloss:1.49457\n",
      "[16]\tvalidation_0-mlogloss:1.45909\n",
      "[17]\tvalidation_0-mlogloss:1.42475\n",
      "[18]\tvalidation_0-mlogloss:1.39376\n",
      "[19]\tvalidation_0-mlogloss:1.36478\n",
      "[20]\tvalidation_0-mlogloss:1.33837\n",
      "[21]\tvalidation_0-mlogloss:1.31210\n",
      "[22]\tvalidation_0-mlogloss:1.28807\n",
      "[23]\tvalidation_0-mlogloss:1.26474\n",
      "[24]\tvalidation_0-mlogloss:1.24338\n",
      "[25]\tvalidation_0-mlogloss:1.22233\n",
      "[26]\tvalidation_0-mlogloss:1.20219\n",
      "[27]\tvalidation_0-mlogloss:1.18344\n",
      "[28]\tvalidation_0-mlogloss:1.16495\n",
      "[29]\tvalidation_0-mlogloss:1.14805\n",
      "[30]\tvalidation_0-mlogloss:1.13238\n",
      "[31]\tvalidation_0-mlogloss:1.11677\n",
      "[32]\tvalidation_0-mlogloss:1.10204\n",
      "[33]\tvalidation_0-mlogloss:1.08779\n",
      "[34]\tvalidation_0-mlogloss:1.07382\n",
      "[35]\tvalidation_0-mlogloss:1.06096\n",
      "[36]\tvalidation_0-mlogloss:1.04818\n",
      "[37]\tvalidation_0-mlogloss:1.03644\n",
      "[38]\tvalidation_0-mlogloss:1.02507\n",
      "[39]\tvalidation_0-mlogloss:1.01376\n",
      "[40]\tvalidation_0-mlogloss:1.00337\n",
      "[41]\tvalidation_0-mlogloss:0.99320\n",
      "[42]\tvalidation_0-mlogloss:0.98330\n",
      "[43]\tvalidation_0-mlogloss:0.97381\n",
      "[44]\tvalidation_0-mlogloss:0.96515\n",
      "[45]\tvalidation_0-mlogloss:0.95664\n",
      "[46]\tvalidation_0-mlogloss:0.94838\n",
      "[47]\tvalidation_0-mlogloss:0.94113\n",
      "[48]\tvalidation_0-mlogloss:0.93364\n",
      "[49]\tvalidation_0-mlogloss:0.92657\n",
      "[50]\tvalidation_0-mlogloss:0.91969\n",
      "[51]\tvalidation_0-mlogloss:0.91350\n",
      "[52]\tvalidation_0-mlogloss:0.90732\n",
      "[53]\tvalidation_0-mlogloss:0.90122\n",
      "[54]\tvalidation_0-mlogloss:0.89534\n",
      "[55]\tvalidation_0-mlogloss:0.88995\n",
      "[56]\tvalidation_0-mlogloss:0.88484\n",
      "[57]\tvalidation_0-mlogloss:0.87975\n",
      "[58]\tvalidation_0-mlogloss:0.87495\n",
      "[59]\tvalidation_0-mlogloss:0.86980\n",
      "[60]\tvalidation_0-mlogloss:0.86531\n",
      "[61]\tvalidation_0-mlogloss:0.86084\n",
      "[62]\tvalidation_0-mlogloss:0.85656\n",
      "[63]\tvalidation_0-mlogloss:0.85270\n",
      "[64]\tvalidation_0-mlogloss:0.84909\n",
      "[65]\tvalidation_0-mlogloss:0.84535\n",
      "[66]\tvalidation_0-mlogloss:0.84214\n",
      "[67]\tvalidation_0-mlogloss:0.83869\n",
      "[68]\tvalidation_0-mlogloss:0.83571\n",
      "[69]\tvalidation_0-mlogloss:0.83266\n",
      "[70]\tvalidation_0-mlogloss:0.82990\n",
      "[71]\tvalidation_0-mlogloss:0.82714\n",
      "[72]\tvalidation_0-mlogloss:0.82406\n",
      "[73]\tvalidation_0-mlogloss:0.82104\n",
      "[74]\tvalidation_0-mlogloss:0.81816\n",
      "[75]\tvalidation_0-mlogloss:0.81541\n",
      "[76]\tvalidation_0-mlogloss:0.81292\n",
      "[77]\tvalidation_0-mlogloss:0.81062\n",
      "[78]\tvalidation_0-mlogloss:0.80861\n",
      "[79]\tvalidation_0-mlogloss:0.80655\n",
      "[80]\tvalidation_0-mlogloss:0.80458\n",
      "[81]\tvalidation_0-mlogloss:0.80231\n",
      "[82]\tvalidation_0-mlogloss:0.80068\n",
      "[83]\tvalidation_0-mlogloss:0.79856\n",
      "[84]\tvalidation_0-mlogloss:0.79692\n",
      "[85]\tvalidation_0-mlogloss:0.79530\n",
      "[86]\tvalidation_0-mlogloss:0.79368\n",
      "[87]\tvalidation_0-mlogloss:0.79203\n",
      "[88]\tvalidation_0-mlogloss:0.79018\n",
      "[89]\tvalidation_0-mlogloss:0.78880\n",
      "[90]\tvalidation_0-mlogloss:0.78750\n",
      "[91]\tvalidation_0-mlogloss:0.78574\n",
      "[92]\tvalidation_0-mlogloss:0.78449\n",
      "[93]\tvalidation_0-mlogloss:0.78317\n",
      "[94]\tvalidation_0-mlogloss:0.78168\n",
      "[95]\tvalidation_0-mlogloss:0.78094\n",
      "[96]\tvalidation_0-mlogloss:0.77954\n",
      "[97]\tvalidation_0-mlogloss:0.77872\n",
      "[98]\tvalidation_0-mlogloss:0.77812\n",
      "[99]\tvalidation_0-mlogloss:0.77722\n",
      "[100]\tvalidation_0-mlogloss:0.77649\n",
      "[101]\tvalidation_0-mlogloss:0.77543\n",
      "[102]\tvalidation_0-mlogloss:0.77473\n",
      "[103]\tvalidation_0-mlogloss:0.77379\n",
      "[104]\tvalidation_0-mlogloss:0.77292\n",
      "[105]\tvalidation_0-mlogloss:0.77219\n",
      "[106]\tvalidation_0-mlogloss:0.77118\n",
      "[107]\tvalidation_0-mlogloss:0.77032\n",
      "[108]\tvalidation_0-mlogloss:0.76955\n",
      "[109]\tvalidation_0-mlogloss:0.76884\n",
      "[110]\tvalidation_0-mlogloss:0.76815\n",
      "[111]\tvalidation_0-mlogloss:0.76746\n",
      "[112]\tvalidation_0-mlogloss:0.76654\n",
      "[113]\tvalidation_0-mlogloss:0.76589\n",
      "[114]\tvalidation_0-mlogloss:0.76558\n",
      "[115]\tvalidation_0-mlogloss:0.76496\n",
      "[116]\tvalidation_0-mlogloss:0.76455\n",
      "[117]\tvalidation_0-mlogloss:0.76392\n",
      "[118]\tvalidation_0-mlogloss:0.76334\n",
      "[119]\tvalidation_0-mlogloss:0.76281\n",
      "[120]\tvalidation_0-mlogloss:0.76253\n",
      "[121]\tvalidation_0-mlogloss:0.76194\n",
      "[122]\tvalidation_0-mlogloss:0.76147\n",
      "[123]\tvalidation_0-mlogloss:0.76108\n",
      "[124]\tvalidation_0-mlogloss:0.76070\n",
      "[125]\tvalidation_0-mlogloss:0.76033\n",
      "[126]\tvalidation_0-mlogloss:0.75997\n",
      "[127]\tvalidation_0-mlogloss:0.75981\n",
      "[128]\tvalidation_0-mlogloss:0.75984\n",
      "[129]\tvalidation_0-mlogloss:0.75945\n",
      "[130]\tvalidation_0-mlogloss:0.75898\n",
      "[131]\tvalidation_0-mlogloss:0.75881\n",
      "[132]\tvalidation_0-mlogloss:0.75832\n",
      "[133]\tvalidation_0-mlogloss:0.75816\n",
      "[134]\tvalidation_0-mlogloss:0.75809\n",
      "[135]\tvalidation_0-mlogloss:0.75842\n",
      "[136]\tvalidation_0-mlogloss:0.75831\n",
      "[137]\tvalidation_0-mlogloss:0.75862\n",
      "[138]\tvalidation_0-mlogloss:0.75821\n",
      "[139]\tvalidation_0-mlogloss:0.75838\n",
      "[140]\tvalidation_0-mlogloss:0.75855\n",
      "[141]\tvalidation_0-mlogloss:0.75899\n",
      "[142]\tvalidation_0-mlogloss:0.75900\n",
      "[143]\tvalidation_0-mlogloss:0.75878\n",
      "[144]\tvalidation_0-mlogloss:0.75889\n",
      "[145]\tvalidation_0-mlogloss:0.75906\n",
      "[146]\tvalidation_0-mlogloss:0.75887\n",
      "[147]\tvalidation_0-mlogloss:0.75875\n",
      "[148]\tvalidation_0-mlogloss:0.75898\n",
      "[149]\tvalidation_0-mlogloss:0.75886\n",
      "[150]\tvalidation_0-mlogloss:0.75880\n",
      "[151]\tvalidation_0-mlogloss:0.75924\n",
      "[152]\tvalidation_0-mlogloss:0.75916\n",
      "[153]\tvalidation_0-mlogloss:0.75907\n",
      "[154]\tvalidation_0-mlogloss:0.75927\n",
      "[155]\tvalidation_0-mlogloss:0.75917\n",
      "[156]\tvalidation_0-mlogloss:0.75961\n",
      "[157]\tvalidation_0-mlogloss:0.75926\n",
      "[158]\tvalidation_0-mlogloss:0.75964\n",
      "[159]\tvalidation_0-mlogloss:0.75949\n",
      "[160]\tvalidation_0-mlogloss:0.75918\n",
      "[161]\tvalidation_0-mlogloss:0.75925\n",
      "[162]\tvalidation_0-mlogloss:0.75931\n",
      "[163]\tvalidation_0-mlogloss:0.75909\n",
      "[164]\tvalidation_0-mlogloss:0.75887\n",
      "[165]\tvalidation_0-mlogloss:0.75900\n",
      "[166]\tvalidation_0-mlogloss:0.75888\n",
      "[167]\tvalidation_0-mlogloss:0.75904\n",
      "[168]\tvalidation_0-mlogloss:0.75871\n",
      "[169]\tvalidation_0-mlogloss:0.75888\n",
      "[170]\tvalidation_0-mlogloss:0.75919\n",
      "[171]\tvalidation_0-mlogloss:0.75958\n",
      "[172]\tvalidation_0-mlogloss:0.75973\n",
      "[173]\tvalidation_0-mlogloss:0.76003\n",
      "[174]\tvalidation_0-mlogloss:0.76051\n",
      "[175]\tvalidation_0-mlogloss:0.76046\n",
      "[176]\tvalidation_0-mlogloss:0.76058\n",
      "[177]\tvalidation_0-mlogloss:0.76091\n",
      "[178]\tvalidation_0-mlogloss:0.76134\n",
      "[179]\tvalidation_0-mlogloss:0.76158\n",
      "[180]\tvalidation_0-mlogloss:0.76186\n",
      "[181]\tvalidation_0-mlogloss:0.76203\n",
      "[182]\tvalidation_0-mlogloss:0.76198\n",
      "[183]\tvalidation_0-mlogloss:0.76229\n",
      "[184]\tvalidation_0-mlogloss:0.76298\n",
      "[185]\tvalidation_0-mlogloss:0.76305\n",
      "[186]\tvalidation_0-mlogloss:0.76302\n",
      "[187]\tvalidation_0-mlogloss:0.76337\n",
      "[188]\tvalidation_0-mlogloss:0.76350\n",
      "[189]\tvalidation_0-mlogloss:0.76349\n",
      "[190]\tvalidation_0-mlogloss:0.76360\n",
      "[191]\tvalidation_0-mlogloss:0.76391\n",
      "[192]\tvalidation_0-mlogloss:0.76410\n",
      "[193]\tvalidation_0-mlogloss:0.76482\n",
      "[194]\tvalidation_0-mlogloss:0.76507\n",
      "[195]\tvalidation_0-mlogloss:0.76526\n",
      "[196]\tvalidation_0-mlogloss:0.76552\n",
      "[197]\tvalidation_0-mlogloss:0.76609\n",
      "[198]\tvalidation_0-mlogloss:0.76625\n",
      "[199]\tvalidation_0-mlogloss:0.76645\n",
      "[200]\tvalidation_0-mlogloss:0.76653\n",
      "[201]\tvalidation_0-mlogloss:0.76648\n",
      "[202]\tvalidation_0-mlogloss:0.76646\n",
      "[203]\tvalidation_0-mlogloss:0.76665\n",
      "[204]\tvalidation_0-mlogloss:0.76725\n",
      "[205]\tvalidation_0-mlogloss:0.76744\n",
      "[206]\tvalidation_0-mlogloss:0.76757\n",
      "[207]\tvalidation_0-mlogloss:0.76816\n",
      "[208]\tvalidation_0-mlogloss:0.76870\n",
      "[209]\tvalidation_0-mlogloss:0.76931\n",
      "[210]\tvalidation_0-mlogloss:0.76985\n",
      "[211]\tvalidation_0-mlogloss:0.77046\n",
      "[212]\tvalidation_0-mlogloss:0.77048\n",
      "[213]\tvalidation_0-mlogloss:0.77080\n",
      "[214]\tvalidation_0-mlogloss:0.77157\n",
      "[215]\tvalidation_0-mlogloss:0.77196\n",
      "[216]\tvalidation_0-mlogloss:0.77190\n",
      "[217]\tvalidation_0-mlogloss:0.77251\n",
      "[218]\tvalidation_0-mlogloss:0.77277\n",
      "[219]\tvalidation_0-mlogloss:0.77290\n",
      "[220]\tvalidation_0-mlogloss:0.77331\n",
      "[221]\tvalidation_0-mlogloss:0.77357\n",
      "[222]\tvalidation_0-mlogloss:0.77351\n",
      "[223]\tvalidation_0-mlogloss:0.77398\n",
      "[224]\tvalidation_0-mlogloss:0.77442\n",
      "[225]\tvalidation_0-mlogloss:0.77464\n",
      "[226]\tvalidation_0-mlogloss:0.77497\n",
      "[227]\tvalidation_0-mlogloss:0.77553\n",
      "[228]\tvalidation_0-mlogloss:0.77592\n",
      "[229]\tvalidation_0-mlogloss:0.77634\n",
      "[230]\tvalidation_0-mlogloss:0.77649\n",
      "[231]\tvalidation_0-mlogloss:0.77713\n",
      "[232]\tvalidation_0-mlogloss:0.77772\n",
      "[233]\tvalidation_0-mlogloss:0.77787\n",
      "[234]\tvalidation_0-mlogloss:0.77792\n",
      "[235]\tvalidation_0-mlogloss:0.77839\n",
      "[236]\tvalidation_0-mlogloss:0.77876\n",
      "[237]\tvalidation_0-mlogloss:0.77909\n",
      "[238]\tvalidation_0-mlogloss:0.77915\n",
      "[239]\tvalidation_0-mlogloss:0.78009\n",
      "[240]\tvalidation_0-mlogloss:0.78064\n",
      "[241]\tvalidation_0-mlogloss:0.78090\n",
      "[242]\tvalidation_0-mlogloss:0.78141\n",
      "[243]\tvalidation_0-mlogloss:0.78153\n",
      "[244]\tvalidation_0-mlogloss:0.78219\n",
      "[245]\tvalidation_0-mlogloss:0.78279\n",
      "[246]\tvalidation_0-mlogloss:0.78275\n",
      "[247]\tvalidation_0-mlogloss:0.78316\n",
      "[248]\tvalidation_0-mlogloss:0.78363\n",
      "[249]\tvalidation_0-mlogloss:0.78418\n",
      "[250]\tvalidation_0-mlogloss:0.78437\n",
      "[251]\tvalidation_0-mlogloss:0.78484\n",
      "[252]\tvalidation_0-mlogloss:0.78513\n",
      "[253]\tvalidation_0-mlogloss:0.78527\n",
      "[254]\tvalidation_0-mlogloss:0.78569\n",
      "[255]\tvalidation_0-mlogloss:0.78646\n",
      "[256]\tvalidation_0-mlogloss:0.78694\n",
      "[257]\tvalidation_0-mlogloss:0.78749\n",
      "[258]\tvalidation_0-mlogloss:0.78815\n",
      "[259]\tvalidation_0-mlogloss:0.78845\n",
      "[260]\tvalidation_0-mlogloss:0.78865\n",
      "[261]\tvalidation_0-mlogloss:0.78912\n",
      "[262]\tvalidation_0-mlogloss:0.78946\n",
      "[263]\tvalidation_0-mlogloss:0.78984\n",
      "[264]\tvalidation_0-mlogloss:0.79023\n",
      "[265]\tvalidation_0-mlogloss:0.79025\n",
      "[266]\tvalidation_0-mlogloss:0.79076\n",
      "[267]\tvalidation_0-mlogloss:0.79102\n",
      "[268]\tvalidation_0-mlogloss:0.79116\n",
      "[269]\tvalidation_0-mlogloss:0.79166\n",
      "[270]\tvalidation_0-mlogloss:0.79200\n",
      "[271]\tvalidation_0-mlogloss:0.79231\n",
      "[272]\tvalidation_0-mlogloss:0.79242\n",
      "[273]\tvalidation_0-mlogloss:0.79290\n",
      "[274]\tvalidation_0-mlogloss:0.79333\n",
      "[275]\tvalidation_0-mlogloss:0.79375\n",
      "[276]\tvalidation_0-mlogloss:0.79389\n",
      "[277]\tvalidation_0-mlogloss:0.79461\n",
      "[278]\tvalidation_0-mlogloss:0.79522\n",
      "[279]\tvalidation_0-mlogloss:0.79585\n",
      "[280]\tvalidation_0-mlogloss:0.79630\n",
      "[281]\tvalidation_0-mlogloss:0.79682\n",
      "[282]\tvalidation_0-mlogloss:0.79761\n",
      "[283]\tvalidation_0-mlogloss:0.79816\n",
      "[284]\tvalidation_0-mlogloss:0.79859\n",
      "[285]\tvalidation_0-mlogloss:0.79901\n",
      "[286]\tvalidation_0-mlogloss:0.79926\n",
      "[287]\tvalidation_0-mlogloss:0.79952\n",
      "[288]\tvalidation_0-mlogloss:0.79971\n",
      "[289]\tvalidation_0-mlogloss:0.80013\n",
      "[290]\tvalidation_0-mlogloss:0.80081\n",
      "[291]\tvalidation_0-mlogloss:0.80122\n",
      "[292]\tvalidation_0-mlogloss:0.80169\n",
      "[293]\tvalidation_0-mlogloss:0.80213\n",
      "[294]\tvalidation_0-mlogloss:0.80263\n",
      "[295]\tvalidation_0-mlogloss:0.80326\n",
      "[296]\tvalidation_0-mlogloss:0.80358\n",
      "[297]\tvalidation_0-mlogloss:0.80425\n",
      "[298]\tvalidation_0-mlogloss:0.80455\n",
      "[299]\tvalidation_0-mlogloss:0.80512\n",
      "[300]\tvalidation_0-mlogloss:0.80549\n",
      "[301]\tvalidation_0-mlogloss:0.80560\n",
      "[302]\tvalidation_0-mlogloss:0.80619\n",
      "[303]\tvalidation_0-mlogloss:0.80642\n",
      "[304]\tvalidation_0-mlogloss:0.80682\n",
      "[305]\tvalidation_0-mlogloss:0.80730\n",
      "[306]\tvalidation_0-mlogloss:0.80755\n",
      "[307]\tvalidation_0-mlogloss:0.80768\n",
      "[308]\tvalidation_0-mlogloss:0.80846\n",
      "[309]\tvalidation_0-mlogloss:0.80889\n",
      "[310]\tvalidation_0-mlogloss:0.80965\n",
      "[311]\tvalidation_0-mlogloss:0.81043\n",
      "[312]\tvalidation_0-mlogloss:0.81056\n",
      "[313]\tvalidation_0-mlogloss:0.81102\n",
      "[314]\tvalidation_0-mlogloss:0.81131\n",
      "[315]\tvalidation_0-mlogloss:0.81206\n",
      "[316]\tvalidation_0-mlogloss:0.81261\n",
      "[317]\tvalidation_0-mlogloss:0.81299\n",
      "[318]\tvalidation_0-mlogloss:0.81331\n",
      "[319]\tvalidation_0-mlogloss:0.81389\n",
      "[320]\tvalidation_0-mlogloss:0.81426\n",
      "[321]\tvalidation_0-mlogloss:0.81486\n",
      "[322]\tvalidation_0-mlogloss:0.81540\n",
      "[323]\tvalidation_0-mlogloss:0.81602\n",
      "[324]\tvalidation_0-mlogloss:0.81627\n",
      "[325]\tvalidation_0-mlogloss:0.81664\n",
      "[326]\tvalidation_0-mlogloss:0.81716\n",
      "[327]\tvalidation_0-mlogloss:0.81760\n",
      "[328]\tvalidation_0-mlogloss:0.81804\n",
      "[329]\tvalidation_0-mlogloss:0.81867\n",
      "[330]\tvalidation_0-mlogloss:0.81892\n",
      "[331]\tvalidation_0-mlogloss:0.81942\n",
      "[332]\tvalidation_0-mlogloss:0.81977\n",
      "[333]\tvalidation_0-mlogloss:0.82038\n",
      "[334]\tvalidation_0-mlogloss:0.82075\n",
      "[335]\tvalidation_0-mlogloss:0.82118\n",
      "[336]\tvalidation_0-mlogloss:0.82167\n",
      "[337]\tvalidation_0-mlogloss:0.82219\n",
      "[338]\tvalidation_0-mlogloss:0.82239\n",
      "[339]\tvalidation_0-mlogloss:0.82277\n",
      "[340]\tvalidation_0-mlogloss:0.82303\n",
      "[341]\tvalidation_0-mlogloss:0.82352\n",
      "[342]\tvalidation_0-mlogloss:0.82407\n",
      "[343]\tvalidation_0-mlogloss:0.82453\n",
      "[344]\tvalidation_0-mlogloss:0.82509\n",
      "[345]\tvalidation_0-mlogloss:0.82565\n",
      "[346]\tvalidation_0-mlogloss:0.82622\n",
      "[347]\tvalidation_0-mlogloss:0.82685\n",
      "[348]\tvalidation_0-mlogloss:0.82768\n",
      "[349]\tvalidation_0-mlogloss:0.82841\n",
      "[350]\tvalidation_0-mlogloss:0.82856\n",
      "[351]\tvalidation_0-mlogloss:0.82890\n",
      "[352]\tvalidation_0-mlogloss:0.82937\n",
      "[353]\tvalidation_0-mlogloss:0.83005\n",
      "[354]\tvalidation_0-mlogloss:0.83078\n",
      "[355]\tvalidation_0-mlogloss:0.83090\n",
      "[356]\tvalidation_0-mlogloss:0.83131\n",
      "[357]\tvalidation_0-mlogloss:0.83181\n",
      "[358]\tvalidation_0-mlogloss:0.83223\n",
      "[359]\tvalidation_0-mlogloss:0.83243\n",
      "[360]\tvalidation_0-mlogloss:0.83301\n",
      "[361]\tvalidation_0-mlogloss:0.83350\n",
      "[362]\tvalidation_0-mlogloss:0.83365\n",
      "[363]\tvalidation_0-mlogloss:0.83401\n",
      "[364]\tvalidation_0-mlogloss:0.83460\n",
      "[365]\tvalidation_0-mlogloss:0.83511\n",
      "[366]\tvalidation_0-mlogloss:0.83529\n",
      "[367]\tvalidation_0-mlogloss:0.83569\n",
      "[368]\tvalidation_0-mlogloss:0.83636\n",
      "[369]\tvalidation_0-mlogloss:0.83699\n",
      "[370]\tvalidation_0-mlogloss:0.83774\n",
      "[371]\tvalidation_0-mlogloss:0.83841\n",
      "[372]\tvalidation_0-mlogloss:0.83876\n",
      "[373]\tvalidation_0-mlogloss:0.83934\n",
      "[374]\tvalidation_0-mlogloss:0.83992\n",
      "[375]\tvalidation_0-mlogloss:0.84037\n",
      "[376]\tvalidation_0-mlogloss:0.84096\n",
      "[377]\tvalidation_0-mlogloss:0.84128\n",
      "[378]\tvalidation_0-mlogloss:0.84180\n",
      "[379]\tvalidation_0-mlogloss:0.84211\n",
      "[380]\tvalidation_0-mlogloss:0.84270\n",
      "[381]\tvalidation_0-mlogloss:0.84303\n",
      "[382]\tvalidation_0-mlogloss:0.84320\n",
      "[383]\tvalidation_0-mlogloss:0.84351\n",
      "[384]\tvalidation_0-mlogloss:0.84401\n",
      "[385]\tvalidation_0-mlogloss:0.84493\n",
      "[386]\tvalidation_0-mlogloss:0.84545\n",
      "[387]\tvalidation_0-mlogloss:0.84587\n",
      "[388]\tvalidation_0-mlogloss:0.84636\n",
      "[389]\tvalidation_0-mlogloss:0.84671\n",
      "[390]\tvalidation_0-mlogloss:0.84688\n",
      "[391]\tvalidation_0-mlogloss:0.84738\n",
      "[392]\tvalidation_0-mlogloss:0.84739\n",
      "[393]\tvalidation_0-mlogloss:0.84794\n",
      "[394]\tvalidation_0-mlogloss:0.84829\n",
      "[395]\tvalidation_0-mlogloss:0.84860\n",
      "[396]\tvalidation_0-mlogloss:0.84914\n",
      "[397]\tvalidation_0-mlogloss:0.84963\n",
      "[398]\tvalidation_0-mlogloss:0.84982\n",
      "[399]\tvalidation_0-mlogloss:0.85039\n",
      "[400]\tvalidation_0-mlogloss:0.85062\n",
      "[401]\tvalidation_0-mlogloss:0.85139\n",
      "[402]\tvalidation_0-mlogloss:0.85183\n",
      "[403]\tvalidation_0-mlogloss:0.85255\n",
      "[404]\tvalidation_0-mlogloss:0.85338\n",
      "[405]\tvalidation_0-mlogloss:0.85379\n",
      "[406]\tvalidation_0-mlogloss:0.85424\n",
      "[407]\tvalidation_0-mlogloss:0.85424\n",
      "[408]\tvalidation_0-mlogloss:0.85465\n",
      "[409]\tvalidation_0-mlogloss:0.85540\n",
      "[410]\tvalidation_0-mlogloss:0.85627\n",
      "[411]\tvalidation_0-mlogloss:0.85643\n",
      "[412]\tvalidation_0-mlogloss:0.85677\n",
      "[413]\tvalidation_0-mlogloss:0.85741\n",
      "[414]\tvalidation_0-mlogloss:0.85790\n",
      "[415]\tvalidation_0-mlogloss:0.85866\n",
      "[416]\tvalidation_0-mlogloss:0.85912\n",
      "[417]\tvalidation_0-mlogloss:0.85976\n",
      "[418]\tvalidation_0-mlogloss:0.85997\n",
      "[419]\tvalidation_0-mlogloss:0.86063\n",
      "[420]\tvalidation_0-mlogloss:0.86114\n",
      "[421]\tvalidation_0-mlogloss:0.86173\n",
      "[422]\tvalidation_0-mlogloss:0.86202\n",
      "[423]\tvalidation_0-mlogloss:0.86259\n",
      "[424]\tvalidation_0-mlogloss:0.86307\n",
      "[425]\tvalidation_0-mlogloss:0.86348\n",
      "[426]\tvalidation_0-mlogloss:0.86389\n",
      "[427]\tvalidation_0-mlogloss:0.86427\n",
      "[428]\tvalidation_0-mlogloss:0.86475\n",
      "[429]\tvalidation_0-mlogloss:0.86507\n",
      "[430]\tvalidation_0-mlogloss:0.86552\n",
      "[431]\tvalidation_0-mlogloss:0.86583\n",
      "[432]\tvalidation_0-mlogloss:0.86635\n",
      "[433]\tvalidation_0-mlogloss:0.86675\n",
      "[434]\tvalidation_0-mlogloss:0.86754\n",
      "[435]\tvalidation_0-mlogloss:0.86821\n",
      "[436]\tvalidation_0-mlogloss:0.86883\n",
      "[437]\tvalidation_0-mlogloss:0.86927\n",
      "[438]\tvalidation_0-mlogloss:0.86987\n",
      "[439]\tvalidation_0-mlogloss:0.87034\n",
      "[440]\tvalidation_0-mlogloss:0.87113\n",
      "[441]\tvalidation_0-mlogloss:0.87154\n",
      "[442]\tvalidation_0-mlogloss:0.87179\n",
      "[443]\tvalidation_0-mlogloss:0.87230\n",
      "[444]\tvalidation_0-mlogloss:0.87289\n",
      "[445]\tvalidation_0-mlogloss:0.87333\n",
      "[446]\tvalidation_0-mlogloss:0.87395\n",
      "[447]\tvalidation_0-mlogloss:0.87435\n",
      "[448]\tvalidation_0-mlogloss:0.87480\n",
      "[449]\tvalidation_0-mlogloss:0.87487\n",
      "[450]\tvalidation_0-mlogloss:0.87515\n",
      "[451]\tvalidation_0-mlogloss:0.87565\n",
      "[452]\tvalidation_0-mlogloss:0.87613\n",
      "[453]\tvalidation_0-mlogloss:0.87682\n",
      "[454]\tvalidation_0-mlogloss:0.87744\n",
      "[455]\tvalidation_0-mlogloss:0.87784\n",
      "[456]\tvalidation_0-mlogloss:0.87854\n",
      "[457]\tvalidation_0-mlogloss:0.87903\n",
      "[458]\tvalidation_0-mlogloss:0.87946\n",
      "[459]\tvalidation_0-mlogloss:0.88024\n",
      "[460]\tvalidation_0-mlogloss:0.88083\n",
      "[461]\tvalidation_0-mlogloss:0.88132\n",
      "[462]\tvalidation_0-mlogloss:0.88145\n",
      "[463]\tvalidation_0-mlogloss:0.88179\n",
      "[464]\tvalidation_0-mlogloss:0.88215\n",
      "[465]\tvalidation_0-mlogloss:0.88236\n",
      "[466]\tvalidation_0-mlogloss:0.88255\n",
      "[467]\tvalidation_0-mlogloss:0.88313\n",
      "[468]\tvalidation_0-mlogloss:0.88360\n",
      "[469]\tvalidation_0-mlogloss:0.88397\n",
      "[470]\tvalidation_0-mlogloss:0.88421\n",
      "[471]\tvalidation_0-mlogloss:0.88476\n",
      "[472]\tvalidation_0-mlogloss:0.88521\n",
      "[473]\tvalidation_0-mlogloss:0.88532\n",
      "[474]\tvalidation_0-mlogloss:0.88587\n",
      "[475]\tvalidation_0-mlogloss:0.88657\n",
      "[476]\tvalidation_0-mlogloss:0.88713\n",
      "[477]\tvalidation_0-mlogloss:0.88784\n",
      "[478]\tvalidation_0-mlogloss:0.88812\n",
      "[479]\tvalidation_0-mlogloss:0.88879\n",
      "[480]\tvalidation_0-mlogloss:0.88909\n",
      "[481]\tvalidation_0-mlogloss:0.88922\n",
      "[482]\tvalidation_0-mlogloss:0.88954\n",
      "[483]\tvalidation_0-mlogloss:0.89011\n",
      "[484]\tvalidation_0-mlogloss:0.89080\n",
      "[485]\tvalidation_0-mlogloss:0.89132\n",
      "[486]\tvalidation_0-mlogloss:0.89188\n",
      "[487]\tvalidation_0-mlogloss:0.89231\n",
      "[488]\tvalidation_0-mlogloss:0.89301\n",
      "[489]\tvalidation_0-mlogloss:0.89329\n",
      "[490]\tvalidation_0-mlogloss:0.89339\n",
      "[491]\tvalidation_0-mlogloss:0.89411\n",
      "[492]\tvalidation_0-mlogloss:0.89448\n",
      "[493]\tvalidation_0-mlogloss:0.89492\n",
      "[494]\tvalidation_0-mlogloss:0.89518\n",
      "[495]\tvalidation_0-mlogloss:0.89540\n",
      "[496]\tvalidation_0-mlogloss:0.89575\n",
      "[497]\tvalidation_0-mlogloss:0.89604\n",
      "[498]\tvalidation_0-mlogloss:0.89631\n",
      "[499]\tvalidation_0-mlogloss:0.89673\n",
      "XGBoost Accuracy: 0.6793378295524218\n"
     ]
    }
   ],
   "source": [
    "from xgboost import XGBClassifier\n",
    "\n",
    "xgb_model = XGBClassifier(\n",
    "    n_estimators=500,\n",
    "    learning_rate=0.05,\n",
    "    max_depth=6,\n",
    "    subsample=0.8,\n",
    "    colsample_bytree=0.8,\n",
    "    random_state=42,\n",
    "    objective=\"multi:softprob\",\n",
    "    num_class=18,\n",
    "    tree_method=\"hist\"   # efficient CPU training\n",
    ")\n",
    "\n",
    "xgb_model.fit(\n",
    "    X_train_meta, y_train,\n",
    "    eval_set=[(X_val_meta, y_val)],\n",
    "    sample_weight=sample_weights,\n",
    "    verbose=True\n",
    ")\n",
    "\n",
    "print(\"XGBoost Accuracy:\", xgb_model.score(X_val_meta, y_val))"
   ]
  },
  {
   "cell_type": "code",
   "execution_count": 11,
   "metadata": {},
   "outputs": [
    {
     "name": "stdout",
     "output_type": "stream",
     "text": [
      "XGBoost Accuracy: 0.6793378295524218\n"
     ]
    }
   ],
   "source": [
    "print(\"XGBoost Accuracy:\", xgb_model.score(X_val_meta, y_val))"
   ]
  },
  {
   "cell_type": "code",
   "execution_count": 20,
   "metadata": {},
   "outputs": [
    {
     "data": {
      "text/plain": [
       "np.int64(15)"
      ]
     },
     "execution_count": 20,
     "metadata": {},
     "output_type": "execute_result"
    }
   ],
   "source": [
    "import joblib\n",
    "\n",
    "# Load model using joblib\n",
    "cmi_combined_xgb_model = joblib.load(\"cmi_combined_xgb_model.pkl\")\n",
    "y_pred = cmi_combined_xgb_model.predict(X_val_meta)\n",
    "y_pred[1]"
   ]
  },
  {
   "cell_type": "code",
   "execution_count": 21,
   "metadata": {},
   "outputs": [
    {
     "name": "stdout",
     "output_type": "stream",
     "text": [
      "Predicted classes: 15\n",
      "Shape of predictions: (1631,)\n"
     ]
    }
   ],
   "source": [
    "y_pred_proba = cmi_combined_xgb_model.predict_proba(X_val_meta)\n",
    "y_pred_class = np.argmax(y_pred_proba, axis=1)\n",
    "\n",
    "print(\"Predicted classes:\", y_pred_class[1])  # first 10 predictions\n",
    "print(\"Shape of predictions:\", y_pred_class.shape)\n"
   ]
  },
  {
   "cell_type": "code",
   "execution_count": 22,
   "metadata": {},
   "outputs": [
    {
     "name": "stdout",
     "output_type": "stream",
     "text": [
      "Stacked Ensemble Accuracy: 0.6633966891477621\n"
     ]
    }
   ],
   "source": [
    "y_pred = cmi_combined_xgb_model.predict(X_val_meta)\n",
    "acc = accuracy_score(y_val, y_pred)\n",
    "print(\"Stacked Ensemble Accuracy:\", acc)"
   ]
  },
  {
   "cell_type": "code",
   "execution_count": 42,
   "metadata": {},
   "outputs": [
    {
     "name": "stderr",
     "output_type": "stream",
     "text": [
      "WARNING:absl:Compiled the loaded model, but the compiled metrics have yet to be built. `model.compile_metrics` will be empty until you train or evaluate the model.\n",
      "WARNING:absl:Compiled the loaded model, but the compiled metrics have yet to be built. `model.compile_metrics` will be empty until you train or evaluate the model.\n",
      "WARNING:absl:Compiled the loaded model, but the compiled metrics have yet to be built. `model.compile_metrics` will be empty until you train or evaluate the model.\n"
     ]
    }
   ],
   "source": [
    "import numpy as np\n",
    "import tensorflow as tf\n",
    "import xgboost as xgb\n",
    "import joblib\n",
    "\n",
    "# Load base models\n",
    "imu_model = tf.keras.models.load_model(\"cmi_imu_18_2.h5\")\n",
    "thermal_model = tf.keras.models.load_model(\"cmi_thermal_18.h5\")\n",
    "tof_model = tf.keras.models.load_model(\"cmi_tof_18.h5\")\n",
    "xgb_model = joblib.load(\"cmi_combined_xgb_model.pkl\")\n",
    "\n",
    "def ensemble_predict(X_imu, X_thermal, X_tof):\n",
    "    \"\"\"\n",
    "    Run predictions from the three base models and ensemble them with XGBoost.\n",
    "    Returns final predicted class label (0–17).\n",
    "    \"\"\"\n",
    "\n",
    "    # Step 1: Get softmax probability outputs from base models\n",
    "    imu_probs = imu_model.predict(X_imu)        # shape (N, 18)\n",
    "    thermal_probs = thermal_model.predict(X_thermal)  # shape (N, 18)\n",
    "    tof_probs = tof_model.predict(X_tof)        # shape (N, 18)\n",
    "\n",
    "    # Step 2: Concatenate to create stacked features (N, 54)\n",
    "    stacked_features = np.concatenate([imu_probs, thermal_probs, tof_probs], axis=1)\n",
    "\n",
    "    # Step 3: Predict with XGBoost (final meta model)\n",
    "    xgb_preds = xgb_model.predict_proba(stacked_features)\n",
    "    y_pred_class = np.argmax(xgb_preds, axis=1)\n",
    "\n",
    "    # Step 4: Return integer class predictions (0–17)\n",
    "    return y_pred_class\n"
   ]
  },
  {
   "cell_type": "code",
   "execution_count": 46,
   "metadata": {},
   "outputs": [
    {
     "name": "stdout",
     "output_type": "stream",
     "text": [
      "\u001b[1m1/1\u001b[0m \u001b[32m━━━━━━━━━━━━━━━━━━━━\u001b[0m\u001b[37m\u001b[0m \u001b[1m0s\u001b[0m 380ms/step\n",
      "\u001b[1m1/1\u001b[0m \u001b[32m━━━━━━━━━━━━━━━━━━━━\u001b[0m\u001b[37m\u001b[0m \u001b[1m0s\u001b[0m 374ms/step\n",
      "\u001b[1m1/1\u001b[0m \u001b[32m━━━━━━━━━━━━━━━━━━━━\u001b[0m\u001b[37m\u001b[0m \u001b[1m1s\u001b[0m 605ms/step\n"
     ]
    },
    {
     "data": {
      "text/plain": [
       "array([1, 6])"
      ]
     },
     "execution_count": 46,
     "metadata": {},
     "output_type": "execute_result"
    }
   ],
   "source": [
    "ens_prediction = ensemble_predict(\n",
    "X_imu_train[:2] ,\n",
    "X_thermal_train[:2] ,\n",
    "X_tof_train[:2] )"
   ]
  },
  {
   "cell_type": "code",
   "execution_count": 25,
   "metadata": {},
   "outputs": [
    {
     "name": "stdout",
     "output_type": "stream",
     "text": [
      "Binary F1: 0.9922027290448343\n"
     ]
    }
   ],
   "source": [
    "from sklearn.metrics import f1_score\n",
    "import numpy as np\n",
    "\n",
    "y_val = y_val.astype(int)\n",
    "# Predict class indices\n",
    "y_pred_indices = cmi_combined_xgb_model.predict(X_val_meta)\n",
    "# Convert to class names\n",
    "y_pred_names = [classes[i] for i in y_pred_indices]\n",
    "\n",
    "# Convert validation labels to class names too\n",
    "y_true_names = [classes[i] for i in y_val]\n",
    "\n",
    "# Binary labels: 1 if target, 0 if non-target\n",
    "y_true_binary = [1 if name in important_classes else 0 for name in y_true_names]\n",
    "y_pred_binary = [1 if name in important_classes else 0 for name in y_pred_names]\n",
    "\n",
    "# Compute binary F1\n",
    "binary_f1 = f1_score(y_true_binary, y_pred_binary)\n",
    "print(\"Binary F1:\", binary_f1)\n"
   ]
  },
  {
   "cell_type": "code",
   "execution_count": 26,
   "metadata": {},
   "outputs": [
    {
     "name": "stdout",
     "output_type": "stream",
     "text": [
      "Macro F1: 0.6569263254918494\n"
     ]
    }
   ],
   "source": [
    "# Map non-targets to a single label\n",
    "y_true_collapsed = [name if name in important_classes else 'non_target' for name in y_true_names]\n",
    "y_pred_collapsed = [name if name in important_classes else 'non_target' for name in y_pred_names]\n",
    "\n",
    "# Macro F1\n",
    "macro_f1 = f1_score(y_true_collapsed, y_pred_collapsed, average='macro')\n",
    "print(\"Macro F1:\", macro_f1)\n"
   ]
  },
  {
   "cell_type": "code",
   "execution_count": 27,
   "metadata": {},
   "outputs": [
    {
     "name": "stdout",
     "output_type": "stream",
     "text": [
      "Contest Score: 0.8245645272683418\n"
     ]
    }
   ],
   "source": [
    "contest_score = (binary_f1 + macro_f1) / 2\n",
    "print(\"Contest Score:\", contest_score)\n"
   ]
  },
  {
   "cell_type": "code",
   "execution_count": 16,
   "metadata": {},
   "outputs": [],
   "source": [
    "xgb_model.save_model(\"xgb_model_679_8385.json\")"
   ]
  },
  {
   "cell_type": "code",
   "execution_count": 19,
   "metadata": {},
   "outputs": [],
   "source": [
    "\n",
    "import xgboost as xgb\n",
    "booster = xgb.Booster()\n",
    "booster.load_model(\"cmi_combined_xgb_model.json\")\n",
    "\n",
    "# Predict using DMatrix\n",
    "dval = xgb.DMatrix(X_val_meta)\n",
    "y_pred_proba = booster.predict(dval)  # gives probabilities\n",
    "# If multi-class, convert to class indices\n",
    "y_pred_indices = y_pred_proba.argmax(axis=1)\n",
    "\n",
    "\n"
   ]
  },
  {
   "cell_type": "code",
   "execution_count": 18,
   "metadata": {},
   "outputs": [
    {
     "data": {
      "text/plain": [
       "array([10, 15,  1, ..., 16,  2, 14], shape=(1631,))"
      ]
     },
     "execution_count": 18,
     "metadata": {},
     "output_type": "execute_result"
    }
   ],
   "source": [
    "y_pred_indices"
   ]
  }
 ],
 "metadata": {
  "kernelspec": {
   "display_name": "ml_env",
   "language": "python",
   "name": "python3"
  },
  "language_info": {
   "codemirror_mode": {
    "name": "ipython",
    "version": 3
   },
   "file_extension": ".py",
   "mimetype": "text/x-python",
   "name": "python",
   "nbconvert_exporter": "python",
   "pygments_lexer": "ipython3",
   "version": "3.12.3"
  }
 },
 "nbformat": 4,
 "nbformat_minor": 2
}
