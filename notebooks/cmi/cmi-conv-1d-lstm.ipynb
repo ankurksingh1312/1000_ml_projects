{
 "cells": [
  {
   "cell_type": "code",
   "execution_count": 30,
   "metadata": {},
   "outputs": [
    {
     "name": "stdout",
     "output_type": "stream",
     "text": [
      "(8, 10, 1)\n",
      "[[[ 10]\n",
      "  [ 20]\n",
      "  [ 30]\n",
      "  [ 40]\n",
      "  [ 50]\n",
      "  [ 60]\n",
      "  [ 70]\n",
      "  [ 80]\n",
      "  [ 90]\n",
      "  [100]]\n",
      "\n",
      " [[ 15]\n",
      "  [ 25]\n",
      "  [ 35]\n",
      "  [ 45]\n",
      "  [ 55]\n",
      "  [ 65]\n",
      "  [ 75]\n",
      "  [ 85]\n",
      "  [ 95]\n",
      "  [105]]\n",
      "\n",
      " [[  7]\n",
      "  [ 17]\n",
      "  [ 27]\n",
      "  [ 37]\n",
      "  [ 47]\n",
      "  [ 57]\n",
      "  [ 67]\n",
      "  [ 77]\n",
      "  [ 87]\n",
      "  [ 97]]\n",
      "\n",
      " [[  4]\n",
      "  [ 14]\n",
      "  [ 24]\n",
      "  [ 34]\n",
      "  [ 44]\n",
      "  [ 54]\n",
      "  [ 64]\n",
      "  [ 74]\n",
      "  [ 84]\n",
      "  [ 94]]\n",
      "\n",
      " [[  3]\n",
      "  [  8]\n",
      "  [ 13]\n",
      "  [ 18]\n",
      "  [ 23]\n",
      "  [ 28]\n",
      "  [ 33]\n",
      "  [ 38]\n",
      "  [ 43]\n",
      "  [ 48]]\n",
      "\n",
      " [[  4]\n",
      "  [  9]\n",
      "  [ 14]\n",
      "  [ 19]\n",
      "  [ 24]\n",
      "  [ 29]\n",
      "  [ 34]\n",
      "  [ 39]\n",
      "  [ 44]\n",
      "  [ 49]]\n",
      "\n",
      " [[  6]\n",
      "  [ 10]\n",
      "  [ 14]\n",
      "  [ 18]\n",
      "  [ 22]\n",
      "  [ 26]\n",
      "  [ 30]\n",
      "  [ 34]\n",
      "  [ 38]\n",
      "  [ 42]]\n",
      "\n",
      " [[  5]\n",
      "  [  7]\n",
      "  [  9]\n",
      "  [ 11]\n",
      "  [ 13]\n",
      "  [ 15]\n",
      "  [ 17]\n",
      "  [ 19]\n",
      "  [ 21]\n",
      "  [ 23]]]\n"
     ]
    }
   ],
   "source": [
    "import numpy as np \n",
    "from tensorflow.keras.models import Sequential \n",
    "from tensorflow.keras.layers import Conv1D, MaxPooling1D, LSTM, Dense, Flatten \n",
    "\n",
    "# 1. Prepare the data # Assume you have sequential data, e.g., time series data # Shape: (samples, timesteps, features) \n",
    "\n",
    "# For a univariate time series, \n",
    "features = 1 \n",
    "data = np.array([ \n",
    "    [10, 20, 30, 40, 50, 60, 70, 80, 90, 100], \n",
    "    [15, 25, 35, 45, 55, 65, 75, 85, 95, 105], \n",
    "    [7, 17, 27, 37, 47, 57, 67, 77, 87, 97] ,\n",
    "    [4, 14, 24, 34, 44, 54, 64, 74, 84, 94] ,\n",
    "    [3, 8, 13, 18, 23, 28, 33, 38, 43, 48] ,\n",
    "    [4, 9, 14, 19, 24, 29, 34, 39, 44, 49] ,\n",
    "    [6, 10, 14, 18, 22, 26, 30, 34, 38, 42] ,\n",
    "    [5, 7, 9, 11, 13, 15, 17, 19, 21, 23] \n",
    "\n",
    "    ]\n",
    "    ) \n",
    "\n",
    "# For this example, let's create a simple target based on the last value # In a real scenario, this would be a separate target variable \n",
    "targets = np.array([110, 115, 107,104,53 ,54,46,25]) \n",
    "# Reshape data for Conv1D: (samples, timesteps, features) \n",
    "# If your data is (samples, timesteps), you need to add a feature dimension \n",
    "\n",
    "data = data.reshape((data.shape[0], data.shape[1], 1)) \n",
    "print(data.shape)\n",
    "print(data)\n",
    "\n",
    "n_steps = data.shape[1] # Number of timesteps \n",
    "n_features = data.shape[2] \n",
    "# Number of features # 2. Define the Conv1D-LSTM model \n",
    "\n"
   ]
  },
  {
   "cell_type": "code",
   "execution_count": 31,
   "metadata": {},
   "outputs": [
    {
     "name": "stdout",
     "output_type": "stream",
     "text": [
      "Predicted value: [[33.210754]]\n"
     ]
    },
    {
     "data": {
      "text/html": [
       "<pre style=\"white-space:pre;overflow-x:auto;line-height:normal;font-family:Menlo,'DejaVu Sans Mono',consolas,'Courier New',monospace\"><span style=\"font-weight: bold\">Model: \"sequential_12\"</span>\n",
       "</pre>\n"
      ],
      "text/plain": [
       "\u001b[1mModel: \"sequential_12\"\u001b[0m\n"
      ]
     },
     "metadata": {},
     "output_type": "display_data"
    },
    {
     "data": {
      "text/html": [
       "<pre style=\"white-space:pre;overflow-x:auto;line-height:normal;font-family:Menlo,'DejaVu Sans Mono',consolas,'Courier New',monospace\">┏━━━━━━━━━━━━━━━━━━━━━━━━━━━━━━━━━┳━━━━━━━━━━━━━━━━━━━━━━━━┳━━━━━━━━━━━━━━━┓\n",
       "┃<span style=\"font-weight: bold\"> Layer (type)                    </span>┃<span style=\"font-weight: bold\"> Output Shape           </span>┃<span style=\"font-weight: bold\">       Param # </span>┃\n",
       "┡━━━━━━━━━━━━━━━━━━━━━━━━━━━━━━━━━╇━━━━━━━━━━━━━━━━━━━━━━━━╇━━━━━━━━━━━━━━━┩\n",
       "│ conv1d_12 (<span style=\"color: #0087ff; text-decoration-color: #0087ff\">Conv1D</span>)              │ (<span style=\"color: #00d7ff; text-decoration-color: #00d7ff\">None</span>, <span style=\"color: #00af00; text-decoration-color: #00af00\">8</span>, <span style=\"color: #00af00; text-decoration-color: #00af00\">64</span>)          │           <span style=\"color: #00af00; text-decoration-color: #00af00\">256</span> │\n",
       "├─────────────────────────────────┼────────────────────────┼───────────────┤\n",
       "│ max_pooling1d_12 (<span style=\"color: #0087ff; text-decoration-color: #0087ff\">MaxPooling1D</span>) │ (<span style=\"color: #00d7ff; text-decoration-color: #00d7ff\">None</span>, <span style=\"color: #00af00; text-decoration-color: #00af00\">4</span>, <span style=\"color: #00af00; text-decoration-color: #00af00\">64</span>)          │             <span style=\"color: #00af00; text-decoration-color: #00af00\">0</span> │\n",
       "├─────────────────────────────────┼────────────────────────┼───────────────┤\n",
       "│ conv1d_13 (<span style=\"color: #0087ff; text-decoration-color: #0087ff\">Conv1D</span>)              │ (<span style=\"color: #00d7ff; text-decoration-color: #00d7ff\">None</span>, <span style=\"color: #00af00; text-decoration-color: #00af00\">2</span>, <span style=\"color: #00af00; text-decoration-color: #00af00\">128</span>)         │        <span style=\"color: #00af00; text-decoration-color: #00af00\">24,704</span> │\n",
       "├─────────────────────────────────┼────────────────────────┼───────────────┤\n",
       "│ max_pooling1d_13 (<span style=\"color: #0087ff; text-decoration-color: #0087ff\">MaxPooling1D</span>) │ (<span style=\"color: #00d7ff; text-decoration-color: #00d7ff\">None</span>, <span style=\"color: #00af00; text-decoration-color: #00af00\">1</span>, <span style=\"color: #00af00; text-decoration-color: #00af00\">128</span>)         │             <span style=\"color: #00af00; text-decoration-color: #00af00\">0</span> │\n",
       "├─────────────────────────────────┼────────────────────────┼───────────────┤\n",
       "│ flatten_9 (<span style=\"color: #0087ff; text-decoration-color: #0087ff\">Flatten</span>)             │ (<span style=\"color: #00d7ff; text-decoration-color: #00d7ff\">None</span>, <span style=\"color: #00af00; text-decoration-color: #00af00\">128</span>)            │             <span style=\"color: #00af00; text-decoration-color: #00af00\">0</span> │\n",
       "├─────────────────────────────────┼────────────────────────┼───────────────┤\n",
       "│ dense_20 (<span style=\"color: #0087ff; text-decoration-color: #0087ff\">Dense</span>)                │ (<span style=\"color: #00d7ff; text-decoration-color: #00d7ff\">None</span>, <span style=\"color: #00af00; text-decoration-color: #00af00\">36</span>)             │         <span style=\"color: #00af00; text-decoration-color: #00af00\">4,644</span> │\n",
       "├─────────────────────────────────┼────────────────────────┼───────────────┤\n",
       "│ dense_21 (<span style=\"color: #0087ff; text-decoration-color: #0087ff\">Dense</span>)                │ (<span style=\"color: #00d7ff; text-decoration-color: #00d7ff\">None</span>, <span style=\"color: #00af00; text-decoration-color: #00af00\">1</span>)              │            <span style=\"color: #00af00; text-decoration-color: #00af00\">37</span> │\n",
       "└─────────────────────────────────┴────────────────────────┴───────────────┘\n",
       "</pre>\n"
      ],
      "text/plain": [
       "┏━━━━━━━━━━━━━━━━━━━━━━━━━━━━━━━━━┳━━━━━━━━━━━━━━━━━━━━━━━━┳━━━━━━━━━━━━━━━┓\n",
       "┃\u001b[1m \u001b[0m\u001b[1mLayer (type)                   \u001b[0m\u001b[1m \u001b[0m┃\u001b[1m \u001b[0m\u001b[1mOutput Shape          \u001b[0m\u001b[1m \u001b[0m┃\u001b[1m \u001b[0m\u001b[1m      Param #\u001b[0m\u001b[1m \u001b[0m┃\n",
       "┡━━━━━━━━━━━━━━━━━━━━━━━━━━━━━━━━━╇━━━━━━━━━━━━━━━━━━━━━━━━╇━━━━━━━━━━━━━━━┩\n",
       "│ conv1d_12 (\u001b[38;5;33mConv1D\u001b[0m)              │ (\u001b[38;5;45mNone\u001b[0m, \u001b[38;5;34m8\u001b[0m, \u001b[38;5;34m64\u001b[0m)          │           \u001b[38;5;34m256\u001b[0m │\n",
       "├─────────────────────────────────┼────────────────────────┼───────────────┤\n",
       "│ max_pooling1d_12 (\u001b[38;5;33mMaxPooling1D\u001b[0m) │ (\u001b[38;5;45mNone\u001b[0m, \u001b[38;5;34m4\u001b[0m, \u001b[38;5;34m64\u001b[0m)          │             \u001b[38;5;34m0\u001b[0m │\n",
       "├─────────────────────────────────┼────────────────────────┼───────────────┤\n",
       "│ conv1d_13 (\u001b[38;5;33mConv1D\u001b[0m)              │ (\u001b[38;5;45mNone\u001b[0m, \u001b[38;5;34m2\u001b[0m, \u001b[38;5;34m128\u001b[0m)         │        \u001b[38;5;34m24,704\u001b[0m │\n",
       "├─────────────────────────────────┼────────────────────────┼───────────────┤\n",
       "│ max_pooling1d_13 (\u001b[38;5;33mMaxPooling1D\u001b[0m) │ (\u001b[38;5;45mNone\u001b[0m, \u001b[38;5;34m1\u001b[0m, \u001b[38;5;34m128\u001b[0m)         │             \u001b[38;5;34m0\u001b[0m │\n",
       "├─────────────────────────────────┼────────────────────────┼───────────────┤\n",
       "│ flatten_9 (\u001b[38;5;33mFlatten\u001b[0m)             │ (\u001b[38;5;45mNone\u001b[0m, \u001b[38;5;34m128\u001b[0m)            │             \u001b[38;5;34m0\u001b[0m │\n",
       "├─────────────────────────────────┼────────────────────────┼───────────────┤\n",
       "│ dense_20 (\u001b[38;5;33mDense\u001b[0m)                │ (\u001b[38;5;45mNone\u001b[0m, \u001b[38;5;34m36\u001b[0m)             │         \u001b[38;5;34m4,644\u001b[0m │\n",
       "├─────────────────────────────────┼────────────────────────┼───────────────┤\n",
       "│ dense_21 (\u001b[38;5;33mDense\u001b[0m)                │ (\u001b[38;5;45mNone\u001b[0m, \u001b[38;5;34m1\u001b[0m)              │            \u001b[38;5;34m37\u001b[0m │\n",
       "└─────────────────────────────────┴────────────────────────┴───────────────┘\n"
      ]
     },
     "metadata": {},
     "output_type": "display_data"
    },
    {
     "data": {
      "text/html": [
       "<pre style=\"white-space:pre;overflow-x:auto;line-height:normal;font-family:Menlo,'DejaVu Sans Mono',consolas,'Courier New',monospace\"><span style=\"font-weight: bold\"> Total params: </span><span style=\"color: #00af00; text-decoration-color: #00af00\">88,925</span> (347.37 KB)\n",
       "</pre>\n"
      ],
      "text/plain": [
       "\u001b[1m Total params: \u001b[0m\u001b[38;5;34m88,925\u001b[0m (347.37 KB)\n"
      ]
     },
     "metadata": {},
     "output_type": "display_data"
    },
    {
     "data": {
      "text/html": [
       "<pre style=\"white-space:pre;overflow-x:auto;line-height:normal;font-family:Menlo,'DejaVu Sans Mono',consolas,'Courier New',monospace\"><span style=\"font-weight: bold\"> Trainable params: </span><span style=\"color: #00af00; text-decoration-color: #00af00\">29,641</span> (115.79 KB)\n",
       "</pre>\n"
      ],
      "text/plain": [
       "\u001b[1m Trainable params: \u001b[0m\u001b[38;5;34m29,641\u001b[0m (115.79 KB)\n"
      ]
     },
     "metadata": {},
     "output_type": "display_data"
    },
    {
     "data": {
      "text/html": [
       "<pre style=\"white-space:pre;overflow-x:auto;line-height:normal;font-family:Menlo,'DejaVu Sans Mono',consolas,'Courier New',monospace\"><span style=\"font-weight: bold\"> Non-trainable params: </span><span style=\"color: #00af00; text-decoration-color: #00af00\">0</span> (0.00 B)\n",
       "</pre>\n"
      ],
      "text/plain": [
       "\u001b[1m Non-trainable params: \u001b[0m\u001b[38;5;34m0\u001b[0m (0.00 B)\n"
      ]
     },
     "metadata": {},
     "output_type": "display_data"
    },
    {
     "data": {
      "text/html": [
       "<pre style=\"white-space:pre;overflow-x:auto;line-height:normal;font-family:Menlo,'DejaVu Sans Mono',consolas,'Courier New',monospace\"><span style=\"font-weight: bold\"> Optimizer params: </span><span style=\"color: #00af00; text-decoration-color: #00af00\">59,284</span> (231.58 KB)\n",
       "</pre>\n"
      ],
      "text/plain": [
       "\u001b[1m Optimizer params: \u001b[0m\u001b[38;5;34m59,284\u001b[0m (231.58 KB)\n"
      ]
     },
     "metadata": {},
     "output_type": "display_data"
    }
   ],
   "source": [
    "from tensorflow.keras.layers import Flatten\n",
    "\n",
    "\n",
    "model = Sequential() \n",
    "model.add(Conv1D(filters=64, kernel_size=3, activation='relu', input_shape=(n_steps, n_features)))\n",
    "model.add(MaxPooling1D(pool_size=2)) \n",
    "model.add(Conv1D(filters=128, kernel_size=3, activation='relu', input_shape=(n_steps, n_features)))\n",
    "model.add(MaxPooling1D(pool_size=2)) \n",
    "model.add(Flatten()) \n",
    "model.add(Dense(36)) \n",
    "model.add(Dense(1)) \n",
    "model.compile(optimizer='adam', loss='mse') \n",
    "model.fit(data, targets, epochs=200, verbose=0) \n",
    "# 5. Make a prediction \n",
    "# x_input = np.array([[3, 23, 33, 43, 53, 63, 73, 83, 93, 103]])\n",
    "x_input = np.array([[3, 6, 9, 12, 15, 18, 21, 24, 27, 30]])\n",
    "\n",
    "x_input = x_input.reshape((1, n_steps, n_features)) \n",
    "yhat = model.predict(x_input, verbose=0) \n",
    "print(f\"Predicted value: {yhat}\") \n",
    "model.summary()"
   ]
  },
  {
   "cell_type": "code",
   "execution_count": 32,
   "metadata": {},
   "outputs": [
    {
     "name": "stdout",
     "output_type": "stream",
     "text": [
      "Layer: conv1d_12\n",
      "{'name': 'conv1d_12', 'trainable': True, 'dtype': {'module': 'keras', 'class_name': 'DTypePolicy', 'config': {'name': 'float32'}, 'registered_name': None}, 'filters': 64, 'kernel_size': (3,), 'strides': (1,), 'padding': 'valid', 'data_format': 'channels_last', 'dilation_rate': (1,), 'groups': 1, 'activation': 'relu', 'use_bias': True, 'kernel_initializer': {'module': 'keras.initializers', 'class_name': 'GlorotUniform', 'config': {'seed': None}, 'registered_name': None}, 'bias_initializer': {'module': 'keras.initializers', 'class_name': 'Zeros', 'config': {}, 'registered_name': None}, 'kernel_regularizer': None, 'bias_regularizer': None, 'activity_regularizer': None, 'kernel_constraint': None, 'bias_constraint': None}\n",
      "--------------------------------------------------\n",
      "Layer: max_pooling1d_12\n",
      "{'name': 'max_pooling1d_12', 'trainable': True, 'dtype': {'module': 'keras', 'class_name': 'DTypePolicy', 'config': {'name': 'float32'}, 'registered_name': None}, 'pool_size': (2,), 'padding': 'valid', 'strides': (2,), 'data_format': 'channels_last'}\n",
      "--------------------------------------------------\n",
      "Layer: conv1d_13\n",
      "{'name': 'conv1d_13', 'trainable': True, 'dtype': {'module': 'keras', 'class_name': 'DTypePolicy', 'config': {'name': 'float32'}, 'registered_name': None}, 'filters': 128, 'kernel_size': (3,), 'strides': (1,), 'padding': 'valid', 'data_format': 'channels_last', 'dilation_rate': (1,), 'groups': 1, 'activation': 'relu', 'use_bias': True, 'kernel_initializer': {'module': 'keras.initializers', 'class_name': 'GlorotUniform', 'config': {'seed': None}, 'registered_name': None}, 'bias_initializer': {'module': 'keras.initializers', 'class_name': 'Zeros', 'config': {}, 'registered_name': None}, 'kernel_regularizer': None, 'bias_regularizer': None, 'activity_regularizer': None, 'kernel_constraint': None, 'bias_constraint': None}\n",
      "--------------------------------------------------\n",
      "Layer: max_pooling1d_13\n",
      "{'name': 'max_pooling1d_13', 'trainable': True, 'dtype': {'module': 'keras', 'class_name': 'DTypePolicy', 'config': {'name': 'float32'}, 'registered_name': None}, 'pool_size': (2,), 'padding': 'valid', 'strides': (2,), 'data_format': 'channels_last'}\n",
      "--------------------------------------------------\n",
      "Layer: flatten_9\n",
      "{'name': 'flatten_9', 'trainable': True, 'dtype': {'module': 'keras', 'class_name': 'DTypePolicy', 'config': {'name': 'float32'}, 'registered_name': None}, 'data_format': 'channels_last'}\n",
      "--------------------------------------------------\n",
      "Layer: dense_20\n",
      "{'name': 'dense_20', 'trainable': True, 'dtype': {'module': 'keras', 'class_name': 'DTypePolicy', 'config': {'name': 'float32'}, 'registered_name': None}, 'units': 36, 'activation': 'linear', 'use_bias': True, 'kernel_initializer': {'module': 'keras.initializers', 'class_name': 'GlorotUniform', 'config': {'seed': None}, 'registered_name': None}, 'bias_initializer': {'module': 'keras.initializers', 'class_name': 'Zeros', 'config': {}, 'registered_name': None}, 'kernel_regularizer': None, 'bias_regularizer': None, 'kernel_constraint': None, 'bias_constraint': None}\n",
      "--------------------------------------------------\n",
      "Layer: dense_21\n",
      "{'name': 'dense_21', 'trainable': True, 'dtype': {'module': 'keras', 'class_name': 'DTypePolicy', 'config': {'name': 'float32'}, 'registered_name': None}, 'units': 1, 'activation': 'linear', 'use_bias': True, 'kernel_initializer': {'module': 'keras.initializers', 'class_name': 'GlorotUniform', 'config': {'seed': None}, 'registered_name': None}, 'bias_initializer': {'module': 'keras.initializers', 'class_name': 'Zeros', 'config': {}, 'registered_name': None}, 'kernel_regularizer': None, 'bias_regularizer': None, 'kernel_constraint': None, 'bias_constraint': None}\n",
      "--------------------------------------------------\n"
     ]
    }
   ],
   "source": [
    "for layer in model.layers:\n",
    "    print(f\"Layer: {layer.name}\")\n",
    "    print(layer.get_config())\n",
    "    print(\"-\"*50)\n"
   ]
  },
  {
   "cell_type": "code",
   "execution_count": 33,
   "metadata": {},
   "outputs": [
    {
     "name": "stdout",
     "output_type": "stream",
     "text": [
      "\n",
      "Layer: conv1d_12\n",
      "(3, 1, 64)\n",
      "(64,)\n",
      "\n",
      "Layer: max_pooling1d_12\n",
      "\n",
      "Layer: conv1d_13\n",
      "(3, 64, 128)\n",
      "(128,)\n",
      "\n",
      "Layer: max_pooling1d_13\n",
      "\n",
      "Layer: flatten_9\n",
      "\n",
      "Layer: dense_20\n",
      "(128, 36)\n",
      "(36,)\n",
      "\n",
      "Layer: dense_21\n",
      "(36, 1)\n",
      "(1,)\n"
     ]
    }
   ],
   "source": [
    "for layer in model.layers:\n",
    "    weights = layer.get_weights()\n",
    "    print(f\"\\nLayer: {layer.name}\")\n",
    "    for w in weights:\n",
    "        print(w.shape)\n"
   ]
  },
  {
   "cell_type": "code",
   "execution_count": 41,
   "metadata": {},
   "outputs": [
    {
     "name": "stdout",
     "output_type": "stream",
     "text": [
      "(3,)\n",
      "128\n"
     ]
    },
    {
     "ename": "AttributeError",
     "evalue": "'Conv1D' object has no attribute 'input_shape'",
     "output_type": "error",
     "traceback": [
      "\u001b[31m---------------------------------------------------------------------------\u001b[39m",
      "\u001b[31mAttributeError\u001b[39m                            Traceback (most recent call last)",
      "\u001b[36mCell\u001b[39m\u001b[36m \u001b[39m\u001b[32mIn[41]\u001b[39m\u001b[32m, line 4\u001b[39m\n\u001b[32m      2\u001b[39m \u001b[38;5;28mprint\u001b[39m(conv_layer.kernel_size)  \u001b[38;5;66;03m# (3,)\u001b[39;00m\n\u001b[32m      3\u001b[39m \u001b[38;5;28mprint\u001b[39m(conv_layer.filters)      \u001b[38;5;66;03m# 64\u001b[39;00m\n\u001b[32m----> \u001b[39m\u001b[32m4\u001b[39m \u001b[38;5;28mprint\u001b[39m(\u001b[43mconv_layer\u001b[49m\u001b[43m.\u001b[49m\u001b[43minput_shape\u001b[49m)  \u001b[38;5;66;03m# (None, 50, 10)\u001b[39;00m\n\u001b[32m      5\u001b[39m \u001b[38;5;28mprint\u001b[39m(conv_layer.output_shape) \u001b[38;5;66;03m# (None, 48, 64)\u001b[39;00m\n",
      "\u001b[31mAttributeError\u001b[39m: 'Conv1D' object has no attribute 'input_shape'"
     ]
    }
   ],
   "source": [
    "conv_layer = model.layers[2]   # first layer\n",
    "print(conv_layer.kernel_size)  # (3,)\n",
    "print(conv_layer.filters)      # 64\n",
    "print(conv_layer.input_shape)  # (None, 50, 10)\n",
    "print(conv_layer.output_shape) # (None, 48, 64)\n"
   ]
  },
  {
   "cell_type": "code",
   "execution_count": 36,
   "metadata": {},
   "outputs": [
    {
     "name": "stdout",
     "output_type": "stream",
     "text": [
      "\n",
      "Layer: conv1d_12\n",
      "Class: Conv1D\n"
     ]
    },
    {
     "ename": "AttributeError",
     "evalue": "'Conv1D' object has no attribute 'input_shape'",
     "output_type": "error",
     "traceback": [
      "\u001b[31m---------------------------------------------------------------------------\u001b[39m",
      "\u001b[31mAttributeError\u001b[39m                            Traceback (most recent call last)",
      "\u001b[36mCell\u001b[39m\u001b[36m \u001b[39m\u001b[32mIn[36]\u001b[39m\u001b[32m, line 4\u001b[39m\n\u001b[32m      2\u001b[39m \u001b[38;5;28mprint\u001b[39m(\u001b[33mf\u001b[39m\u001b[33m\"\u001b[39m\u001b[38;5;130;01m\\n\u001b[39;00m\u001b[33mLayer: \u001b[39m\u001b[38;5;132;01m{\u001b[39;00mlayer.name\u001b[38;5;132;01m}\u001b[39;00m\u001b[33m\"\u001b[39m)\n\u001b[32m      3\u001b[39m \u001b[38;5;28mprint\u001b[39m(\u001b[33m\"\u001b[39m\u001b[33mClass:\u001b[39m\u001b[33m\"\u001b[39m, layer.\u001b[34m__class__\u001b[39m.\u001b[34m__name__\u001b[39m)\n\u001b[32m----> \u001b[39m\u001b[32m4\u001b[39m \u001b[38;5;28mprint\u001b[39m(\u001b[33m\"\u001b[39m\u001b[33mInput shape:\u001b[39m\u001b[33m\"\u001b[39m, \u001b[43mlayer\u001b[49m\u001b[43m.\u001b[49m\u001b[43minput_shape\u001b[49m)\n\u001b[32m      5\u001b[39m \u001b[38;5;28mprint\u001b[39m(\u001b[33m\"\u001b[39m\u001b[33mOutput shape:\u001b[39m\u001b[33m\"\u001b[39m, layer.output_shape)\n\u001b[32m      6\u001b[39m \u001b[38;5;28mprint\u001b[39m(\u001b[33m\"\u001b[39m\u001b[33mConfig:\u001b[39m\u001b[33m\"\u001b[39m, layer.get_config())\n",
      "\u001b[31mAttributeError\u001b[39m: 'Conv1D' object has no attribute 'input_shape'"
     ]
    }
   ],
   "source": [
    "for layer in model.layers:\n",
    "    print(f\"\\nLayer: {layer.name}\")\n",
    "    print(\"Class:\", layer.__class__.__name__)\n",
    "    print(\"Input shape:\", layer.input_shape)\n",
    "    print(\"Output shape:\", layer.output_shape)\n",
    "    print(\"Config:\", layer.get_config())\n",
    "    print(\"Weights:\", [w.shape for w in layer.get_weights()])\n"
   ]
  },
  {
   "cell_type": "code",
   "execution_count": null,
   "metadata": {},
   "outputs": [],
   "source": []
  },
  {
   "cell_type": "code",
   "execution_count": null,
   "metadata": {},
   "outputs": [],
   "source": []
  },
  {
   "cell_type": "code",
   "execution_count": 46,
   "metadata": {},
   "outputs": [
    {
     "name": "stdout",
     "output_type": "stream",
     "text": [
      "(8, 10, 1)\n",
      "[[[ 10]\n",
      "  [ 20]\n",
      "  [ 30]\n",
      "  [ 40]\n",
      "  [ 50]\n",
      "  [ 60]\n",
      "  [ 70]\n",
      "  [ 80]\n",
      "  [ 90]\n",
      "  [100]]\n",
      "\n",
      " [[ 15]\n",
      "  [ 25]\n",
      "  [ 35]\n",
      "  [ 45]\n",
      "  [ 55]\n",
      "  [ 65]\n",
      "  [ 75]\n",
      "  [ 85]\n",
      "  [ 95]\n",
      "  [105]]\n",
      "\n",
      " [[  7]\n",
      "  [ 17]\n",
      "  [ 27]\n",
      "  [ 37]\n",
      "  [ 47]\n",
      "  [ 57]\n",
      "  [ 67]\n",
      "  [ 77]\n",
      "  [ 87]\n",
      "  [ 97]]\n",
      "\n",
      " [[  4]\n",
      "  [ 14]\n",
      "  [ 24]\n",
      "  [ 34]\n",
      "  [ 44]\n",
      "  [ 54]\n",
      "  [ 64]\n",
      "  [ 74]\n",
      "  [ 84]\n",
      "  [ 94]]\n",
      "\n",
      " [[  3]\n",
      "  [  8]\n",
      "  [ 13]\n",
      "  [ 18]\n",
      "  [ 23]\n",
      "  [ 28]\n",
      "  [ 33]\n",
      "  [ 38]\n",
      "  [ 43]\n",
      "  [ 48]]\n",
      "\n",
      " [[  4]\n",
      "  [  9]\n",
      "  [ 14]\n",
      "  [ 19]\n",
      "  [ 24]\n",
      "  [ 29]\n",
      "  [ 34]\n",
      "  [ 39]\n",
      "  [ 44]\n",
      "  [ 49]]\n",
      "\n",
      " [[  6]\n",
      "  [ 10]\n",
      "  [ 14]\n",
      "  [ 18]\n",
      "  [ 22]\n",
      "  [ 26]\n",
      "  [ 30]\n",
      "  [ 34]\n",
      "  [ 38]\n",
      "  [ 42]]\n",
      "\n",
      " [[  5]\n",
      "  [  7]\n",
      "  [  9]\n",
      "  [ 11]\n",
      "  [ 13]\n",
      "  [ 15]\n",
      "  [ 17]\n",
      "  [ 19]\n",
      "  [ 21]\n",
      "  [ 23]]]\n"
     ]
    }
   ],
   "source": [
    "import numpy as np \n",
    "from tensorflow.keras.models import Sequential \n",
    "from tensorflow.keras.layers import Conv1D, MaxPooling1D, LSTM, Dense, Flatten \n",
    "\n",
    "# 1. Prepare the data # Assume you have sequential data, e.g., time series data # Shape: (samples, timesteps, features) \n",
    "\n",
    "# For a univariate time series, \n",
    "features = 1 \n",
    "data = np.array([ \n",
    "    [10, 20, 30, 40, 50, 60, 70, 80, 90, 100], \n",
    "    [15, 25, 35, 45, 55, 65, 75, 85, 95, 105], \n",
    "    [7, 17, 27, 37, 47, 57, 67, 77, 87, 97] ,\n",
    "    [4, 14, 24, 34, 44, 54, 64, 74, 84, 94] ,\n",
    "    [3, 8, 13, 18, 23, 28, 33, 38, 43, 48] ,\n",
    "    [4, 9, 14, 19, 24, 29, 34, 39, 44, 49] ,\n",
    "    [6, 10, 14, 18, 22, 26, 30, 34, 38, 42] ,\n",
    "    [5, 7, 9, 11, 13, 15, 17, 19, 21, 23] \n",
    "\n",
    "    ]\n",
    "    ) \n",
    "\n",
    "# For this example, let's create a simple target based on the last value # In a real scenario, this would be a separate target variable \n",
    "targets = np.array([110, 115, 107,104,53 ,54,46,25]) \n",
    "# Reshape data for Conv1D: (samples, timesteps, features) \n",
    "# If your data is (samples, timesteps), you need to add a feature dimension \n",
    "\n",
    "data = data.reshape((data.shape[0], data.shape[1], 1)) \n",
    "print(data.shape)\n",
    "print(data)\n",
    "\n",
    "n_steps = data.shape[1] # Number of timesteps \n",
    "n_features = data.shape[2] \n",
    "# Number of features # 2. Define the Conv1D-LSTM model \n",
    "\n"
   ]
  },
  {
   "cell_type": "code",
   "execution_count": 55,
   "metadata": {},
   "outputs": [
    {
     "name": "stdout",
     "output_type": "stream",
     "text": [
      "Predicted value: 33.22\n"
     ]
    },
    {
     "data": {
      "text/html": [
       "<pre style=\"white-space:pre;overflow-x:auto;line-height:normal;font-family:Menlo,'DejaVu Sans Mono',consolas,'Courier New',monospace\"><span style=\"font-weight: bold\">Model: \"sequential_24\"</span>\n",
       "</pre>\n"
      ],
      "text/plain": [
       "\u001b[1mModel: \"sequential_24\"\u001b[0m\n"
      ]
     },
     "metadata": {},
     "output_type": "display_data"
    },
    {
     "data": {
      "text/html": [
       "<pre style=\"white-space:pre;overflow-x:auto;line-height:normal;font-family:Menlo,'DejaVu Sans Mono',consolas,'Courier New',monospace\">┏━━━━━━━━━━━━━━━━━━━━━━━━━━━━━━━━━┳━━━━━━━━━━━━━━━━━━━━━━━━┳━━━━━━━━━━━━━━━┓\n",
       "┃<span style=\"font-weight: bold\"> Layer (type)                    </span>┃<span style=\"font-weight: bold\"> Output Shape           </span>┃<span style=\"font-weight: bold\">       Param # </span>┃\n",
       "┡━━━━━━━━━━━━━━━━━━━━━━━━━━━━━━━━━╇━━━━━━━━━━━━━━━━━━━━━━━━╇━━━━━━━━━━━━━━━┩\n",
       "│ conv1d_26 (<span style=\"color: #0087ff; text-decoration-color: #0087ff\">Conv1D</span>)              │ (<span style=\"color: #00d7ff; text-decoration-color: #00d7ff\">None</span>, <span style=\"color: #00af00; text-decoration-color: #00af00\">8</span>, <span style=\"color: #00af00; text-decoration-color: #00af00\">64</span>)          │           <span style=\"color: #00af00; text-decoration-color: #00af00\">256</span> │\n",
       "├─────────────────────────────────┼────────────────────────┼───────────────┤\n",
       "│ max_pooling1d_26 (<span style=\"color: #0087ff; text-decoration-color: #0087ff\">MaxPooling1D</span>) │ (<span style=\"color: #00d7ff; text-decoration-color: #00d7ff\">None</span>, <span style=\"color: #00af00; text-decoration-color: #00af00\">4</span>, <span style=\"color: #00af00; text-decoration-color: #00af00\">64</span>)          │             <span style=\"color: #00af00; text-decoration-color: #00af00\">0</span> │\n",
       "├─────────────────────────────────┼────────────────────────┼───────────────┤\n",
       "│ conv1d_27 (<span style=\"color: #0087ff; text-decoration-color: #0087ff\">Conv1D</span>)              │ (<span style=\"color: #00d7ff; text-decoration-color: #00d7ff\">None</span>, <span style=\"color: #00af00; text-decoration-color: #00af00\">2</span>, <span style=\"color: #00af00; text-decoration-color: #00af00\">128</span>)         │        <span style=\"color: #00af00; text-decoration-color: #00af00\">24,704</span> │\n",
       "├─────────────────────────────────┼────────────────────────┼───────────────┤\n",
       "│ max_pooling1d_27 (<span style=\"color: #0087ff; text-decoration-color: #0087ff\">MaxPooling1D</span>) │ (<span style=\"color: #00d7ff; text-decoration-color: #00d7ff\">None</span>, <span style=\"color: #00af00; text-decoration-color: #00af00\">1</span>, <span style=\"color: #00af00; text-decoration-color: #00af00\">128</span>)         │             <span style=\"color: #00af00; text-decoration-color: #00af00\">0</span> │\n",
       "├─────────────────────────────────┼────────────────────────┼───────────────┤\n",
       "│ flatten_14 (<span style=\"color: #0087ff; text-decoration-color: #0087ff\">Flatten</span>)            │ (<span style=\"color: #00d7ff; text-decoration-color: #00d7ff\">None</span>, <span style=\"color: #00af00; text-decoration-color: #00af00\">128</span>)            │             <span style=\"color: #00af00; text-decoration-color: #00af00\">0</span> │\n",
       "├─────────────────────────────────┼────────────────────────┼───────────────┤\n",
       "│ dense_39 (<span style=\"color: #0087ff; text-decoration-color: #0087ff\">Dense</span>)                │ (<span style=\"color: #00d7ff; text-decoration-color: #00d7ff\">None</span>, <span style=\"color: #00af00; text-decoration-color: #00af00\">32</span>)             │         <span style=\"color: #00af00; text-decoration-color: #00af00\">4,128</span> │\n",
       "├─────────────────────────────────┼────────────────────────┼───────────────┤\n",
       "│ dense_40 (<span style=\"color: #0087ff; text-decoration-color: #0087ff\">Dense</span>)                │ (<span style=\"color: #00d7ff; text-decoration-color: #00d7ff\">None</span>, <span style=\"color: #00af00; text-decoration-color: #00af00\">1</span>)              │            <span style=\"color: #00af00; text-decoration-color: #00af00\">33</span> │\n",
       "└─────────────────────────────────┴────────────────────────┴───────────────┘\n",
       "</pre>\n"
      ],
      "text/plain": [
       "┏━━━━━━━━━━━━━━━━━━━━━━━━━━━━━━━━━┳━━━━━━━━━━━━━━━━━━━━━━━━┳━━━━━━━━━━━━━━━┓\n",
       "┃\u001b[1m \u001b[0m\u001b[1mLayer (type)                   \u001b[0m\u001b[1m \u001b[0m┃\u001b[1m \u001b[0m\u001b[1mOutput Shape          \u001b[0m\u001b[1m \u001b[0m┃\u001b[1m \u001b[0m\u001b[1m      Param #\u001b[0m\u001b[1m \u001b[0m┃\n",
       "┡━━━━━━━━━━━━━━━━━━━━━━━━━━━━━━━━━╇━━━━━━━━━━━━━━━━━━━━━━━━╇━━━━━━━━━━━━━━━┩\n",
       "│ conv1d_26 (\u001b[38;5;33mConv1D\u001b[0m)              │ (\u001b[38;5;45mNone\u001b[0m, \u001b[38;5;34m8\u001b[0m, \u001b[38;5;34m64\u001b[0m)          │           \u001b[38;5;34m256\u001b[0m │\n",
       "├─────────────────────────────────┼────────────────────────┼───────────────┤\n",
       "│ max_pooling1d_26 (\u001b[38;5;33mMaxPooling1D\u001b[0m) │ (\u001b[38;5;45mNone\u001b[0m, \u001b[38;5;34m4\u001b[0m, \u001b[38;5;34m64\u001b[0m)          │             \u001b[38;5;34m0\u001b[0m │\n",
       "├─────────────────────────────────┼────────────────────────┼───────────────┤\n",
       "│ conv1d_27 (\u001b[38;5;33mConv1D\u001b[0m)              │ (\u001b[38;5;45mNone\u001b[0m, \u001b[38;5;34m2\u001b[0m, \u001b[38;5;34m128\u001b[0m)         │        \u001b[38;5;34m24,704\u001b[0m │\n",
       "├─────────────────────────────────┼────────────────────────┼───────────────┤\n",
       "│ max_pooling1d_27 (\u001b[38;5;33mMaxPooling1D\u001b[0m) │ (\u001b[38;5;45mNone\u001b[0m, \u001b[38;5;34m1\u001b[0m, \u001b[38;5;34m128\u001b[0m)         │             \u001b[38;5;34m0\u001b[0m │\n",
       "├─────────────────────────────────┼────────────────────────┼───────────────┤\n",
       "│ flatten_14 (\u001b[38;5;33mFlatten\u001b[0m)            │ (\u001b[38;5;45mNone\u001b[0m, \u001b[38;5;34m128\u001b[0m)            │             \u001b[38;5;34m0\u001b[0m │\n",
       "├─────────────────────────────────┼────────────────────────┼───────────────┤\n",
       "│ dense_39 (\u001b[38;5;33mDense\u001b[0m)                │ (\u001b[38;5;45mNone\u001b[0m, \u001b[38;5;34m32\u001b[0m)             │         \u001b[38;5;34m4,128\u001b[0m │\n",
       "├─────────────────────────────────┼────────────────────────┼───────────────┤\n",
       "│ dense_40 (\u001b[38;5;33mDense\u001b[0m)                │ (\u001b[38;5;45mNone\u001b[0m, \u001b[38;5;34m1\u001b[0m)              │            \u001b[38;5;34m33\u001b[0m │\n",
       "└─────────────────────────────────┴────────────────────────┴───────────────┘\n"
      ]
     },
     "metadata": {},
     "output_type": "display_data"
    },
    {
     "data": {
      "text/html": [
       "<pre style=\"white-space:pre;overflow-x:auto;line-height:normal;font-family:Menlo,'DejaVu Sans Mono',consolas,'Courier New',monospace\"><span style=\"font-weight: bold\"> Total params: </span><span style=\"color: #00af00; text-decoration-color: #00af00\">87,365</span> (341.27 KB)\n",
       "</pre>\n"
      ],
      "text/plain": [
       "\u001b[1m Total params: \u001b[0m\u001b[38;5;34m87,365\u001b[0m (341.27 KB)\n"
      ]
     },
     "metadata": {},
     "output_type": "display_data"
    },
    {
     "data": {
      "text/html": [
       "<pre style=\"white-space:pre;overflow-x:auto;line-height:normal;font-family:Menlo,'DejaVu Sans Mono',consolas,'Courier New',monospace\"><span style=\"font-weight: bold\"> Trainable params: </span><span style=\"color: #00af00; text-decoration-color: #00af00\">29,121</span> (113.75 KB)\n",
       "</pre>\n"
      ],
      "text/plain": [
       "\u001b[1m Trainable params: \u001b[0m\u001b[38;5;34m29,121\u001b[0m (113.75 KB)\n"
      ]
     },
     "metadata": {},
     "output_type": "display_data"
    },
    {
     "data": {
      "text/html": [
       "<pre style=\"white-space:pre;overflow-x:auto;line-height:normal;font-family:Menlo,'DejaVu Sans Mono',consolas,'Courier New',monospace\"><span style=\"font-weight: bold\"> Non-trainable params: </span><span style=\"color: #00af00; text-decoration-color: #00af00\">0</span> (0.00 B)\n",
       "</pre>\n"
      ],
      "text/plain": [
       "\u001b[1m Non-trainable params: \u001b[0m\u001b[38;5;34m0\u001b[0m (0.00 B)\n"
      ]
     },
     "metadata": {},
     "output_type": "display_data"
    },
    {
     "data": {
      "text/html": [
       "<pre style=\"white-space:pre;overflow-x:auto;line-height:normal;font-family:Menlo,'DejaVu Sans Mono',consolas,'Courier New',monospace\"><span style=\"font-weight: bold\"> Optimizer params: </span><span style=\"color: #00af00; text-decoration-color: #00af00\">58,244</span> (227.52 KB)\n",
       "</pre>\n"
      ],
      "text/plain": [
       "\u001b[1m Optimizer params: \u001b[0m\u001b[38;5;34m58,244\u001b[0m (227.52 KB)\n"
      ]
     },
     "metadata": {},
     "output_type": "display_data"
    }
   ],
   "source": [
    "model = Sequential() \n",
    "model.add(Conv1D(filters=64, kernel_size=3, activation='relu', input_shape=(n_steps, n_features)))\n",
    "model.add(MaxPooling1D(pool_size=2)) \n",
    "model.add(Conv1D(filters=128, kernel_size=3, activation='relu', input_shape=(n_steps, n_features)))\n",
    "model.add(MaxPooling1D(pool_size=2)) \n",
    "model.add(Flatten()) \n",
    "model.add(Dense(32, activation='relu')) \n",
    "model.add(Dense(1)) # Output layer for regression (e.g., forecasting next value) \n",
    "# 3. Compile the model \n",
    "model.compile(optimizer='adam', loss='mse') \n",
    "# 4. Train the model (using dummy data for demonstration) \n",
    "model.fit(data, targets, epochs=200, verbose=0) \n",
    "\n",
    "# 5. Make a prediction \n",
    "# x_input = np.array([[70, 80, 90, 100, 110, 120, 130, 140, 150, 160]])\n",
    "# x_input = np.array([[3, 23, 33, 43, 53, 63, 73, 83, 93, 103]])\n",
    "# x_input = np.array([[13, 23, 33, 43, 53, 63, 73, 83, 93, 103]])\n",
    "x_input = np.array([[3, 6, 9, 12, 15, 18, 21, 24, 27, 30]])\n",
    "x_input = x_input.reshape((1, n_steps, n_features)) \n",
    "yhat = model.predict(x_input, verbose=0) \n",
    "print(f\"Predicted value: {yhat[0][0]:.2f}\") \n",
    " \n",
    " \n",
    " # Model summary \n",
    " \n",
    "model.summary()\n",
    "\n"
   ]
  },
  {
   "cell_type": "code",
   "execution_count": 6,
   "metadata": {},
   "outputs": [
    {
     "data": {
      "text/plain": [
       "array([[204.43884]], dtype=float32)"
      ]
     },
     "execution_count": 6,
     "metadata": {},
     "output_type": "execute_result"
    }
   ],
   "source": [
    "model.predict(x_input, verbose=0) "
   ]
  },
  {
   "cell_type": "code",
   "execution_count": 12,
   "metadata": {},
   "outputs": [
    {
     "data": {
      "text/plain": [
       "array([[0.04025157, 0.57678429, 0.96430943, 0.02658589, 0.62500951,\n",
       "        0.52027187, 0.09904338, 0.19698071, 0.17131208, 0.52974791],\n",
       "       [0.03824005, 0.43802258, 0.8349718 , 0.99160106, 0.64665239,\n",
       "        0.33047919, 0.61761129, 0.7756658 , 0.21200194, 0.63273228],\n",
       "       [0.03115142, 0.89373759, 0.86621894, 0.68986271, 0.90540307,\n",
       "        0.99133701, 0.18913432, 0.99770246, 0.62208801, 0.61936163],\n",
       "       [0.54977749, 0.08178371, 0.62712848, 0.31785504, 0.5948566 ,\n",
       "        0.75092346, 0.33894088, 0.5368729 , 0.18956027, 0.96304599],\n",
       "       [0.69338749, 0.58926989, 0.46738024, 0.05099736, 0.32818094,\n",
       "        0.22059768, 0.14887623, 0.02469024, 0.162307  , 0.02850199],\n",
       "       [0.28392447, 0.5300743 , 0.61066034, 0.59017679, 0.89697764,\n",
       "        0.72288774, 0.98224939, 0.28312391, 0.61516062, 0.51027445],\n",
       "       [0.98429015, 0.74992661, 0.31497377, 0.23485637, 0.15171781,\n",
       "        0.68799413, 0.49896737, 0.67676941, 0.34747899, 0.7559266 ],\n",
       "       [0.55992515, 0.71848721, 0.96916947, 0.75872846, 0.32813947,\n",
       "        0.62973549, 0.67516999, 0.49558852, 0.49169037, 0.67857038],\n",
       "       [0.89580849, 0.55275886, 0.54861581, 0.25363484, 0.62982567,\n",
       "        0.49497756, 0.07054848, 0.81799966, 0.11309627, 0.83403701],\n",
       "       [0.17885694, 0.43387762, 0.49790311, 0.5371297 , 0.81711102,\n",
       "        0.95019275, 0.62828372, 0.34470118, 0.83670062, 0.83040804],\n",
       "       [0.0055367 , 0.84439577, 0.37797463, 0.42372773, 0.53618547,\n",
       "        0.69983583, 0.64529912, 0.70521925, 0.91453679, 0.1302857 ],\n",
       "       [0.56640798, 0.85045879, 0.18102813, 0.24183745, 0.92700945,\n",
       "        0.00469896, 0.43681486, 0.62419518, 0.68897732, 0.6574644 ],\n",
       "       [0.82886625, 0.14558339, 0.99873665, 0.17726031, 0.93604729,\n",
       "        0.05245753, 0.63091249, 0.50260464, 0.72228375, 0.29936585],\n",
       "       [0.31184979, 0.83156241, 0.82305604, 0.40502441, 0.55354698,\n",
       "        0.34348037, 0.71753238, 0.57122288, 0.50050733, 0.63167707],\n",
       "       [0.57251356, 0.19960504, 0.69608279, 0.9834878 , 0.92773   ,\n",
       "        0.34754518, 0.90496219, 0.83740949, 0.38550287, 0.5045916 ],\n",
       "       [0.92451166, 0.64027137, 0.46278693, 0.42419408, 0.5682813 ,\n",
       "        0.25246568, 0.93905441, 0.23013883, 0.14009775, 0.82777179],\n",
       "       [0.9950939 , 0.40723847, 0.74173162, 0.51228197, 0.84580322,\n",
       "        0.51402151, 0.34155037, 0.81674146, 0.92094951, 0.06549094],\n",
       "       [0.77368825, 0.72867411, 0.37657945, 0.64496453, 0.61911648,\n",
       "        0.71023926, 0.96868958, 0.3749717 , 0.09425335, 0.27587791],\n",
       "       [0.06776063, 0.00979724, 0.83242947, 0.49957078, 0.18280405,\n",
       "        0.84133581, 0.91204657, 0.34754998, 0.14400187, 0.8094407 ],\n",
       "       [0.40866348, 0.66317456, 0.02350588, 0.66765174, 0.5094964 ,\n",
       "        0.71349908, 0.12825326, 0.89858647, 0.78427635, 0.7924922 ],\n",
       "       [0.21548255, 0.53652698, 0.361997  , 0.1030587 , 0.22490545,\n",
       "        0.29818437, 0.73780637, 0.0336092 , 0.6384733 , 0.32834605],\n",
       "       [0.17980368, 0.34876995, 0.49623444, 0.24645163, 0.31823661,\n",
       "        0.10405   , 0.0279478 , 0.25013115, 0.78070692, 0.98332761],\n",
       "       [0.97174911, 0.84919084, 0.78445363, 0.95403281, 0.57414046,\n",
       "        0.16993072, 0.14170324, 0.15629292, 0.07004   , 0.60796093],\n",
       "       [0.4746034 , 0.18609862, 0.07566954, 0.07287368, 0.86273567,\n",
       "        0.49988205, 0.88233861, 0.97974888, 0.56728224, 0.69539687],\n",
       "       [0.68811386, 0.9464011 , 0.19719133, 0.82500399, 0.23060987,\n",
       "        0.82578682, 0.669846  , 0.49483317, 0.13047942, 0.89385066],\n",
       "       [0.42216953, 0.03986935, 0.95359253, 0.68324974, 0.58693728,\n",
       "        0.99898728, 0.48316633, 0.12592237, 0.51704841, 0.10137628],\n",
       "       [0.0430181 , 0.60087859, 0.36505415, 0.38064819, 0.21777211,\n",
       "        0.71479863, 0.59169624, 0.13575071, 0.53698021, 0.94694964],\n",
       "       [0.61450172, 0.19623378, 0.18174022, 0.76602189, 0.61153659,\n",
       "        0.93957557, 0.79646268, 0.04676914, 0.74906146, 0.61323972],\n",
       "       [0.11555831, 0.98192   , 0.72035913, 0.71545068, 0.24575207,\n",
       "        0.96989728, 0.13695672, 0.3975343 , 0.05178376, 0.55288764],\n",
       "       [0.13283459, 0.0573488 , 0.94513749, 0.00457385, 0.51518045,\n",
       "        0.69145238, 0.43525612, 0.31200028, 0.10149977, 0.5351559 ],\n",
       "       [0.87687115, 0.34591796, 0.20505956, 0.59421116, 0.2782812 ,\n",
       "        0.85375915, 0.96869541, 0.12839855, 0.06024179, 0.66647788],\n",
       "       [0.32975523, 0.98646711, 0.02595618, 0.80660583, 0.89774689,\n",
       "        0.19441456, 0.82530751, 0.77419736, 0.66192279, 0.67347817],\n",
       "       [0.0332865 , 0.9154089 , 0.40949988, 0.52116213, 0.05342314,\n",
       "        0.55957384, 0.68058991, 0.26405867, 0.3100843 , 0.13394519],\n",
       "       [0.53534374, 0.49314225, 0.00567984, 0.34006429, 0.26347485,\n",
       "        0.58902481, 0.11195364, 0.71371936, 0.14231502, 0.06441592],\n",
       "       [0.65736451, 0.24709135, 0.44086385, 0.81196896, 0.91832376,\n",
       "        0.29293232, 0.03680584, 0.74259662, 0.06868188, 0.26436102],\n",
       "       [0.43503776, 0.4458898 , 0.32500211, 0.85206425, 0.17573738,\n",
       "        0.05413299, 0.25755552, 0.86518862, 0.47508653, 0.76366632],\n",
       "       [0.82256903, 0.769789  , 0.76991264, 0.0311608 , 0.04436161,\n",
       "        0.00595255, 0.62981498, 0.94031112, 0.90928178, 0.36771077],\n",
       "       [0.41131538, 0.87426403, 0.8974846 , 0.39385841, 0.1433966 ,\n",
       "        0.13545111, 0.12738329, 0.43883849, 0.52449197, 0.08301839],\n",
       "       [0.86039572, 0.62618012, 0.06643728, 0.19690308, 0.81399692,\n",
       "        0.71667291, 0.69834394, 0.75637807, 0.9553761 , 0.62241964],\n",
       "       [0.96806459, 0.26771297, 0.21644349, 0.23842969, 0.08357969,\n",
       "        0.34148094, 0.3838968 , 0.95905397, 0.30869995, 0.43696671],\n",
       "       [0.34689829, 0.5925358 , 0.53675098, 0.62353384, 0.42257466,\n",
       "        0.92311343, 0.42505296, 0.66348673, 0.48138704, 0.79188368],\n",
       "       [0.14210901, 0.58731712, 0.38359145, 0.32383006, 0.82318092,\n",
       "        0.18001149, 0.18048032, 0.54117114, 0.97912773, 0.78890087],\n",
       "       [0.89739887, 0.49548624, 0.45115455, 0.20851301, 0.73778075,\n",
       "        0.15953607, 0.17689355, 0.88796257, 0.9541604 , 0.03249279],\n",
       "       [0.39404932, 0.04008422, 0.09295203, 0.91409421, 0.1085214 ,\n",
       "        0.41918134, 0.87697075, 0.42155354, 0.81330682, 0.8737908 ],\n",
       "       [0.73908445, 0.37162301, 0.70075361, 0.22007047, 0.58646219,\n",
       "        0.35446752, 0.97194704, 0.13845414, 0.47937852, 0.58235768],\n",
       "       [0.75412468, 0.29378311, 0.37069527, 0.93539479, 0.04343221,\n",
       "        0.51268301, 0.42804209, 0.6383278 , 0.47442338, 0.98753909],\n",
       "       [0.5738634 , 0.56806651, 0.09426909, 0.6403597 , 0.09497893,\n",
       "        0.75932579, 0.21591263, 0.7666068 , 0.25284424, 0.96552933],\n",
       "       [0.20757207, 0.71074817, 0.56609445, 0.20776512, 0.62540262,\n",
       "        0.1237136 , 0.22457948, 0.90233271, 0.32136906, 0.89515725],\n",
       "       [0.12684972, 0.85745071, 0.908614  , 0.13210843, 0.9364903 ,\n",
       "        0.20000697, 0.74704712, 0.49872511, 0.58491342, 0.73929719],\n",
       "       [0.17452863, 0.5475017 , 0.64979343, 0.08026979, 0.97429305,\n",
       "        0.05129778, 0.22761319, 0.05495436, 0.16525958, 0.73688715]])"
      ]
     },
     "execution_count": 12,
     "metadata": {},
     "output_type": "execute_result"
    }
   ],
   "source": [
    "import numpy as np\n",
    "import tensorflow as tf\n",
    "from tensorflow.keras.models import Sequential\n",
    "from tensorflow.keras.layers import Conv1D, MaxPooling1D, LSTM, Dense, Dropout\n",
    "\n",
    "# Example data: 1000 samples, each with 50 timesteps, each timestep has 10 features\n",
    "X = np.random.rand(1000, 50, 10)\n",
    "y = np.random.randint(0, 2, 1000)  # binary labels\n",
    "\n",
    "X[0]"
   ]
  },
  {
   "cell_type": "code",
   "execution_count": null,
   "metadata": {},
   "outputs": [],
   "source": [
    "# Model\n",
    "model = Sequential([\n",
    "    Conv1D(filters=64, kernel_size=3, activation='relu', input_shape=(50, 10)),\n",
    "    MaxPooling1D(pool_size=2),\n",
    "    LSTM(100, return_sequences=False),\n",
    "    Dropout(0.5),\n",
    "    Dense(1, activation='sigmoid')\n",
    "])\n",
    "\n",
    "model.compile(loss='binary_crossentropy', optimizer='adam', metrics=['accuracy'])\n",
    "model.summary()\n",
    "\n",
    "# Training\n",
    "history = model.fit(X, y, epochs=5, batch_size=32, validation_split=0.2)"
   ]
  },
  {
   "cell_type": "code",
   "execution_count": null,
   "metadata": {},
   "outputs": [],
   "source": []
  },
  {
   "cell_type": "code",
   "execution_count": 56,
   "metadata": {},
   "outputs": [
    {
     "data": {
      "text/html": [
       "<pre style=\"white-space:pre;overflow-x:auto;line-height:normal;font-family:Menlo,'DejaVu Sans Mono',consolas,'Courier New',monospace\"><span style=\"font-weight: bold\">Model: \"sequential_25\"</span>\n",
       "</pre>\n"
      ],
      "text/plain": [
       "\u001b[1mModel: \"sequential_25\"\u001b[0m\n"
      ]
     },
     "metadata": {},
     "output_type": "display_data"
    },
    {
     "data": {
      "text/html": [
       "<pre style=\"white-space:pre;overflow-x:auto;line-height:normal;font-family:Menlo,'DejaVu Sans Mono',consolas,'Courier New',monospace\">┏━━━━━━━━━━━━━━━━━━━━━━━━━━━━━━━━━┳━━━━━━━━━━━━━━━━━━━━━━━━┳━━━━━━━━━━━━━━━┓\n",
       "┃<span style=\"font-weight: bold\"> Layer (type)                    </span>┃<span style=\"font-weight: bold\"> Output Shape           </span>┃<span style=\"font-weight: bold\">       Param # </span>┃\n",
       "┡━━━━━━━━━━━━━━━━━━━━━━━━━━━━━━━━━╇━━━━━━━━━━━━━━━━━━━━━━━━╇━━━━━━━━━━━━━━━┩\n",
       "│ conv1d_28 (<span style=\"color: #0087ff; text-decoration-color: #0087ff\">Conv1D</span>)              │ (<span style=\"color: #00d7ff; text-decoration-color: #00d7ff\">None</span>, <span style=\"color: #00af00; text-decoration-color: #00af00\">48</span>, <span style=\"color: #00af00; text-decoration-color: #00af00\">64</span>)         │         <span style=\"color: #00af00; text-decoration-color: #00af00\">1,984</span> │\n",
       "├─────────────────────────────────┼────────────────────────┼───────────────┤\n",
       "│ max_pooling1d_28 (<span style=\"color: #0087ff; text-decoration-color: #0087ff\">MaxPooling1D</span>) │ (<span style=\"color: #00d7ff; text-decoration-color: #00d7ff\">None</span>, <span style=\"color: #00af00; text-decoration-color: #00af00\">24</span>, <span style=\"color: #00af00; text-decoration-color: #00af00\">64</span>)         │             <span style=\"color: #00af00; text-decoration-color: #00af00\">0</span> │\n",
       "├─────────────────────────────────┼────────────────────────┼───────────────┤\n",
       "│ conv1d_29 (<span style=\"color: #0087ff; text-decoration-color: #0087ff\">Conv1D</span>)              │ (<span style=\"color: #00d7ff; text-decoration-color: #00d7ff\">None</span>, <span style=\"color: #00af00; text-decoration-color: #00af00\">22</span>, <span style=\"color: #00af00; text-decoration-color: #00af00\">128</span>)        │        <span style=\"color: #00af00; text-decoration-color: #00af00\">24,704</span> │\n",
       "├─────────────────────────────────┼────────────────────────┼───────────────┤\n",
       "│ global_max_pooling1d            │ (<span style=\"color: #00d7ff; text-decoration-color: #00d7ff\">None</span>, <span style=\"color: #00af00; text-decoration-color: #00af00\">128</span>)            │             <span style=\"color: #00af00; text-decoration-color: #00af00\">0</span> │\n",
       "│ (<span style=\"color: #0087ff; text-decoration-color: #0087ff\">GlobalMaxPooling1D</span>)            │                        │               │\n",
       "├─────────────────────────────────┼────────────────────────┼───────────────┤\n",
       "│ dense_41 (<span style=\"color: #0087ff; text-decoration-color: #0087ff\">Dense</span>)                │ (<span style=\"color: #00d7ff; text-decoration-color: #00d7ff\">None</span>, <span style=\"color: #00af00; text-decoration-color: #00af00\">64</span>)             │         <span style=\"color: #00af00; text-decoration-color: #00af00\">8,256</span> │\n",
       "├─────────────────────────────────┼────────────────────────┼───────────────┤\n",
       "│ dense_42 (<span style=\"color: #0087ff; text-decoration-color: #0087ff\">Dense</span>)                │ (<span style=\"color: #00d7ff; text-decoration-color: #00d7ff\">None</span>, <span style=\"color: #00af00; text-decoration-color: #00af00\">1</span>)              │            <span style=\"color: #00af00; text-decoration-color: #00af00\">65</span> │\n",
       "└─────────────────────────────────┴────────────────────────┴───────────────┘\n",
       "</pre>\n"
      ],
      "text/plain": [
       "┏━━━━━━━━━━━━━━━━━━━━━━━━━━━━━━━━━┳━━━━━━━━━━━━━━━━━━━━━━━━┳━━━━━━━━━━━━━━━┓\n",
       "┃\u001b[1m \u001b[0m\u001b[1mLayer (type)                   \u001b[0m\u001b[1m \u001b[0m┃\u001b[1m \u001b[0m\u001b[1mOutput Shape          \u001b[0m\u001b[1m \u001b[0m┃\u001b[1m \u001b[0m\u001b[1m      Param #\u001b[0m\u001b[1m \u001b[0m┃\n",
       "┡━━━━━━━━━━━━━━━━━━━━━━━━━━━━━━━━━╇━━━━━━━━━━━━━━━━━━━━━━━━╇━━━━━━━━━━━━━━━┩\n",
       "│ conv1d_28 (\u001b[38;5;33mConv1D\u001b[0m)              │ (\u001b[38;5;45mNone\u001b[0m, \u001b[38;5;34m48\u001b[0m, \u001b[38;5;34m64\u001b[0m)         │         \u001b[38;5;34m1,984\u001b[0m │\n",
       "├─────────────────────────────────┼────────────────────────┼───────────────┤\n",
       "│ max_pooling1d_28 (\u001b[38;5;33mMaxPooling1D\u001b[0m) │ (\u001b[38;5;45mNone\u001b[0m, \u001b[38;5;34m24\u001b[0m, \u001b[38;5;34m64\u001b[0m)         │             \u001b[38;5;34m0\u001b[0m │\n",
       "├─────────────────────────────────┼────────────────────────┼───────────────┤\n",
       "│ conv1d_29 (\u001b[38;5;33mConv1D\u001b[0m)              │ (\u001b[38;5;45mNone\u001b[0m, \u001b[38;5;34m22\u001b[0m, \u001b[38;5;34m128\u001b[0m)        │        \u001b[38;5;34m24,704\u001b[0m │\n",
       "├─────────────────────────────────┼────────────────────────┼───────────────┤\n",
       "│ global_max_pooling1d            │ (\u001b[38;5;45mNone\u001b[0m, \u001b[38;5;34m128\u001b[0m)            │             \u001b[38;5;34m0\u001b[0m │\n",
       "│ (\u001b[38;5;33mGlobalMaxPooling1D\u001b[0m)            │                        │               │\n",
       "├─────────────────────────────────┼────────────────────────┼───────────────┤\n",
       "│ dense_41 (\u001b[38;5;33mDense\u001b[0m)                │ (\u001b[38;5;45mNone\u001b[0m, \u001b[38;5;34m64\u001b[0m)             │         \u001b[38;5;34m8,256\u001b[0m │\n",
       "├─────────────────────────────────┼────────────────────────┼───────────────┤\n",
       "│ dense_42 (\u001b[38;5;33mDense\u001b[0m)                │ (\u001b[38;5;45mNone\u001b[0m, \u001b[38;5;34m1\u001b[0m)              │            \u001b[38;5;34m65\u001b[0m │\n",
       "└─────────────────────────────────┴────────────────────────┴───────────────┘\n"
      ]
     },
     "metadata": {},
     "output_type": "display_data"
    },
    {
     "data": {
      "text/html": [
       "<pre style=\"white-space:pre;overflow-x:auto;line-height:normal;font-family:Menlo,'DejaVu Sans Mono',consolas,'Courier New',monospace\"><span style=\"font-weight: bold\"> Total params: </span><span style=\"color: #00af00; text-decoration-color: #00af00\">35,009</span> (136.75 KB)\n",
       "</pre>\n"
      ],
      "text/plain": [
       "\u001b[1m Total params: \u001b[0m\u001b[38;5;34m35,009\u001b[0m (136.75 KB)\n"
      ]
     },
     "metadata": {},
     "output_type": "display_data"
    },
    {
     "data": {
      "text/html": [
       "<pre style=\"white-space:pre;overflow-x:auto;line-height:normal;font-family:Menlo,'DejaVu Sans Mono',consolas,'Courier New',monospace\"><span style=\"font-weight: bold\"> Trainable params: </span><span style=\"color: #00af00; text-decoration-color: #00af00\">35,009</span> (136.75 KB)\n",
       "</pre>\n"
      ],
      "text/plain": [
       "\u001b[1m Trainable params: \u001b[0m\u001b[38;5;34m35,009\u001b[0m (136.75 KB)\n"
      ]
     },
     "metadata": {},
     "output_type": "display_data"
    },
    {
     "data": {
      "text/html": [
       "<pre style=\"white-space:pre;overflow-x:auto;line-height:normal;font-family:Menlo,'DejaVu Sans Mono',consolas,'Courier New',monospace\"><span style=\"font-weight: bold\"> Non-trainable params: </span><span style=\"color: #00af00; text-decoration-color: #00af00\">0</span> (0.00 B)\n",
       "</pre>\n"
      ],
      "text/plain": [
       "\u001b[1m Non-trainable params: \u001b[0m\u001b[38;5;34m0\u001b[0m (0.00 B)\n"
      ]
     },
     "metadata": {},
     "output_type": "display_data"
    }
   ],
   "source": [
    "import numpy as np\n",
    "from tensorflow.keras.models import Sequential\n",
    "from tensorflow.keras.layers import Conv1D, MaxPooling1D, GlobalMaxPooling1D, Dense\n",
    "\n",
    "# Example: 1000 samples, 50 timesteps, 10 features\n",
    "X = np.random.randn(1000, 50, 10)\n",
    "y = np.random.randint(0, 2, 1000)\n",
    "\n",
    "model = Sequential([\n",
    "    Conv1D(64, 3, activation='relu', input_shape=(50, 10)),\n",
    "    MaxPooling1D(2),\n",
    "    Conv1D(128, 3, activation='relu'),\n",
    "    GlobalMaxPooling1D(),\n",
    "    Dense(64, activation='relu'),\n",
    "    Dense(1, activation='sigmoid')  # binary classification\n",
    "])\n",
    "\n",
    "model.compile(optimizer='adam', loss='binary_crossentropy', metrics=['accuracy'])\n",
    "model.summary()\n"
   ]
  },
  {
   "cell_type": "code",
   "execution_count": null,
   "metadata": {},
   "outputs": [],
   "source": []
  },
  {
   "cell_type": "code",
   "execution_count": null,
   "metadata": {},
   "outputs": [],
   "source": []
  },
  {
   "cell_type": "code",
   "execution_count": null,
   "metadata": {},
   "outputs": [],
   "source": []
  },
  {
   "cell_type": "code",
   "execution_count": null,
   "metadata": {},
   "outputs": [],
   "source": []
  }
 ],
 "metadata": {
  "kernelspec": {
   "display_name": "ml_projects_venv",
   "language": "python",
   "name": "python3"
  },
  "language_info": {
   "codemirror_mode": {
    "name": "ipython",
    "version": 3
   },
   "file_extension": ".py",
   "mimetype": "text/x-python",
   "name": "python",
   "nbconvert_exporter": "python",
   "pygments_lexer": "ipython3",
   "version": "3.12.3"
  }
 },
 "nbformat": 4,
 "nbformat_minor": 2
}
