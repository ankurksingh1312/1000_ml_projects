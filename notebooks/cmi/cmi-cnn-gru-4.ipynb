{
 "cells": [
  {
   "cell_type": "code",
   "execution_count": 1,
   "metadata": {},
   "outputs": [],
   "source": [
    "import pandas as pd\n",
    "\n",
    "df_train = pd.read_csv('/home/ankur/Desktop/ML_DL_Projects/data/cmi-detect-behavior-with-sensor-data/train.csv')\n",
    "df_train_demographics = pd.read_csv('/home/ankur/Desktop/ML_DL_Projects/data/cmi-detect-behavior-with-sensor-data/train_demographics.csv')\n",
    "df_test = pd.read_csv('/home/ankur/Desktop/ML_DL_Projects/data/cmi-detect-behavior-with-sensor-data/test.csv')\n",
    "df_test_demographics = pd.read_csv('/home/ankur/Desktop/ML_DL_Projects/data/cmi-detect-behavior-with-sensor-data/test_demographics.csv')\n",
    "df_merged_train  = pd.merge(df_train, df_train_demographics, on='subject', how='left')\n",
    "df_merged_test  = pd.merge(df_test, df_test_demographics, on='subject', how='left')"
   ]
  },
  {
   "cell_type": "code",
   "execution_count": 2,
   "metadata": {},
   "outputs": [
    {
     "name": "stdout",
     "output_type": "stream",
     "text": [
      "Value counts:\n",
      " gesture\n",
      "Text on phone                                 58462\n",
      "Neck - scratch                                56619\n",
      "Eyebrow - pull hair                           44305\n",
      "Forehead - scratch                            40923\n",
      "Forehead - pull hairline                      40802\n",
      "Above ear - pull hair                         40560\n",
      "Neck - pinch skin                             40507\n",
      "Eyelash - pull hair                           40218\n",
      "Cheek - pinch skin                            40124\n",
      "Wave hello                                    34356\n",
      "Write name in air                             31267\n",
      "Pull air toward your face                     30743\n",
      "Feel around in tray and pull out an object    17114\n",
      "Glasses on/off                                13542\n",
      "Drink from bottle/cup                         13093\n",
      "Scratch knee/leg skin                         12328\n",
      "Write name on leg                             10138\n",
      "Pinch knee/leg skin                            9844\n",
      "Name: count, dtype: int64\n",
      "\n",
      "Rows in BFRB: 344058\n",
      "Rows NOT in BFRB: 230887\n",
      "\n",
      "Total rows: 574945\n",
      "Check: True\n"
     ]
    },
    {
     "name": "stderr",
     "output_type": "stream",
     "text": [
      "/tmp/ipykernel_68126/397087711.py:43: FutureWarning: DataFrame.interpolate with object dtype is deprecated and will raise in a future version. Call obj.infer_objects(copy=False) before interpolating instead.\n",
      "  df_merged_train = df_merged_train.interpolate(method=\"linear\", axis=0)\n"
     ]
    },
    {
     "name": "stdout",
     "output_type": "stream",
     "text": [
      "Columns in X with NaNs:\n",
      " []\n"
     ]
    },
    {
     "data": {
      "text/html": [
       "<div>\n",
       "<style scoped>\n",
       "    .dataframe tbody tr th:only-of-type {\n",
       "        vertical-align: middle;\n",
       "    }\n",
       "\n",
       "    .dataframe tbody tr th {\n",
       "        vertical-align: top;\n",
       "    }\n",
       "\n",
       "    .dataframe thead th {\n",
       "        text-align: right;\n",
       "    }\n",
       "</style>\n",
       "<table border=\"1\" class=\"dataframe\">\n",
       "  <thead>\n",
       "    <tr style=\"text-align: right;\">\n",
       "      <th></th>\n",
       "      <th>sequence_id</th>\n",
       "      <th>sequence_counter</th>\n",
       "      <th>acc_x</th>\n",
       "      <th>acc_y</th>\n",
       "      <th>acc_z</th>\n",
       "      <th>rot_w</th>\n",
       "      <th>rot_x</th>\n",
       "      <th>rot_y</th>\n",
       "      <th>rot_z</th>\n",
       "      <th>thm_1</th>\n",
       "      <th>...</th>\n",
       "      <th>elbow_to_wrist_cm</th>\n",
       "      <th>Above ear - pull hair</th>\n",
       "      <th>Forehead - pull hairline</th>\n",
       "      <th>Forehead - scratch</th>\n",
       "      <th>Eyebrow - pull hair</th>\n",
       "      <th>Eyelash - pull hair</th>\n",
       "      <th>Neck - pinch skin</th>\n",
       "      <th>Neck - scratch</th>\n",
       "      <th>Cheek - pinch skin</th>\n",
       "      <th>Non-Target</th>\n",
       "    </tr>\n",
       "  </thead>\n",
       "  <tbody>\n",
       "    <tr>\n",
       "      <th>0</th>\n",
       "      <td>SEQ_000007</td>\n",
       "      <td>0</td>\n",
       "      <td>6.683594</td>\n",
       "      <td>6.214844</td>\n",
       "      <td>3.355469</td>\n",
       "      <td>0.134399</td>\n",
       "      <td>-0.355164</td>\n",
       "      <td>-0.447327</td>\n",
       "      <td>-0.809753</td>\n",
       "      <td>28.943842</td>\n",
       "      <td>...</td>\n",
       "      <td>24.0</td>\n",
       "      <td>0</td>\n",
       "      <td>0</td>\n",
       "      <td>0</td>\n",
       "      <td>0</td>\n",
       "      <td>0</td>\n",
       "      <td>0</td>\n",
       "      <td>0</td>\n",
       "      <td>1</td>\n",
       "      <td>0</td>\n",
       "    </tr>\n",
       "    <tr>\n",
       "      <th>1</th>\n",
       "      <td>SEQ_000007</td>\n",
       "      <td>1</td>\n",
       "      <td>6.949219</td>\n",
       "      <td>6.214844</td>\n",
       "      <td>3.125000</td>\n",
       "      <td>0.143494</td>\n",
       "      <td>-0.340271</td>\n",
       "      <td>-0.428650</td>\n",
       "      <td>-0.824524</td>\n",
       "      <td>29.340816</td>\n",
       "      <td>...</td>\n",
       "      <td>24.0</td>\n",
       "      <td>0</td>\n",
       "      <td>0</td>\n",
       "      <td>0</td>\n",
       "      <td>0</td>\n",
       "      <td>0</td>\n",
       "      <td>0</td>\n",
       "      <td>0</td>\n",
       "      <td>1</td>\n",
       "      <td>0</td>\n",
       "    </tr>\n",
       "    <tr>\n",
       "      <th>2</th>\n",
       "      <td>SEQ_000007</td>\n",
       "      <td>2</td>\n",
       "      <td>5.722656</td>\n",
       "      <td>5.410156</td>\n",
       "      <td>5.421875</td>\n",
       "      <td>0.219055</td>\n",
       "      <td>-0.274231</td>\n",
       "      <td>-0.356934</td>\n",
       "      <td>-0.865662</td>\n",
       "      <td>30.339359</td>\n",
       "      <td>...</td>\n",
       "      <td>24.0</td>\n",
       "      <td>0</td>\n",
       "      <td>0</td>\n",
       "      <td>0</td>\n",
       "      <td>0</td>\n",
       "      <td>0</td>\n",
       "      <td>0</td>\n",
       "      <td>0</td>\n",
       "      <td>1</td>\n",
       "      <td>0</td>\n",
       "    </tr>\n",
       "    <tr>\n",
       "      <th>3</th>\n",
       "      <td>SEQ_000007</td>\n",
       "      <td>3</td>\n",
       "      <td>6.601562</td>\n",
       "      <td>3.531250</td>\n",
       "      <td>6.457031</td>\n",
       "      <td>0.297546</td>\n",
       "      <td>-0.264160</td>\n",
       "      <td>-0.238159</td>\n",
       "      <td>-0.885986</td>\n",
       "      <td>30.543730</td>\n",
       "      <td>...</td>\n",
       "      <td>24.0</td>\n",
       "      <td>0</td>\n",
       "      <td>0</td>\n",
       "      <td>0</td>\n",
       "      <td>0</td>\n",
       "      <td>0</td>\n",
       "      <td>0</td>\n",
       "      <td>0</td>\n",
       "      <td>1</td>\n",
       "      <td>0</td>\n",
       "    </tr>\n",
       "    <tr>\n",
       "      <th>4</th>\n",
       "      <td>SEQ_000007</td>\n",
       "      <td>4</td>\n",
       "      <td>5.566406</td>\n",
       "      <td>0.277344</td>\n",
       "      <td>9.632812</td>\n",
       "      <td>0.333557</td>\n",
       "      <td>-0.218628</td>\n",
       "      <td>-0.063538</td>\n",
       "      <td>-0.914856</td>\n",
       "      <td>29.317265</td>\n",
       "      <td>...</td>\n",
       "      <td>24.0</td>\n",
       "      <td>0</td>\n",
       "      <td>0</td>\n",
       "      <td>0</td>\n",
       "      <td>0</td>\n",
       "      <td>0</td>\n",
       "      <td>0</td>\n",
       "      <td>0</td>\n",
       "      <td>1</td>\n",
       "      <td>0</td>\n",
       "    </tr>\n",
       "  </tbody>\n",
       "</table>\n",
       "<p>5 rows × 350 columns</p>\n",
       "</div>"
      ],
      "text/plain": [
       "  sequence_id  sequence_counter     acc_x     acc_y     acc_z     rot_w  \\\n",
       "0  SEQ_000007                 0  6.683594  6.214844  3.355469  0.134399   \n",
       "1  SEQ_000007                 1  6.949219  6.214844  3.125000  0.143494   \n",
       "2  SEQ_000007                 2  5.722656  5.410156  5.421875  0.219055   \n",
       "3  SEQ_000007                 3  6.601562  3.531250  6.457031  0.297546   \n",
       "4  SEQ_000007                 4  5.566406  0.277344  9.632812  0.333557   \n",
       "\n",
       "      rot_x     rot_y     rot_z      thm_1  ...  elbow_to_wrist_cm  \\\n",
       "0 -0.355164 -0.447327 -0.809753  28.943842  ...               24.0   \n",
       "1 -0.340271 -0.428650 -0.824524  29.340816  ...               24.0   \n",
       "2 -0.274231 -0.356934 -0.865662  30.339359  ...               24.0   \n",
       "3 -0.264160 -0.238159 -0.885986  30.543730  ...               24.0   \n",
       "4 -0.218628 -0.063538 -0.914856  29.317265  ...               24.0   \n",
       "\n",
       "   Above ear - pull hair  Forehead - pull hairline  Forehead - scratch  \\\n",
       "0                      0                         0                   0   \n",
       "1                      0                         0                   0   \n",
       "2                      0                         0                   0   \n",
       "3                      0                         0                   0   \n",
       "4                      0                         0                   0   \n",
       "\n",
       "   Eyebrow - pull hair  Eyelash - pull hair  Neck - pinch skin  \\\n",
       "0                    0                    0                  0   \n",
       "1                    0                    0                  0   \n",
       "2                    0                    0                  0   \n",
       "3                    0                    0                  0   \n",
       "4                    0                    0                  0   \n",
       "\n",
       "   Neck - scratch  Cheek - pinch skin  Non-Target  \n",
       "0               0                   1           0  \n",
       "1               0                   1           0  \n",
       "2               0                   1           0  \n",
       "3               0                   1           0  \n",
       "4               0                   1           0  \n",
       "\n",
       "[5 rows x 350 columns]"
      ]
     },
     "execution_count": 2,
     "metadata": {},
     "output_type": "execute_result"
    }
   ],
   "source": [
    "BFRB = [\n",
    "    'Above ear - pull hair',\n",
    "    'Forehead - pull hairline',\n",
    "    'Forehead - scratch',\n",
    "    'Eyebrow - pull hair',\n",
    "    'Eyelash - pull hair',\n",
    "    'Neck - pinch skin',\n",
    "    'Neck - scratch',\n",
    "    'Cheek - pinch skin'\n",
    "]\n",
    "# total count of values in df_merged_train['gesture']\n",
    "print(\"Value counts:\\n\", df_merged_train['gesture'].value_counts())\n",
    "\n",
    "# count where gesture is in BFRB\n",
    "count_in_BFRB = df_merged_train['gesture'].isin(BFRB).sum()\n",
    "print(\"\\nRows in BFRB:\", count_in_BFRB)\n",
    "\n",
    "# count where gesture is NOT in BFRB\n",
    "count_not_in_BFRB = (~df_merged_train['gesture'].isin(BFRB)).sum()\n",
    "print(\"Rows NOT in BFRB:\", count_not_in_BFRB)\n",
    "\n",
    "# sanity check: should equal total row count\n",
    "print(\"\\nTotal rows:\", len(df_merged_train))\n",
    "print(\"Check:\", count_in_BFRB + count_not_in_BFRB == len(df_merged_train))\n",
    "for g in BFRB:\n",
    "    df_merged_train[g] = (df_merged_train['gesture'] == g).astype(int)\n",
    "df_merged_train[\"Non-Target\"] = (\n",
    "    df_merged_train[\"sequence_type\"]\n",
    "    .astype(str)\n",
    "    .str.strip()\n",
    "    .str.title()\n",
    "    .map({\"Target\": 0, \"Non-Target\": 1})\n",
    ")\n",
    "df_merged_train.drop([\n",
    " 'sequence_type', \n",
    " 'gesture',\n",
    " 'row_id',   \n",
    " 'subject',\n",
    " 'orientation',\n",
    " 'behavior',\n",
    " 'phase'], axis=1, inplace=True)\n",
    "\n",
    "df_merged_train = df_merged_train.interpolate(method=\"linear\", axis=0)\n",
    "nan_columns_X = df_merged_train.columns[df_merged_train.isnull().any()].tolist()\n",
    "print(\"Columns in X with NaNs:\\n\", nan_columns_X)\n",
    "\n",
    "df_merged_train.head()"
   ]
  },
  {
   "cell_type": "code",
   "execution_count": 3,
   "metadata": {},
   "outputs": [
    {
     "data": {
      "text/html": [
       "<div>\n",
       "<style scoped>\n",
       "    .dataframe tbody tr th:only-of-type {\n",
       "        vertical-align: middle;\n",
       "    }\n",
       "\n",
       "    .dataframe tbody tr th {\n",
       "        vertical-align: top;\n",
       "    }\n",
       "\n",
       "    .dataframe thead th {\n",
       "        text-align: right;\n",
       "    }\n",
       "</style>\n",
       "<table border=\"1\" class=\"dataframe\">\n",
       "  <thead>\n",
       "    <tr style=\"text-align: right;\">\n",
       "      <th></th>\n",
       "      <th>sequence_id</th>\n",
       "      <th>Above ear - pull hair</th>\n",
       "      <th>Forehead - pull hairline</th>\n",
       "      <th>Forehead - scratch</th>\n",
       "      <th>Eyebrow - pull hair</th>\n",
       "      <th>Eyelash - pull hair</th>\n",
       "      <th>Neck - pinch skin</th>\n",
       "      <th>Neck - scratch</th>\n",
       "      <th>Cheek - pinch skin</th>\n",
       "      <th>Non-Target</th>\n",
       "    </tr>\n",
       "  </thead>\n",
       "  <tbody>\n",
       "    <tr>\n",
       "      <th>0</th>\n",
       "      <td>SEQ_000007</td>\n",
       "      <td>0</td>\n",
       "      <td>0</td>\n",
       "      <td>0</td>\n",
       "      <td>0</td>\n",
       "      <td>0</td>\n",
       "      <td>0</td>\n",
       "      <td>0</td>\n",
       "      <td>1</td>\n",
       "      <td>0</td>\n",
       "    </tr>\n",
       "    <tr>\n",
       "      <th>1</th>\n",
       "      <td>SEQ_000007</td>\n",
       "      <td>0</td>\n",
       "      <td>0</td>\n",
       "      <td>0</td>\n",
       "      <td>0</td>\n",
       "      <td>0</td>\n",
       "      <td>0</td>\n",
       "      <td>0</td>\n",
       "      <td>1</td>\n",
       "      <td>0</td>\n",
       "    </tr>\n",
       "    <tr>\n",
       "      <th>2</th>\n",
       "      <td>SEQ_000007</td>\n",
       "      <td>0</td>\n",
       "      <td>0</td>\n",
       "      <td>0</td>\n",
       "      <td>0</td>\n",
       "      <td>0</td>\n",
       "      <td>0</td>\n",
       "      <td>0</td>\n",
       "      <td>1</td>\n",
       "      <td>0</td>\n",
       "    </tr>\n",
       "    <tr>\n",
       "      <th>3</th>\n",
       "      <td>SEQ_000007</td>\n",
       "      <td>0</td>\n",
       "      <td>0</td>\n",
       "      <td>0</td>\n",
       "      <td>0</td>\n",
       "      <td>0</td>\n",
       "      <td>0</td>\n",
       "      <td>0</td>\n",
       "      <td>1</td>\n",
       "      <td>0</td>\n",
       "    </tr>\n",
       "    <tr>\n",
       "      <th>4</th>\n",
       "      <td>SEQ_000007</td>\n",
       "      <td>0</td>\n",
       "      <td>0</td>\n",
       "      <td>0</td>\n",
       "      <td>0</td>\n",
       "      <td>0</td>\n",
       "      <td>0</td>\n",
       "      <td>0</td>\n",
       "      <td>1</td>\n",
       "      <td>0</td>\n",
       "    </tr>\n",
       "    <tr>\n",
       "      <th>...</th>\n",
       "      <td>...</td>\n",
       "      <td>...</td>\n",
       "      <td>...</td>\n",
       "      <td>...</td>\n",
       "      <td>...</td>\n",
       "      <td>...</td>\n",
       "      <td>...</td>\n",
       "      <td>...</td>\n",
       "      <td>...</td>\n",
       "      <td>...</td>\n",
       "    </tr>\n",
       "    <tr>\n",
       "      <th>574940</th>\n",
       "      <td>SEQ_065531</td>\n",
       "      <td>0</td>\n",
       "      <td>0</td>\n",
       "      <td>0</td>\n",
       "      <td>0</td>\n",
       "      <td>0</td>\n",
       "      <td>0</td>\n",
       "      <td>0</td>\n",
       "      <td>0</td>\n",
       "      <td>1</td>\n",
       "    </tr>\n",
       "    <tr>\n",
       "      <th>574941</th>\n",
       "      <td>SEQ_065531</td>\n",
       "      <td>0</td>\n",
       "      <td>0</td>\n",
       "      <td>0</td>\n",
       "      <td>0</td>\n",
       "      <td>0</td>\n",
       "      <td>0</td>\n",
       "      <td>0</td>\n",
       "      <td>0</td>\n",
       "      <td>1</td>\n",
       "    </tr>\n",
       "    <tr>\n",
       "      <th>574942</th>\n",
       "      <td>SEQ_065531</td>\n",
       "      <td>0</td>\n",
       "      <td>0</td>\n",
       "      <td>0</td>\n",
       "      <td>0</td>\n",
       "      <td>0</td>\n",
       "      <td>0</td>\n",
       "      <td>0</td>\n",
       "      <td>0</td>\n",
       "      <td>1</td>\n",
       "    </tr>\n",
       "    <tr>\n",
       "      <th>574943</th>\n",
       "      <td>SEQ_065531</td>\n",
       "      <td>0</td>\n",
       "      <td>0</td>\n",
       "      <td>0</td>\n",
       "      <td>0</td>\n",
       "      <td>0</td>\n",
       "      <td>0</td>\n",
       "      <td>0</td>\n",
       "      <td>0</td>\n",
       "      <td>1</td>\n",
       "    </tr>\n",
       "    <tr>\n",
       "      <th>574944</th>\n",
       "      <td>SEQ_065531</td>\n",
       "      <td>0</td>\n",
       "      <td>0</td>\n",
       "      <td>0</td>\n",
       "      <td>0</td>\n",
       "      <td>0</td>\n",
       "      <td>0</td>\n",
       "      <td>0</td>\n",
       "      <td>0</td>\n",
       "      <td>1</td>\n",
       "    </tr>\n",
       "  </tbody>\n",
       "</table>\n",
       "<p>574945 rows × 10 columns</p>\n",
       "</div>"
      ],
      "text/plain": [
       "       sequence_id  Above ear - pull hair  Forehead - pull hairline  \\\n",
       "0       SEQ_000007                      0                         0   \n",
       "1       SEQ_000007                      0                         0   \n",
       "2       SEQ_000007                      0                         0   \n",
       "3       SEQ_000007                      0                         0   \n",
       "4       SEQ_000007                      0                         0   \n",
       "...            ...                    ...                       ...   \n",
       "574940  SEQ_065531                      0                         0   \n",
       "574941  SEQ_065531                      0                         0   \n",
       "574942  SEQ_065531                      0                         0   \n",
       "574943  SEQ_065531                      0                         0   \n",
       "574944  SEQ_065531                      0                         0   \n",
       "\n",
       "        Forehead - scratch  Eyebrow - pull hair  Eyelash - pull hair  \\\n",
       "0                        0                    0                    0   \n",
       "1                        0                    0                    0   \n",
       "2                        0                    0                    0   \n",
       "3                        0                    0                    0   \n",
       "4                        0                    0                    0   \n",
       "...                    ...                  ...                  ...   \n",
       "574940                   0                    0                    0   \n",
       "574941                   0                    0                    0   \n",
       "574942                   0                    0                    0   \n",
       "574943                   0                    0                    0   \n",
       "574944                   0                    0                    0   \n",
       "\n",
       "        Neck - pinch skin  Neck - scratch  Cheek - pinch skin  Non-Target  \n",
       "0                       0               0                   1           0  \n",
       "1                       0               0                   1           0  \n",
       "2                       0               0                   1           0  \n",
       "3                       0               0                   1           0  \n",
       "4                       0               0                   1           0  \n",
       "...                   ...             ...                 ...         ...  \n",
       "574940                  0               0                   0           1  \n",
       "574941                  0               0                   0           1  \n",
       "574942                  0               0                   0           1  \n",
       "574943                  0               0                   0           1  \n",
       "574944                  0               0                   0           1  \n",
       "\n",
       "[574945 rows x 10 columns]"
      ]
     },
     "execution_count": 3,
     "metadata": {},
     "output_type": "execute_result"
    }
   ],
   "source": [
    "df_full_sensor_label_names =['sequence_id',\n",
    " 'Above ear - pull hair',\n",
    " 'Forehead - pull hairline',\n",
    " 'Forehead - scratch',\n",
    " 'Eyebrow - pull hair',\n",
    " 'Eyelash - pull hair',\n",
    " 'Neck - pinch skin',\n",
    " 'Neck - scratch',\n",
    " 'Cheek - pinch skin',\n",
    " 'Non-Target']\n",
    "df_full_sensor_target = df_merged_train[df_full_sensor_label_names]\n",
    "df_full_sensor_target\n"
   ]
  },
  {
   "cell_type": "code",
   "execution_count": 4,
   "metadata": {},
   "outputs": [],
   "source": [
    "df_merged_train.drop([ 'Above ear - pull hair',\n",
    " 'Forehead - pull hairline',\n",
    " 'Forehead - scratch',\n",
    " 'Eyebrow - pull hair',\n",
    " 'Eyelash - pull hair',\n",
    " 'Neck - pinch skin',\n",
    " 'Neck - scratch',\n",
    " 'Cheek - pinch skin',\n",
    " 'Non-Target'], axis=1, inplace=True)"
   ]
  },
  {
   "cell_type": "code",
   "execution_count": 5,
   "metadata": {},
   "outputs": [],
   "source": [
    "import numpy as np\n",
    "import pandas as pd\n",
    "\n",
    "def prepare_whole_sequences(df_x, df_y, max_steps=700):\n",
    "    # Drop unnecessary columns early\n",
    "    df_x = df_x.drop(columns=[\"sequence_counter\"])  \n",
    "    \n",
    "    # Get number of features (exclude seq_id)\n",
    "    feature_cols = [c for c in df_x.columns if c != \"sequence_id\"]\n",
    "    n_features = len(feature_cols)\n",
    "    \n",
    "    # Find number of unique sequences\n",
    "    sequence_ids = df_x[\"sequence_id\"].unique()\n",
    "    n_sequences = len(sequence_ids)\n",
    "\n",
    "    # Preallocate final arrays\n",
    "    X = np.zeros((n_sequences, max_steps, n_features), dtype=np.float32)\n",
    "    Y = np.zeros((n_sequences, 9), dtype=np.float32)  # 9 classes, already multi-hot\n",
    "    \n",
    "    for i, seq_id in enumerate(sequence_ids):\n",
    "        if i % 100 == 0:\n",
    "            print(f\"Processing {i}/{n_sequences}\")\n",
    "\n",
    "        # Extract sensor data for this sequence\n",
    "        seq = df_x[df_x[\"sequence_id\"] == seq_id][feature_cols].values.astype(np.float32)\n",
    "        \n",
    "        # Truncate if longer than max_steps\n",
    "        seq = seq[:max_steps]\n",
    "        \n",
    "        # Fill into preallocated array\n",
    "        X[i, :len(seq), :] = seq\n",
    "        \n",
    "        # Extract label row (drop sequence_id col, keep only class columns)\n",
    "        label_row = df_y[df_y[\"sequence_id\"] == seq_id].drop(columns=[\"sequence_id\"]).iloc[0].values\n",
    "        Y[i] = label_row\n",
    "    \n",
    "    return X, Y\n"
   ]
  },
  {
   "cell_type": "code",
   "execution_count": 6,
   "metadata": {},
   "outputs": [
    {
     "name": "stdout",
     "output_type": "stream",
     "text": [
      "Processing 0/8151\n",
      "Processing 100/8151\n",
      "Processing 200/8151\n",
      "Processing 300/8151\n",
      "Processing 400/8151\n",
      "Processing 500/8151\n",
      "Processing 600/8151\n",
      "Processing 700/8151\n",
      "Processing 800/8151\n",
      "Processing 900/8151\n",
      "Processing 1000/8151\n",
      "Processing 1100/8151\n",
      "Processing 1200/8151\n",
      "Processing 1300/8151\n",
      "Processing 1400/8151\n",
      "Processing 1500/8151\n",
      "Processing 1600/8151\n",
      "Processing 1700/8151\n",
      "Processing 1800/8151\n",
      "Processing 1900/8151\n",
      "Processing 2000/8151\n",
      "Processing 2100/8151\n",
      "Processing 2200/8151\n",
      "Processing 2300/8151\n",
      "Processing 2400/8151\n",
      "Processing 2500/8151\n",
      "Processing 2600/8151\n",
      "Processing 2700/8151\n",
      "Processing 2800/8151\n",
      "Processing 2900/8151\n",
      "Processing 3000/8151\n",
      "Processing 3100/8151\n",
      "Processing 3200/8151\n",
      "Processing 3300/8151\n",
      "Processing 3400/8151\n",
      "Processing 3500/8151\n",
      "Processing 3600/8151\n",
      "Processing 3700/8151\n",
      "Processing 3800/8151\n",
      "Processing 3900/8151\n",
      "Processing 4000/8151\n",
      "Processing 4100/8151\n",
      "Processing 4200/8151\n",
      "Processing 4300/8151\n",
      "Processing 4400/8151\n",
      "Processing 4500/8151\n",
      "Processing 4600/8151\n",
      "Processing 4700/8151\n",
      "Processing 4800/8151\n",
      "Processing 4900/8151\n",
      "Processing 5000/8151\n",
      "Processing 5100/8151\n",
      "Processing 5200/8151\n",
      "Processing 5300/8151\n",
      "Processing 5400/8151\n",
      "Processing 5500/8151\n",
      "Processing 5600/8151\n",
      "Processing 5700/8151\n",
      "Processing 5800/8151\n",
      "Processing 5900/8151\n",
      "Processing 6000/8151\n",
      "Processing 6100/8151\n",
      "Processing 6200/8151\n",
      "Processing 6300/8151\n",
      "Processing 6400/8151\n",
      "Processing 6500/8151\n",
      "Processing 6600/8151\n",
      "Processing 6700/8151\n",
      "Processing 6800/8151\n",
      "Processing 6900/8151\n",
      "Processing 7000/8151\n",
      "Processing 7100/8151\n",
      "Processing 7200/8151\n",
      "Processing 7300/8151\n",
      "Processing 7400/8151\n",
      "Processing 7500/8151\n",
      "Processing 7600/8151\n",
      "Processing 7700/8151\n",
      "Processing 7800/8151\n",
      "Processing 7900/8151\n",
      "Processing 8000/8151\n",
      "Processing 8100/8151\n"
     ]
    },
    {
     "data": {
      "text/plain": [
       "((8151, 700, 339), (8151, 700, 339))"
      ]
     },
     "execution_count": 6,
     "metadata": {},
     "output_type": "execute_result"
    }
   ],
   "source": [
    "x_train_fullsensor,y_train_fullsensor = prepare_whole_sequences(df_merged_train,df_full_sensor_target)\n",
    "x_train_fullsensor.shape,x_train_fullsensor.shape"
   ]
  },
  {
   "cell_type": "code",
   "execution_count": 7,
   "metadata": {},
   "outputs": [
    {
     "data": {
      "text/plain": [
       "0"
      ]
     },
     "execution_count": 7,
     "metadata": {},
     "output_type": "execute_result"
    }
   ],
   "source": [
    "del df_merged_train\n",
    "del df_full_sensor_target\n",
    "import gc\n",
    "gc.collect() "
   ]
  },
  {
   "cell_type": "code",
   "execution_count": 8,
   "metadata": {},
   "outputs": [],
   "source": [
    "from sklearn.model_selection import train_test_split\n",
    "\n",
    "# stratified split train+temp vs test\n",
    "X_train, X_test, y_train, y_test = train_test_split(\n",
    "    x_train_fullsensor, y_train_fullsensor, test_size=0.1, stratify=y_train_fullsensor, random_state=42\n",
    ")"
   ]
  },
  {
   "cell_type": "code",
   "execution_count": 11,
   "metadata": {},
   "outputs": [
    {
     "data": {
      "text/plain": [
       "2169"
      ]
     },
     "execution_count": 11,
     "metadata": {},
     "output_type": "execute_result"
    }
   ],
   "source": [
    "del x_train_fullsensor\n",
    "del y_train_fullsensor\n",
    "import gc\n",
    "gc.collect() "
   ]
  },
  {
   "cell_type": "code",
   "execution_count": 12,
   "metadata": {},
   "outputs": [
    {
     "data": {
      "text/plain": [
       "((6601, 700, 339), (734, 700, 339), (6601, 9), (734, 9))"
      ]
     },
     "execution_count": 12,
     "metadata": {},
     "output_type": "execute_result"
    }
   ],
   "source": [
    "x_train_all_sensor, x_val_all_sensor, y_train_all_sesnor, y_val_all_sensor = train_test_split(\n",
    "    X_train, y_train, test_size=0.1, stratify=y_train, random_state=42\n",
    ")\n",
    "x_train_all_sensor.shape, x_val_all_sensor.shape, y_train_all_sesnor.shape, y_val_all_sensor.shape"
   ]
  },
  {
   "cell_type": "code",
   "execution_count": 13,
   "metadata": {},
   "outputs": [
    {
     "data": {
      "text/plain": [
       "0"
      ]
     },
     "execution_count": 13,
     "metadata": {},
     "output_type": "execute_result"
    }
   ],
   "source": [
    "del X_train\n",
    "del y_train\n",
    "import gc\n",
    "gc.collect() "
   ]
  },
  {
   "cell_type": "code",
   "execution_count": 14,
   "metadata": {},
   "outputs": [],
   "source": [
    "np.savez(\"train_val_test_pre_std.npz\", x_train_all_sensor=x_train_all_sensor,y_train_all_sesnor=y_train_all_sesnor, x_val_all_sensor=x_val_all_sensor,y_val_all_sensor=y_val_all_sensor,x_test_all_sensors=X_test,y_test_all_sensors=y_test)"
   ]
  },
  {
   "cell_type": "code",
   "execution_count": 15,
   "metadata": {},
   "outputs": [],
   "source": [
    "from sklearn.preprocessing import StandardScaler\n",
    "scaler = StandardScaler()\n",
    "\n",
    "# Flatten (samples*timesteps, features)\n",
    "X_train_flat = x_train_all_sensor.reshape(-1, x_train_all_sensor.shape[-1])\n",
    "X_train_scaled = scaler.fit_transform(X_train_flat).reshape(x_train_all_sensor.shape)\n"
   ]
  },
  {
   "cell_type": "code",
   "execution_count": 16,
   "metadata": {},
   "outputs": [
    {
     "data": {
      "text/plain": [
       "0"
      ]
     },
     "execution_count": 16,
     "metadata": {},
     "output_type": "execute_result"
    }
   ],
   "source": [
    "del x_train_all_sensor\n",
    "del X_train_flat\n",
    "import gc\n",
    "gc.collect() "
   ]
  },
  {
   "cell_type": "code",
   "execution_count": 17,
   "metadata": {},
   "outputs": [],
   "source": [
    "X_val_flat   = x_val_all_sensor.reshape(-1, x_val_all_sensor.shape[-1])\n",
    "X_val_scaled   = scaler.transform(X_val_flat).reshape(x_val_all_sensor.shape)\n",
    "\n",
    "X_test_flat  = X_test.reshape(-1, X_test.shape[-1])\n",
    "X_test_scaled  = scaler.transform(X_test_flat).reshape(X_test.shape)"
   ]
  },
  {
   "cell_type": "code",
   "execution_count": 18,
   "metadata": {},
   "outputs": [
    {
     "data": {
      "text/plain": [
       "0"
      ]
     },
     "execution_count": 18,
     "metadata": {},
     "output_type": "execute_result"
    }
   ],
   "source": [
    "del x_val_all_sensor\n",
    "del X_val_flat\n",
    "del X_test\n",
    "del X_test_flat\n",
    "import gc\n",
    "gc.collect() "
   ]
  },
  {
   "cell_type": "code",
   "execution_count": 19,
   "metadata": {},
   "outputs": [
    {
     "data": {
      "text/plain": [
       "((6601, 700, 339),\n",
       " (6601, 9),\n",
       " (734, 700, 339),\n",
       " (734, 9),\n",
       " (816, 700, 339),\n",
       " (816, 9))"
      ]
     },
     "execution_count": 19,
     "metadata": {},
     "output_type": "execute_result"
    }
   ],
   "source": [
    "X_train_scaled.shape,y_train_all_sesnor.shape,X_val_scaled.shape,y_val_all_sensor.shape,X_test_scaled.shape,y_test.shape"
   ]
  },
  {
   "cell_type": "code",
   "execution_count": 21,
   "metadata": {},
   "outputs": [],
   "source": [
    "np.savez(\"train_val_test_std.npz\", X_train_scaled=X_train_scaled,y_train_all_sesnor=y_train_all_sesnor, X_val_scaled=X_val_scaled,y_val_all_sensor=y_val_all_sensor,X_test_scaled=X_test_scaled,y_test_all_sensors=y_test)"
   ]
  },
  {
   "cell_type": "code",
   "execution_count": 1,
   "metadata": {},
   "outputs": [],
   "source": [
    "import numpy as np\n",
    "import numpy as np\n",
    "\n",
    "# Load the file\n",
    "data = np.load(\"train_val_test_std.npz\")\n",
    "\n",
    "# Access arrays by the keys you saved\n",
    "X_train_scaled     = data[\"X_train_scaled\"]\n",
    "y_train_all_sensor = data[\"y_train_all_sesnor\"]   # watch spelling here\n",
    "X_val_scaled       = data[\"X_val_scaled\"]\n",
    "y_val_all_sensor   = data[\"y_val_all_sensor\"]\n",
    "X_test_scaled      = data[\"X_test_scaled\"]\n",
    "\n",
    "\n"
   ]
  },
  {
   "cell_type": "code",
   "execution_count": 2,
   "metadata": {},
   "outputs": [],
   "source": [
    "y_test_all_sensors = data[\"y_test_all_sensors\"]"
   ]
  },
  {
   "cell_type": "code",
   "execution_count": 3,
   "metadata": {},
   "outputs": [
    {
     "name": "stderr",
     "output_type": "stream",
     "text": [
      "2025-08-26 15:49:04.886483: I tensorflow/core/util/port.cc:153] oneDNN custom operations are on. You may see slightly different numerical results due to floating-point round-off errors from different computation orders. To turn them off, set the environment variable `TF_ENABLE_ONEDNN_OPTS=0`.\n",
      "2025-08-26 15:49:04.986862: E external/local_xla/xla/stream_executor/cuda/cuda_fft.cc:467] Unable to register cuFFT factory: Attempting to register factory for plugin cuFFT when one has already been registered\n",
      "WARNING: All log messages before absl::InitializeLog() is called are written to STDERR\n",
      "E0000 00:00:1756203545.048787   75797 cuda_dnn.cc:8579] Unable to register cuDNN factory: Attempting to register factory for plugin cuDNN when one has already been registered\n",
      "E0000 00:00:1756203545.066297   75797 cuda_blas.cc:1407] Unable to register cuBLAS factory: Attempting to register factory for plugin cuBLAS when one has already been registered\n",
      "W0000 00:00:1756203545.158335   75797 computation_placer.cc:177] computation placer already registered. Please check linkage and avoid linking the same target more than once.\n",
      "W0000 00:00:1756203545.158369   75797 computation_placer.cc:177] computation placer already registered. Please check linkage and avoid linking the same target more than once.\n",
      "W0000 00:00:1756203545.158373   75797 computation_placer.cc:177] computation placer already registered. Please check linkage and avoid linking the same target more than once.\n",
      "W0000 00:00:1756203545.158376   75797 computation_placer.cc:177] computation placer already registered. Please check linkage and avoid linking the same target more than once.\n",
      "2025-08-26 15:49:05.179956: I tensorflow/core/platform/cpu_feature_guard.cc:210] This TensorFlow binary is optimized to use available CPU instructions in performance-critical operations.\n",
      "To enable the following instructions: AVX2 AVX_VNNI FMA, in other operations, rebuild TensorFlow with the appropriate compiler flags.\n",
      "I0000 00:00:1756203550.220340   75797 gpu_device.cc:2019] Created device /job:localhost/replica:0/task:0/device:GPU:0 with 6155 MB memory:  -> device: 0, name: NVIDIA GeForce RTX 4060 Laptop GPU, pci bus id: 0000:01:00.0, compute capability: 8.9\n"
     ]
    },
    {
     "data": {
      "text/html": [
       "<pre style=\"white-space:pre;overflow-x:auto;line-height:normal;font-family:Menlo,'DejaVu Sans Mono',consolas,'Courier New',monospace\"><span style=\"font-weight: bold\">Model: \"sequential\"</span>\n",
       "</pre>\n"
      ],
      "text/plain": [
       "\u001b[1mModel: \"sequential\"\u001b[0m\n"
      ]
     },
     "metadata": {},
     "output_type": "display_data"
    },
    {
     "data": {
      "text/html": [
       "<pre style=\"white-space:pre;overflow-x:auto;line-height:normal;font-family:Menlo,'DejaVu Sans Mono',consolas,'Courier New',monospace\">┏━━━━━━━━━━━━━━━━━━━━━━━━━━━━━━━━━┳━━━━━━━━━━━━━━━━━━━━━━━━┳━━━━━━━━━━━━━━━┓\n",
       "┃<span style=\"font-weight: bold\"> Layer (type)                    </span>┃<span style=\"font-weight: bold\"> Output Shape           </span>┃<span style=\"font-weight: bold\">       Param # </span>┃\n",
       "┡━━━━━━━━━━━━━━━━━━━━━━━━━━━━━━━━━╇━━━━━━━━━━━━━━━━━━━━━━━━╇━━━━━━━━━━━━━━━┩\n",
       "│ conv1d (<span style=\"color: #0087ff; text-decoration-color: #0087ff\">Conv1D</span>)                 │ (<span style=\"color: #00d7ff; text-decoration-color: #00d7ff\">None</span>, <span style=\"color: #00af00; text-decoration-color: #00af00\">696</span>, <span style=\"color: #00af00; text-decoration-color: #00af00\">96</span>)        │       <span style=\"color: #00af00; text-decoration-color: #00af00\">162,816</span> │\n",
       "├─────────────────────────────────┼────────────────────────┼───────────────┤\n",
       "│ max_pooling1d (<span style=\"color: #0087ff; text-decoration-color: #0087ff\">MaxPooling1D</span>)    │ (<span style=\"color: #00d7ff; text-decoration-color: #00d7ff\">None</span>, <span style=\"color: #00af00; text-decoration-color: #00af00\">348</span>, <span style=\"color: #00af00; text-decoration-color: #00af00\">96</span>)        │             <span style=\"color: #00af00; text-decoration-color: #00af00\">0</span> │\n",
       "├─────────────────────────────────┼────────────────────────┼───────────────┤\n",
       "│ conv1d_1 (<span style=\"color: #0087ff; text-decoration-color: #0087ff\">Conv1D</span>)               │ (<span style=\"color: #00d7ff; text-decoration-color: #00d7ff\">None</span>, <span style=\"color: #00af00; text-decoration-color: #00af00\">344</span>, <span style=\"color: #00af00; text-decoration-color: #00af00\">256</span>)       │       <span style=\"color: #00af00; text-decoration-color: #00af00\">123,136</span> │\n",
       "├─────────────────────────────────┼────────────────────────┼───────────────┤\n",
       "│ max_pooling1d_1 (<span style=\"color: #0087ff; text-decoration-color: #0087ff\">MaxPooling1D</span>)  │ (<span style=\"color: #00d7ff; text-decoration-color: #00d7ff\">None</span>, <span style=\"color: #00af00; text-decoration-color: #00af00\">172</span>, <span style=\"color: #00af00; text-decoration-color: #00af00\">256</span>)       │             <span style=\"color: #00af00; text-decoration-color: #00af00\">0</span> │\n",
       "├─────────────────────────────────┼────────────────────────┼───────────────┤\n",
       "│ conv1d_2 (<span style=\"color: #0087ff; text-decoration-color: #0087ff\">Conv1D</span>)               │ (<span style=\"color: #00d7ff; text-decoration-color: #00d7ff\">None</span>, <span style=\"color: #00af00; text-decoration-color: #00af00\">168</span>, <span style=\"color: #00af00; text-decoration-color: #00af00\">256</span>)       │       <span style=\"color: #00af00; text-decoration-color: #00af00\">327,936</span> │\n",
       "├─────────────────────────────────┼────────────────────────┼───────────────┤\n",
       "│ max_pooling1d_2 (<span style=\"color: #0087ff; text-decoration-color: #0087ff\">MaxPooling1D</span>)  │ (<span style=\"color: #00d7ff; text-decoration-color: #00d7ff\">None</span>, <span style=\"color: #00af00; text-decoration-color: #00af00\">84</span>, <span style=\"color: #00af00; text-decoration-color: #00af00\">256</span>)        │             <span style=\"color: #00af00; text-decoration-color: #00af00\">0</span> │\n",
       "├─────────────────────────────────┼────────────────────────┼───────────────┤\n",
       "│ gru (<span style=\"color: #0087ff; text-decoration-color: #0087ff\">GRU</span>)                       │ (<span style=\"color: #00d7ff; text-decoration-color: #00d7ff\">None</span>, <span style=\"color: #00af00; text-decoration-color: #00af00\">32</span>)             │        <span style=\"color: #00af00; text-decoration-color: #00af00\">27,840</span> │\n",
       "├─────────────────────────────────┼────────────────────────┼───────────────┤\n",
       "│ dropout (<span style=\"color: #0087ff; text-decoration-color: #0087ff\">Dropout</span>)               │ (<span style=\"color: #00d7ff; text-decoration-color: #00d7ff\">None</span>, <span style=\"color: #00af00; text-decoration-color: #00af00\">32</span>)             │             <span style=\"color: #00af00; text-decoration-color: #00af00\">0</span> │\n",
       "├─────────────────────────────────┼────────────────────────┼───────────────┤\n",
       "│ dense (<span style=\"color: #0087ff; text-decoration-color: #0087ff\">Dense</span>)                   │ (<span style=\"color: #00d7ff; text-decoration-color: #00d7ff\">None</span>, <span style=\"color: #00af00; text-decoration-color: #00af00\">128</span>)            │         <span style=\"color: #00af00; text-decoration-color: #00af00\">4,224</span> │\n",
       "├─────────────────────────────────┼────────────────────────┼───────────────┤\n",
       "│ dense_1 (<span style=\"color: #0087ff; text-decoration-color: #0087ff\">Dense</span>)                 │ (<span style=\"color: #00d7ff; text-decoration-color: #00d7ff\">None</span>, <span style=\"color: #00af00; text-decoration-color: #00af00\">32</span>)             │         <span style=\"color: #00af00; text-decoration-color: #00af00\">4,128</span> │\n",
       "├─────────────────────────────────┼────────────────────────┼───────────────┤\n",
       "│ dense_2 (<span style=\"color: #0087ff; text-decoration-color: #0087ff\">Dense</span>)                 │ (<span style=\"color: #00d7ff; text-decoration-color: #00d7ff\">None</span>, <span style=\"color: #00af00; text-decoration-color: #00af00\">9</span>)              │           <span style=\"color: #00af00; text-decoration-color: #00af00\">297</span> │\n",
       "└─────────────────────────────────┴────────────────────────┴───────────────┘\n",
       "</pre>\n"
      ],
      "text/plain": [
       "┏━━━━━━━━━━━━━━━━━━━━━━━━━━━━━━━━━┳━━━━━━━━━━━━━━━━━━━━━━━━┳━━━━━━━━━━━━━━━┓\n",
       "┃\u001b[1m \u001b[0m\u001b[1mLayer (type)                   \u001b[0m\u001b[1m \u001b[0m┃\u001b[1m \u001b[0m\u001b[1mOutput Shape          \u001b[0m\u001b[1m \u001b[0m┃\u001b[1m \u001b[0m\u001b[1m      Param #\u001b[0m\u001b[1m \u001b[0m┃\n",
       "┡━━━━━━━━━━━━━━━━━━━━━━━━━━━━━━━━━╇━━━━━━━━━━━━━━━━━━━━━━━━╇━━━━━━━━━━━━━━━┩\n",
       "│ conv1d (\u001b[38;5;33mConv1D\u001b[0m)                 │ (\u001b[38;5;45mNone\u001b[0m, \u001b[38;5;34m696\u001b[0m, \u001b[38;5;34m96\u001b[0m)        │       \u001b[38;5;34m162,816\u001b[0m │\n",
       "├─────────────────────────────────┼────────────────────────┼───────────────┤\n",
       "│ max_pooling1d (\u001b[38;5;33mMaxPooling1D\u001b[0m)    │ (\u001b[38;5;45mNone\u001b[0m, \u001b[38;5;34m348\u001b[0m, \u001b[38;5;34m96\u001b[0m)        │             \u001b[38;5;34m0\u001b[0m │\n",
       "├─────────────────────────────────┼────────────────────────┼───────────────┤\n",
       "│ conv1d_1 (\u001b[38;5;33mConv1D\u001b[0m)               │ (\u001b[38;5;45mNone\u001b[0m, \u001b[38;5;34m344\u001b[0m, \u001b[38;5;34m256\u001b[0m)       │       \u001b[38;5;34m123,136\u001b[0m │\n",
       "├─────────────────────────────────┼────────────────────────┼───────────────┤\n",
       "│ max_pooling1d_1 (\u001b[38;5;33mMaxPooling1D\u001b[0m)  │ (\u001b[38;5;45mNone\u001b[0m, \u001b[38;5;34m172\u001b[0m, \u001b[38;5;34m256\u001b[0m)       │             \u001b[38;5;34m0\u001b[0m │\n",
       "├─────────────────────────────────┼────────────────────────┼───────────────┤\n",
       "│ conv1d_2 (\u001b[38;5;33mConv1D\u001b[0m)               │ (\u001b[38;5;45mNone\u001b[0m, \u001b[38;5;34m168\u001b[0m, \u001b[38;5;34m256\u001b[0m)       │       \u001b[38;5;34m327,936\u001b[0m │\n",
       "├─────────────────────────────────┼────────────────────────┼───────────────┤\n",
       "│ max_pooling1d_2 (\u001b[38;5;33mMaxPooling1D\u001b[0m)  │ (\u001b[38;5;45mNone\u001b[0m, \u001b[38;5;34m84\u001b[0m, \u001b[38;5;34m256\u001b[0m)        │             \u001b[38;5;34m0\u001b[0m │\n",
       "├─────────────────────────────────┼────────────────────────┼───────────────┤\n",
       "│ gru (\u001b[38;5;33mGRU\u001b[0m)                       │ (\u001b[38;5;45mNone\u001b[0m, \u001b[38;5;34m32\u001b[0m)             │        \u001b[38;5;34m27,840\u001b[0m │\n",
       "├─────────────────────────────────┼────────────────────────┼───────────────┤\n",
       "│ dropout (\u001b[38;5;33mDropout\u001b[0m)               │ (\u001b[38;5;45mNone\u001b[0m, \u001b[38;5;34m32\u001b[0m)             │             \u001b[38;5;34m0\u001b[0m │\n",
       "├─────────────────────────────────┼────────────────────────┼───────────────┤\n",
       "│ dense (\u001b[38;5;33mDense\u001b[0m)                   │ (\u001b[38;5;45mNone\u001b[0m, \u001b[38;5;34m128\u001b[0m)            │         \u001b[38;5;34m4,224\u001b[0m │\n",
       "├─────────────────────────────────┼────────────────────────┼───────────────┤\n",
       "│ dense_1 (\u001b[38;5;33mDense\u001b[0m)                 │ (\u001b[38;5;45mNone\u001b[0m, \u001b[38;5;34m32\u001b[0m)             │         \u001b[38;5;34m4,128\u001b[0m │\n",
       "├─────────────────────────────────┼────────────────────────┼───────────────┤\n",
       "│ dense_2 (\u001b[38;5;33mDense\u001b[0m)                 │ (\u001b[38;5;45mNone\u001b[0m, \u001b[38;5;34m9\u001b[0m)              │           \u001b[38;5;34m297\u001b[0m │\n",
       "└─────────────────────────────────┴────────────────────────┴───────────────┘\n"
      ]
     },
     "metadata": {},
     "output_type": "display_data"
    },
    {
     "data": {
      "text/html": [
       "<pre style=\"white-space:pre;overflow-x:auto;line-height:normal;font-family:Menlo,'DejaVu Sans Mono',consolas,'Courier New',monospace\"><span style=\"font-weight: bold\"> Total params: </span><span style=\"color: #00af00; text-decoration-color: #00af00\">650,377</span> (2.48 MB)\n",
       "</pre>\n"
      ],
      "text/plain": [
       "\u001b[1m Total params: \u001b[0m\u001b[38;5;34m650,377\u001b[0m (2.48 MB)\n"
      ]
     },
     "metadata": {},
     "output_type": "display_data"
    },
    {
     "data": {
      "text/html": [
       "<pre style=\"white-space:pre;overflow-x:auto;line-height:normal;font-family:Menlo,'DejaVu Sans Mono',consolas,'Courier New',monospace\"><span style=\"font-weight: bold\"> Trainable params: </span><span style=\"color: #00af00; text-decoration-color: #00af00\">650,377</span> (2.48 MB)\n",
       "</pre>\n"
      ],
      "text/plain": [
       "\u001b[1m Trainable params: \u001b[0m\u001b[38;5;34m650,377\u001b[0m (2.48 MB)\n"
      ]
     },
     "metadata": {},
     "output_type": "display_data"
    },
    {
     "data": {
      "text/html": [
       "<pre style=\"white-space:pre;overflow-x:auto;line-height:normal;font-family:Menlo,'DejaVu Sans Mono',consolas,'Courier New',monospace\"><span style=\"font-weight: bold\"> Non-trainable params: </span><span style=\"color: #00af00; text-decoration-color: #00af00\">0</span> (0.00 B)\n",
       "</pre>\n"
      ],
      "text/plain": [
       "\u001b[1m Non-trainable params: \u001b[0m\u001b[38;5;34m0\u001b[0m (0.00 B)\n"
      ]
     },
     "metadata": {},
     "output_type": "display_data"
    }
   ],
   "source": [
    "import tensorflow as tf\n",
    "from tensorflow.keras.models import Sequential\n",
    "from tensorflow.keras.layers import Conv1D, Dense, Dropout, GRU, MaxPooling1D, Input\n",
    "from tensorflow.keras import backend as K\n",
    "from tensorflow.keras import mixed_precision\n",
    "mixed_precision.set_global_policy('mixed_float16')\n",
    "\n",
    "\n",
    "num_classes = 9  # your 9 gesture classes\n",
    "\n",
    "# Custom macro F1 score metric for multiclass\n",
    "def f1_score(y_true, y_pred):\n",
    "    y_pred = K.one_hot(K.argmax(y_pred, axis=-1), num_classes)  # convert to one-hot\n",
    "    y_true = K.cast(y_true, \"float32\")\n",
    "\n",
    "    tp = K.sum(K.cast(y_true * y_pred, 'float32'), axis=0)\n",
    "    fp = K.sum(K.cast((1 - y_true) * y_pred, 'float32'), axis=0)\n",
    "    fn = K.sum(K.cast(y_true * (1 - y_pred), 'float32'), axis=0)\n",
    "\n",
    "    precision = tp / (tp + fp + K.epsilon())\n",
    "    recall = tp / (tp + fn + K.epsilon())\n",
    "    f1 = 2 * precision * recall / (precision + recall + K.epsilon())\n",
    "\n",
    "    return K.mean(f1)  # macro F1\n",
    "\n",
    "# Define model\n",
    "model = Sequential([\n",
    "    Input(shape=(700, 339)),\n",
    "    Conv1D(filters=96, kernel_size=5, activation='relu'),\n",
    "    MaxPooling1D(pool_size=2),\n",
    "    Conv1D(filters=256, kernel_size=5, activation='relu'),\n",
    "    MaxPooling1D(pool_size=2),\n",
    "    Conv1D(filters=256, kernel_size=5, activation='relu'),\n",
    "    MaxPooling1D(pool_size=2),\n",
    "    GRU(32, return_sequences=False),\n",
    "    Dropout(0.5),\n",
    "    Dense(128, activation='relu'),\n",
    "    Dense(32, activation='relu'),\n",
    "    Dense(num_classes, activation='softmax',dtype='float32')  # multiclass classification\n",
    "])\n",
    "\n",
    "# Compile model\n",
    "model.compile(\n",
    "    optimizer='adam',\n",
    "    loss='categorical_crossentropy',  # one-hot labels\n",
    "    metrics=[\n",
    "        'accuracy',\n",
    "        tf.keras.metrics.Precision(name='precision'),\n",
    "        tf.keras.metrics.Recall(name='recall'),\n",
    "        f1_score\n",
    "    ]\n",
    ")\n",
    "\n",
    "model.summary()\n"
   ]
  },
  {
   "cell_type": "code",
   "execution_count": 4,
   "metadata": {},
   "outputs": [],
   "source": [
    "tf.keras.backend.clear_session()"
   ]
  },
  {
   "cell_type": "code",
   "execution_count": 5,
   "metadata": {},
   "outputs": [
    {
     "name": "stdout",
     "output_type": "stream",
     "text": [
      "go ahead with training \n"
     ]
    }
   ],
   "source": [
    "print(\"go ahead with training \")"
   ]
  },
  {
   "cell_type": "code",
   "execution_count": null,
   "metadata": {},
   "outputs": [
    {
     "name": "stdout",
     "output_type": "stream",
     "text": [
      "Epoch 1/100\n"
     ]
    },
    {
     "name": "stderr",
     "output_type": "stream",
     "text": [
      "2025-08-26 15:52:03.322517: E tensorflow/core/util/util.cc:131] oneDNN supports DT_HALF only on platforms with AVX-512. Falling back to the default Eigen-based implementation if present.\n",
      "I0000 00:00:1756203723.590532   76040 cuda_dnn.cc:529] Loaded cuDNN version 90300\n"
     ]
    },
    {
     "name": "stdout",
     "output_type": "stream",
     "text": [
      "\u001b[1m661/661\u001b[0m \u001b[32m━━━━━━━━━━━━━━━━━━━━\u001b[0m\u001b[37m\u001b[0m \u001b[1m0s\u001b[0m 11ms/step - accuracy: 0.3614 - f1_score: 0.0578 - loss: 2.0146 - precision: 0.2721 - recall: 0.0111"
     ]
    }
   ],
   "source": [
    "history = model.fit(\n",
    "    X_train_scaled, \n",
    "    y_train_all_sensor,\n",
    "    epochs=100,\n",
    "    batch_size=10,\n",
    "    validation_data=(X_val_scaled, y_val_all_sensor),  # use your validation set\n",
    "    verbose=1\n",
    ")\n",
    "history"
   ]
  }
 ],
 "metadata": {
  "kernelspec": {
   "display_name": "ml_projects_venv",
   "language": "python",
   "name": "python3"
  },
  "language_info": {
   "codemirror_mode": {
    "name": "ipython",
    "version": 3
   },
   "file_extension": ".py",
   "mimetype": "text/x-python",
   "name": "python",
   "nbconvert_exporter": "python",
   "pygments_lexer": "ipython3",
   "version": "3.12.3"
  }
 },
 "nbformat": 4,
 "nbformat_minor": 2
}
