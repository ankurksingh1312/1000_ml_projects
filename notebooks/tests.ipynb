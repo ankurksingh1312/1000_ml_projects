{
 "cells": [
  {
   "cell_type": "code",
   "execution_count": 1,
   "id": "2df495d4-2600-41b0-9af5-308211c35359",
   "metadata": {},
   "outputs": [],
   "source": [
    "b = [1, 2, 3]\n"
   ]
  },
  {
   "cell_type": "code",
   "execution_count": 3,
   "id": "22eb2860-e136-4feb-9fc3-143d2a759534",
   "metadata": {},
   "outputs": [
    {
     "data": {
      "text/plain": [
       "3"
      ]
     },
     "execution_count": 3,
     "metadata": {},
     "output_type": "execute_result"
    }
   ],
   "source": [
    "b.pop()\n"
   ]
  },
  {
   "cell_type": "code",
   "execution_count": null,
   "id": "981598fb-2496-4ec5-b505-8fe1c6d27f36",
   "metadata": {},
   "outputs": [],
   "source": []
  },
  {
   "cell_type": "code",
   "execution_count": null,
   "id": "a99501d8-fa98-46f0-8505-c8282ad95cc2",
   "metadata": {},
   "outputs": [],
   "source": []
  },
  {
   "cell_type": "code",
   "execution_count": 4,
   "id": "051908bb-dddc-47aa-9683-4bf6815350ea",
   "metadata": {},
   "outputs": [
    {
     "data": {
      "text/plain": [
       "[1, 2]"
      ]
     },
     "execution_count": 4,
     "metadata": {},
     "output_type": "execute_result"
    }
   ],
   "source": [
    "b"
   ]
  },
  {
   "cell_type": "code",
   "execution_count": 5,
   "id": "c6ee47b1-cbd6-4aba-b8d5-29d0b6c85169",
   "metadata": {},
   "outputs": [],
   "source": [
    "def add_numbers(a, b):\n",
    "    \"\"\"\n",
    "    Add two numbers together\n",
    "\n",
    "    Returns\n",
    "    -------\n",
    "    the_sum : type of arguments\n",
    "    \"\"\"\n",
    "    return a + b\n",
    "    "
   ]
  },
  {
   "cell_type": "code",
   "execution_count": 6,
   "id": "99f9c033-b605-40bd-8beb-d232df996d7a",
   "metadata": {},
   "outputs": [
    {
     "data": {
      "text/plain": [
       "\u001b[31mSignature:\u001b[39m add_numbers(a, b)\n",
       "\u001b[31mDocstring:\u001b[39m\n",
       "Add two numbers together\n",
       "\n",
       "Returns\n",
       "-------\n",
       "the_sum : type of arguments\n",
       "\u001b[31mFile:\u001b[39m      /tmp/ipykernel_15645/153281870.py\n",
       "\u001b[31mType:\u001b[39m      function"
      ]
     },
     "metadata": {},
     "output_type": "display_data"
    }
   ],
   "source": [
    "add_numbers?"
   ]
  },
  {
   "cell_type": "code",
   "execution_count": 8,
   "id": "64d60b9d-20b6-49af-9f10-c7b85be2c64d",
   "metadata": {},
   "outputs": [],
   "source": [
    "a = [1, 2, 3]\n",
    "\n",
    "b = a\n",
    "\n",
    "c = list(a)"
   ]
  },
  {
   "cell_type": "code",
   "execution_count": 9,
   "id": "55749232-fda5-4b5d-a5e2-222f1a6ad872",
   "metadata": {},
   "outputs": [
    {
     "data": {
      "text/plain": [
       "[1, 2, 3]"
      ]
     },
     "execution_count": 9,
     "metadata": {},
     "output_type": "execute_result"
    }
   ],
   "source": [
    "a"
   ]
  },
  {
   "cell_type": "code",
   "execution_count": 10,
   "id": "247ee0ca-3f15-4761-8659-8f049f2b73e4",
   "metadata": {},
   "outputs": [
    {
     "data": {
      "text/plain": [
       "[1, 2, 3]"
      ]
     },
     "execution_count": 10,
     "metadata": {},
     "output_type": "execute_result"
    }
   ],
   "source": [
    "c"
   ]
  },
  {
   "cell_type": "code",
   "execution_count": 13,
   "id": "ed9e4f0c-43ff-4a45-ade2-3d32f98d2770",
   "metadata": {},
   "outputs": [
    {
     "name": "stdout",
     "output_type": "stream",
     "text": [
      "12\u0003\n"
     ]
    }
   ],
   "source": [
    " s = \"12\\3\"\n",
    "\n",
    " print(s)"
   ]
  },
  {
   "cell_type": "code",
   "execution_count": 20,
   "id": "87cd903a-2045-4019-a68d-3f3bd2da68cf",
   "metadata": {},
   "outputs": [],
   "source": [
    "from  datetime import datetime,date,time\n",
    "dt2 = datetime(2011, 11, 15, 22, 30)\n",
    "dt = datetime(2011, 12, 15, 22, 30)\n",
    "delta = dt2 - dt"
   ]
  },
  {
   "cell_type": "code",
   "execution_count": 21,
   "id": "0e0e2175-226a-42d0-85d8-b4eba987db26",
   "metadata": {},
   "outputs": [
    {
     "data": {
      "text/plain": [
       "datetime.timedelta(days=-30)"
      ]
     },
     "execution_count": 21,
     "metadata": {},
     "output_type": "execute_result"
    }
   ],
   "source": [
    "delta"
   ]
  },
  {
   "cell_type": "code",
   "execution_count": 22,
   "id": "fbba9d16-9472-49f5-bc04-238e8f988508",
   "metadata": {},
   "outputs": [
    {
     "data": {
      "text/plain": [
       "('foo', 'bar', 'foo', 'bar', 'foo', 'bar', 'foo', 'bar')"
      ]
     },
     "execution_count": 22,
     "metadata": {},
     "output_type": "execute_result"
    }
   ],
   "source": [
    "('foo', 'bar') * 4"
   ]
  },
  {
   "cell_type": "code",
   "execution_count": 24,
   "id": "d13a66de-00cf-4088-bbd1-518a48e25c19",
   "metadata": {},
   "outputs": [
    {
     "data": {
      "text/plain": [
       "[1, 2, 1, 2, 1, 2, 1, 2]"
      ]
     },
     "execution_count": 24,
     "metadata": {},
     "output_type": "execute_result"
    }
   ],
   "source": [
    "[1, 2] * 4"
   ]
  },
  {
   "cell_type": "code",
   "execution_count": 44,
   "id": "7d6ace61-46a9-42a9-8cd4-c121b59d9528",
   "metadata": {},
   "outputs": [],
   "source": [
    "d =  {'a': 'some value',\n",
    " 'b': [1, 2, 3, 4],\n",
    " 7: 'an integer',\n",
    " 5: 'some value'}"
   ]
  },
  {
   "cell_type": "code",
   "execution_count": 49,
   "id": "cebce1d5-3f46-487b-95f7-4aef2461766f",
   "metadata": {},
   "outputs": [
    {
     "data": {
      "text/plain": [
       "{'a': 'some value', 'b': [1, 2, 3, 4], 7: 'an integer', 5: 'some value'}"
      ]
     },
     "execution_count": 49,
     "metadata": {},
     "output_type": "execute_result"
    }
   ],
   "source": [
    "p = { key:d[key] for key in d }\n",
    "p"
   ]
  },
  {
   "cell_type": "code",
   "execution_count": 27,
   "id": "e6ba0e38-a1dd-4ea5-a4c9-1980755b4509",
   "metadata": {},
   "outputs": [
    {
     "data": {
      "text/plain": [
       "dict_keys(['a', 'b', 7, 5])"
      ]
     },
     "execution_count": 27,
     "metadata": {},
     "output_type": "execute_result"
    }
   ],
   "source": [
    "d.keys()"
   ]
  },
  {
   "cell_type": "code",
   "execution_count": 37,
   "id": "a18a8df9-ffa3-431f-9688-3aaaa5867ed6",
   "metadata": {},
   "outputs": [
    {
     "name": "stdout",
     "output_type": "stream",
     "text": [
      "Requirement already satisfied: numpy in /home/ankur/Desktop/NLP/nlp_venv/lib/python3.12/site-packages (2.3.2)\n"
     ]
    }
   ],
   "source": [
    "!pip3 install numpy\n",
    "import numpy as np\n",
    "x = np.arange(0, 20, 1)\n",
    "y = 1 + x*2\n",
    "X = x.reshape(-1, 1)"
   ]
  },
  {
   "cell_type": "code",
   "execution_count": 38,
   "id": "50bd4c3b-0f8d-460e-81c5-ce897d237672",
   "metadata": {},
   "outputs": [
    {
     "data": {
      "text/plain": [
       "array([ 0,  1,  2,  3,  4,  5,  6,  7,  8,  9, 10, 11, 12, 13, 14, 15, 16,\n",
       "       17, 18, 19])"
      ]
     },
     "execution_count": 38,
     "metadata": {},
     "output_type": "execute_result"
    }
   ],
   "source": [
    "x"
   ]
  },
  {
   "cell_type": "code",
   "execution_count": 39,
   "id": "a016c221-7c80-4183-9d25-37ef6919a1b3",
   "metadata": {},
   "outputs": [
    {
     "data": {
      "text/plain": [
       "array([ 1,  3,  5,  7,  9, 11, 13, 15, 17, 19, 21, 23, 25, 27, 29, 31, 33,\n",
       "       35, 37, 39])"
      ]
     },
     "execution_count": 39,
     "metadata": {},
     "output_type": "execute_result"
    }
   ],
   "source": [
    "y"
   ]
  },
  {
   "cell_type": "code",
   "execution_count": 40,
   "id": "cfc155d9-b2d7-45b2-865c-0f7c24c945f1",
   "metadata": {},
   "outputs": [
    {
     "data": {
      "text/plain": [
       "array([[ 0],\n",
       "       [ 1],\n",
       "       [ 2],\n",
       "       [ 3],\n",
       "       [ 4],\n",
       "       [ 5],\n",
       "       [ 6],\n",
       "       [ 7],\n",
       "       [ 8],\n",
       "       [ 9],\n",
       "       [10],\n",
       "       [11],\n",
       "       [12],\n",
       "       [13],\n",
       "       [14],\n",
       "       [15],\n",
       "       [16],\n",
       "       [17],\n",
       "       [18],\n",
       "       [19]])"
      ]
     },
     "execution_count": 40,
     "metadata": {},
     "output_type": "execute_result"
    }
   ],
   "source": [
    "X"
   ]
  },
  {
   "cell_type": "code",
   "execution_count": 41,
   "id": "11f8bf5c-eda4-4052-8329-6e8c689c0ba9",
   "metadata": {},
   "outputs": [],
   "source": [
    "x = np.arange(0,20,1)\n",
    "X = np.c_[x, x**2, x**3]"
   ]
  },
  {
   "cell_type": "code",
   "execution_count": 42,
   "id": "670ee92b-ae46-44a6-9315-89768d7ae098",
   "metadata": {},
   "outputs": [
    {
     "data": {
      "text/plain": [
       "array([ 0,  1,  2,  3,  4,  5,  6,  7,  8,  9, 10, 11, 12, 13, 14, 15, 16,\n",
       "       17, 18, 19])"
      ]
     },
     "execution_count": 42,
     "metadata": {},
     "output_type": "execute_result"
    }
   ],
   "source": [
    "x"
   ]
  },
  {
   "cell_type": "code",
   "execution_count": 43,
   "id": "e3dc4626-6f32-46ed-ac37-ba6572f8ce62",
   "metadata": {},
   "outputs": [
    {
     "data": {
      "text/plain": [
       "array([[   0,    0,    0],\n",
       "       [   1,    1,    1],\n",
       "       [   2,    4,    8],\n",
       "       [   3,    9,   27],\n",
       "       [   4,   16,   64],\n",
       "       [   5,   25,  125],\n",
       "       [   6,   36,  216],\n",
       "       [   7,   49,  343],\n",
       "       [   8,   64,  512],\n",
       "       [   9,   81,  729],\n",
       "       [  10,  100, 1000],\n",
       "       [  11,  121, 1331],\n",
       "       [  12,  144, 1728],\n",
       "       [  13,  169, 2197],\n",
       "       [  14,  196, 2744],\n",
       "       [  15,  225, 3375],\n",
       "       [  16,  256, 4096],\n",
       "       [  17,  289, 4913],\n",
       "       [  18,  324, 5832],\n",
       "       [  19,  361, 6859]])"
      ]
     },
     "execution_count": 43,
     "metadata": {},
     "output_type": "execute_result"
    }
   ],
   "source": [
    "X"
   ]
  },
  {
   "cell_type": "code",
   "execution_count": 50,
   "id": "ee378895-472f-4dbb-bb1c-65a98e366623",
   "metadata": {},
   "outputs": [],
   "source": [
    "w_in = np.zeros((1))"
   ]
  },
  {
   "cell_type": "code",
   "execution_count": 51,
   "id": "1a005138-f71c-462b-8141-75a5eb83aa68",
   "metadata": {},
   "outputs": [
    {
     "data": {
      "text/plain": [
       "array([0.])"
      ]
     },
     "execution_count": 51,
     "metadata": {},
     "output_type": "execute_result"
    }
   ],
   "source": [
    "w_in"
   ]
  }
 ],
 "metadata": {
  "kernelspec": {
   "display_name": "Python 3 (ipykernel)",
   "language": "python",
   "name": "python3"
  },
  "language_info": {
   "codemirror_mode": {
    "name": "ipython",
    "version": 3
   },
   "file_extension": ".py",
   "mimetype": "text/x-python",
   "name": "python",
   "nbconvert_exporter": "python",
   "pygments_lexer": "ipython3",
   "version": "3.12.3"
  }
 },
 "nbformat": 4,
 "nbformat_minor": 5
}
